{
 "cells": [
  {
   "cell_type": "code",
   "execution_count": 64,
   "metadata": {},
   "outputs": [],
   "source": [
    "import pandas as pd\n",
    "import numpy as np\n",
    "import matplotlib.pyplot as plt\n",
    "from sklearn.tree import export_graphviz\n",
    "import graphviz \n",
    "import os\n",
    "os.environ[\"PATH\"] += os.pathsep + 'C:/Program Files (x86)/Graphviz2.38/bin/'"
   ]
  },
  {
   "cell_type": "code",
   "execution_count": 9,
   "metadata": {},
   "outputs": [
    {
     "data": {
      "text/plain": [
       "(887, 8)"
      ]
     },
     "execution_count": 9,
     "metadata": {},
     "output_type": "execute_result"
    }
   ],
   "source": [
    "df = pd.read_csv('titanic.csv')\n",
    "df.shape"
   ]
  },
  {
   "cell_type": "code",
   "execution_count": 10,
   "metadata": {},
   "outputs": [
    {
     "data": {
      "text/html": [
       "<div>\n",
       "<style scoped>\n",
       "    .dataframe tbody tr th:only-of-type {\n",
       "        vertical-align: middle;\n",
       "    }\n",
       "\n",
       "    .dataframe tbody tr th {\n",
       "        vertical-align: top;\n",
       "    }\n",
       "\n",
       "    .dataframe thead th {\n",
       "        text-align: right;\n",
       "    }\n",
       "</style>\n",
       "<table border=\"1\" class=\"dataframe\">\n",
       "  <thead>\n",
       "    <tr style=\"text-align: right;\">\n",
       "      <th></th>\n",
       "      <th>Survived</th>\n",
       "      <th>Pclass</th>\n",
       "      <th>Name</th>\n",
       "      <th>Sex</th>\n",
       "      <th>Age</th>\n",
       "      <th>Siblings/Spouses Aboard</th>\n",
       "      <th>Parents/Children Aboard</th>\n",
       "      <th>Fare</th>\n",
       "    </tr>\n",
       "  </thead>\n",
       "  <tbody>\n",
       "    <tr>\n",
       "      <th>0</th>\n",
       "      <td>0</td>\n",
       "      <td>3</td>\n",
       "      <td>Mr. Owen Harris Braund</td>\n",
       "      <td>male</td>\n",
       "      <td>22.0</td>\n",
       "      <td>1</td>\n",
       "      <td>0</td>\n",
       "      <td>7.2500</td>\n",
       "    </tr>\n",
       "    <tr>\n",
       "      <th>1</th>\n",
       "      <td>1</td>\n",
       "      <td>1</td>\n",
       "      <td>Mrs. John Bradley (Florence Briggs Thayer) Cum...</td>\n",
       "      <td>female</td>\n",
       "      <td>38.0</td>\n",
       "      <td>1</td>\n",
       "      <td>0</td>\n",
       "      <td>71.2833</td>\n",
       "    </tr>\n",
       "    <tr>\n",
       "      <th>2</th>\n",
       "      <td>1</td>\n",
       "      <td>3</td>\n",
       "      <td>Miss. Laina Heikkinen</td>\n",
       "      <td>female</td>\n",
       "      <td>26.0</td>\n",
       "      <td>0</td>\n",
       "      <td>0</td>\n",
       "      <td>7.9250</td>\n",
       "    </tr>\n",
       "    <tr>\n",
       "      <th>3</th>\n",
       "      <td>1</td>\n",
       "      <td>1</td>\n",
       "      <td>Mrs. Jacques Heath (Lily May Peel) Futrelle</td>\n",
       "      <td>female</td>\n",
       "      <td>35.0</td>\n",
       "      <td>1</td>\n",
       "      <td>0</td>\n",
       "      <td>53.1000</td>\n",
       "    </tr>\n",
       "    <tr>\n",
       "      <th>4</th>\n",
       "      <td>0</td>\n",
       "      <td>3</td>\n",
       "      <td>Mr. William Henry Allen</td>\n",
       "      <td>male</td>\n",
       "      <td>35.0</td>\n",
       "      <td>0</td>\n",
       "      <td>0</td>\n",
       "      <td>8.0500</td>\n",
       "    </tr>\n",
       "  </tbody>\n",
       "</table>\n",
       "</div>"
      ],
      "text/plain": [
       "   Survived  Pclass                                               Name  \\\n",
       "0         0       3                             Mr. Owen Harris Braund   \n",
       "1         1       1  Mrs. John Bradley (Florence Briggs Thayer) Cum...   \n",
       "2         1       3                              Miss. Laina Heikkinen   \n",
       "3         1       1        Mrs. Jacques Heath (Lily May Peel) Futrelle   \n",
       "4         0       3                            Mr. William Henry Allen   \n",
       "\n",
       "      Sex   Age  Siblings/Spouses Aboard  Parents/Children Aboard     Fare  \n",
       "0    male  22.0                        1                        0   7.2500  \n",
       "1  female  38.0                        1                        0  71.2833  \n",
       "2  female  26.0                        0                        0   7.9250  \n",
       "3  female  35.0                        1                        0  53.1000  \n",
       "4    male  35.0                        0                        0   8.0500  "
      ]
     },
     "execution_count": 10,
     "metadata": {},
     "output_type": "execute_result"
    }
   ],
   "source": [
    "df.head()"
   ]
  },
  {
   "cell_type": "code",
   "execution_count": 11,
   "metadata": {},
   "outputs": [
    {
     "data": {
      "text/plain": [
       "887"
      ]
     },
     "execution_count": 11,
     "metadata": {},
     "output_type": "execute_result"
    }
   ],
   "source": [
    "df.Name.nunique() #유니크한 값을 인덱스로 잡기위해 Name컬럼의 유니크한 값 검색"
   ]
  },
  {
   "cell_type": "code",
   "execution_count": 12,
   "metadata": {},
   "outputs": [],
   "source": [
    "df = df.set_index('Name') #2번이상 실행시 오류발생"
   ]
  },
  {
   "cell_type": "code",
   "execution_count": 13,
   "metadata": {},
   "outputs": [
    {
     "data": {
      "text/html": [
       "<div>\n",
       "<style scoped>\n",
       "    .dataframe tbody tr th:only-of-type {\n",
       "        vertical-align: middle;\n",
       "    }\n",
       "\n",
       "    .dataframe tbody tr th {\n",
       "        vertical-align: top;\n",
       "    }\n",
       "\n",
       "    .dataframe thead th {\n",
       "        text-align: right;\n",
       "    }\n",
       "</style>\n",
       "<table border=\"1\" class=\"dataframe\">\n",
       "  <thead>\n",
       "    <tr style=\"text-align: right;\">\n",
       "      <th></th>\n",
       "      <th>Survived</th>\n",
       "      <th>Pclass</th>\n",
       "      <th>Sex</th>\n",
       "      <th>Age</th>\n",
       "      <th>Siblings/Spouses Aboard</th>\n",
       "      <th>Parents/Children Aboard</th>\n",
       "      <th>Fare</th>\n",
       "    </tr>\n",
       "    <tr>\n",
       "      <th>Name</th>\n",
       "      <th></th>\n",
       "      <th></th>\n",
       "      <th></th>\n",
       "      <th></th>\n",
       "      <th></th>\n",
       "      <th></th>\n",
       "      <th></th>\n",
       "    </tr>\n",
       "  </thead>\n",
       "  <tbody>\n",
       "    <tr>\n",
       "      <th>Mr. Owen Harris Braund</th>\n",
       "      <td>0</td>\n",
       "      <td>3</td>\n",
       "      <td>male</td>\n",
       "      <td>22.0</td>\n",
       "      <td>1</td>\n",
       "      <td>0</td>\n",
       "      <td>7.2500</td>\n",
       "    </tr>\n",
       "    <tr>\n",
       "      <th>Mrs. John Bradley (Florence Briggs Thayer) Cumings</th>\n",
       "      <td>1</td>\n",
       "      <td>1</td>\n",
       "      <td>female</td>\n",
       "      <td>38.0</td>\n",
       "      <td>1</td>\n",
       "      <td>0</td>\n",
       "      <td>71.2833</td>\n",
       "    </tr>\n",
       "    <tr>\n",
       "      <th>Miss. Laina Heikkinen</th>\n",
       "      <td>1</td>\n",
       "      <td>3</td>\n",
       "      <td>female</td>\n",
       "      <td>26.0</td>\n",
       "      <td>0</td>\n",
       "      <td>0</td>\n",
       "      <td>7.9250</td>\n",
       "    </tr>\n",
       "    <tr>\n",
       "      <th>Mrs. Jacques Heath (Lily May Peel) Futrelle</th>\n",
       "      <td>1</td>\n",
       "      <td>1</td>\n",
       "      <td>female</td>\n",
       "      <td>35.0</td>\n",
       "      <td>1</td>\n",
       "      <td>0</td>\n",
       "      <td>53.1000</td>\n",
       "    </tr>\n",
       "    <tr>\n",
       "      <th>Mr. William Henry Allen</th>\n",
       "      <td>0</td>\n",
       "      <td>3</td>\n",
       "      <td>male</td>\n",
       "      <td>35.0</td>\n",
       "      <td>0</td>\n",
       "      <td>0</td>\n",
       "      <td>8.0500</td>\n",
       "    </tr>\n",
       "  </tbody>\n",
       "</table>\n",
       "</div>"
      ],
      "text/plain": [
       "                                                    Survived  Pclass     Sex  \\\n",
       "Name                                                                           \n",
       "Mr. Owen Harris Braund                                     0       3    male   \n",
       "Mrs. John Bradley (Florence Briggs Thayer) Cumings         1       1  female   \n",
       "Miss. Laina Heikkinen                                      1       3  female   \n",
       "Mrs. Jacques Heath (Lily May Peel) Futrelle                1       1  female   \n",
       "Mr. William Henry Allen                                    0       3    male   \n",
       "\n",
       "                                                     Age  \\\n",
       "Name                                                       \n",
       "Mr. Owen Harris Braund                              22.0   \n",
       "Mrs. John Bradley (Florence Briggs Thayer) Cumings  38.0   \n",
       "Miss. Laina Heikkinen                               26.0   \n",
       "Mrs. Jacques Heath (Lily May Peel) Futrelle         35.0   \n",
       "Mr. William Henry Allen                             35.0   \n",
       "\n",
       "                                                    Siblings/Spouses Aboard  \\\n",
       "Name                                                                          \n",
       "Mr. Owen Harris Braund                                                    1   \n",
       "Mrs. John Bradley (Florence Briggs Thayer) Cumings                        1   \n",
       "Miss. Laina Heikkinen                                                     0   \n",
       "Mrs. Jacques Heath (Lily May Peel) Futrelle                               1   \n",
       "Mr. William Henry Allen                                                   0   \n",
       "\n",
       "                                                    Parents/Children Aboard  \\\n",
       "Name                                                                          \n",
       "Mr. Owen Harris Braund                                                    0   \n",
       "Mrs. John Bradley (Florence Briggs Thayer) Cumings                        0   \n",
       "Miss. Laina Heikkinen                                                     0   \n",
       "Mrs. Jacques Heath (Lily May Peel) Futrelle                               0   \n",
       "Mr. William Henry Allen                                                   0   \n",
       "\n",
       "                                                       Fare  \n",
       "Name                                                         \n",
       "Mr. Owen Harris Braund                               7.2500  \n",
       "Mrs. John Bradley (Florence Briggs Thayer) Cumings  71.2833  \n",
       "Miss. Laina Heikkinen                                7.9250  \n",
       "Mrs. Jacques Heath (Lily May Peel) Futrelle         53.1000  \n",
       "Mr. William Henry Allen                              8.0500  "
      ]
     },
     "execution_count": 13,
     "metadata": {},
     "output_type": "execute_result"
    }
   ],
   "source": [
    "df.head()"
   ]
  },
  {
   "cell_type": "code",
   "execution_count": 14,
   "metadata": {},
   "outputs": [],
   "source": [
    "df.columns = ['Survived', 'Pclass', 'Sex', 'Age', 'Siblings', 'Parents', 'Fare']"
   ]
  },
  {
   "cell_type": "code",
   "execution_count": 15,
   "metadata": {},
   "outputs": [
    {
     "data": {
      "text/plain": [
       "0.3855693348365276"
      ]
     },
     "execution_count": 15,
     "metadata": {},
     "output_type": "execute_result"
    }
   ],
   "source": [
    "df.Survived.mean()"
   ]
  },
  {
   "cell_type": "code",
   "execution_count": 18,
   "metadata": {},
   "outputs": [
    {
     "data": {
      "image/png": "[encoded data removed]",
      "text/plain": [
       "<Figure size 360x72 with 1 Axes>"
      ]
     },
     "metadata": {
      "needs_background": "light"
     },
     "output_type": "display_data"
    }
   ],
   "source": [
    "plt.figure(figsize = (5,1))\n",
    "p = plt.hist(df.Age.values) #p = plt.hist(df['Age'].values) 와 동일"
   ]
  },
  {
   "cell_type": "code",
   "execution_count": 21,
   "metadata": {},
   "outputs": [
    {
     "data": {
      "image/png": "[encoded data removed]",
      "text/plain": [
       "<Figure size 360x72 with 1 Axes>"
      ]
     },
     "metadata": {
      "needs_background": "light"
     },
     "output_type": "display_data"
    }
   ],
   "source": [
    "plt.figure(figsize=(5,1))\n",
    "p = plt.hist(df['Pclass'].values, bins=5)"
   ]
  },
  {
   "cell_type": "code",
   "execution_count": 23,
   "metadata": {},
   "outputs": [
    {
     "data": {
      "text/plain": [
       "male      573\n",
       "female    314\n",
       "Name: Sex, dtype: int64"
      ]
     },
     "execution_count": 23,
     "metadata": {},
     "output_type": "execute_result"
    }
   ],
   "source": [
    "df['Sex'].value_counts()"
   ]
  },
  {
   "cell_type": "code",
   "execution_count": 24,
   "metadata": {},
   "outputs": [
    {
     "data": {
      "image/png": "[encoded data removed]",
      "text/plain": [
       "<Figure size 360x144 with 1 Axes>"
      ]
     },
     "metadata": {},
     "output_type": "display_data"
    }
   ],
   "source": [
    "plt.figure(figsize=(5,2))\n",
    "p = plt.pie(df['Sex'].value_counts())"
   ]
  },
  {
   "cell_type": "code",
   "execution_count": 25,
   "metadata": {},
   "outputs": [
    {
     "data": {
      "image/png": "[encoded data removed]",
      "text/plain": [
       "<Figure size 360x72 with 1 Axes>"
      ]
     },
     "metadata": {
      "needs_background": "light"
     },
     "output_type": "display_data"
    }
   ],
   "source": [
    "plt.figure(figsize=(5,1))\n",
    "p = plt.hist(df['Siblings'].values)"
   ]
  },
  {
   "cell_type": "code",
   "execution_count": 26,
   "metadata": {},
   "outputs": [
    {
     "data": {
      "image/png": "[encoded data removed]",
      "text/plain": [
       "<Figure size 432x288 with 1 Axes>"
      ]
     },
     "metadata": {
      "needs_background": "light"
     },
     "output_type": "display_data"
    }
   ],
   "source": [
    "#생존한 사람들을 찾고 그들의 나이분포를 히스토그램으로 표시\n",
    "p = plt.hist(df[df['Survived']==1]['Age'].values, color='red')\n",
    "#사망한 사람들을 찾고 그들의 나이분포를 히스토그램으로 표시\n",
    "p = plt.hist(df[df['Survived']==0]['Age'].values, color='black', alpha = 0.6)"
   ]
  },
  {
   "cell_type": "code",
   "execution_count": 27,
   "metadata": {},
   "outputs": [
    {
     "data": {
      "image/png": "[encoded data removed]",
      "text/plain": [
       "<Figure size 432x288 with 1 Axes>"
      ]
     },
     "metadata": {
      "needs_background": "light"
     },
     "output_type": "display_data"
    }
   ],
   "source": [
    "p = plt.hist(df[df['Sex']=='male']['Survived'].values, color = 'blue')\n",
    "p = plt.hist(df[df['Sex']=='female']['Survived'].values+2, color = 'red', alpha=0.6)"
   ]
  },
  {
   "cell_type": "code",
   "execution_count": 28,
   "metadata": {},
   "outputs": [
    {
     "name": "stdout",
     "output_type": "stream",
     "text": [
      "<class 'pandas.core.frame.DataFrame'>\n",
      "Index: 887 entries, Mr. Owen Harris Braund to Mr. Patrick Dooley\n",
      "Data columns (total 7 columns):\n",
      "Survived    887 non-null int64\n",
      "Pclass      887 non-null int64\n",
      "Sex         887 non-null object\n",
      "Age         887 non-null float64\n",
      "Siblings    887 non-null int64\n",
      "Parents     887 non-null int64\n",
      "Fare        887 non-null float64\n",
      "dtypes: float64(2), int64(4), object(1)\n",
      "memory usage: 95.4+ KB\n"
     ]
    }
   ],
   "source": [
    "df.info()"
   ]
  },
  {
   "cell_type": "code",
   "execution_count": 29,
   "metadata": {},
   "outputs": [],
   "source": [
    "df['Pclass'] = df['Pclass'].astype('object')"
   ]
  },
  {
   "cell_type": "code",
   "execution_count": 30,
   "metadata": {},
   "outputs": [],
   "source": [
    "data = pd.get_dummies(df)"
   ]
  },
  {
   "cell_type": "code",
   "execution_count": 31,
   "metadata": {},
   "outputs": [],
   "source": [
    "X = data.drop(columns = 'Survived')\n",
    "y = data['Survived']"
   ]
  },
  {
   "cell_type": "code",
   "execution_count": 32,
   "metadata": {},
   "outputs": [],
   "source": [
    "from sklearn.tree import DecisionTreeClassifier\n",
    "model = DecisionTreeClassifier(max_depth = 4).fit(X,y)"
   ]
  },
  {
   "cell_type": "code",
   "execution_count": 33,
   "metadata": {},
   "outputs": [
    {
     "data": {
      "text/plain": [
       "0.8489289740698985"
      ]
     },
     "execution_count": 33,
     "metadata": {},
     "output_type": "execute_result"
    }
   ],
   "source": [
    "model.score(X,y)"
   ]
  },
  {
   "cell_type": "code",
   "execution_count": 35,
   "metadata": {},
   "outputs": [
    {
     "data": {
      "image/svg+xml": [
       "<?xml version=\"1.0\" encoding=\"UTF-8\" standalone=\"no\"?>\r\n",
       "<!DOCTYPE svg PUBLIC \"-//W3C//DTD SVG 1.1//EN\"\r\n",
       " \"http://www.w3.org/Graphics/SVG/1.1/DTD/svg11.dtd\">\r\n",
       "<!-- Generated by graphviz version 2.38.0 (20140413.2041)\r\n",
       " -->\r\n",
       "<!-- Title: Tree Pages: 1 -->\r\n",
       "<svg width=\"1878pt\" height=\"477pt\"\r\n",
       " viewBox=\"0.00 0.00 1878.00 477.00\" xmlns=\"http://www.w3.org/2000/svg\" xmlns:xlink=\"http://www.w3.org/1999/xlink\">\r\n",
       "<g id=\"graph0\" class=\"graph\" transform=\"scale(1 1) rotate(0) translate(4 473)\">\r\n",
       "<title>Tree</title>\r\n",
       "<polygon fill=\"white\" stroke=\"none\" points=\"-4,4 -4,-473 1874,-473 1874,4 -4,4\"/>\r\n",
       "<!-- 0 -->\r\n",
       "<g id=\"node1\" class=\"node\"><title>0</title>\r\n",
       "<polygon fill=\"#e58139\" fill-opacity=\"0.372549\" stroke=\"black\" points=\"983,-469 865,-469 865,-401 983,-401 983,-469\"/>\r\n",
       "<text text-anchor=\"middle\" x=\"924\" y=\"-453.8\" font-family=\"Times New Roman,serif\" font-size=\"14.00\">Sex_male &lt;= 0.5</text>\r\n",
       "<text text-anchor=\"middle\" x=\"924\" y=\"-438.8\" font-family=\"Times New Roman,serif\" font-size=\"14.00\">samples = 887</text>\r\n",
       "<text text-anchor=\"middle\" x=\"924\" y=\"-423.8\" font-family=\"Times New Roman,serif\" font-size=\"14.00\">value = [545, 342]</text>\r\n",
       "<text text-anchor=\"middle\" x=\"924\" y=\"-408.8\" font-family=\"Times New Roman,serif\" font-size=\"14.00\">class = Die</text>\r\n",
       "</g>\r\n",
       "<!-- 1 -->\r\n",
       "<g id=\"node2\" class=\"node\"><title>1</title>\r\n",
       "<polygon fill=\"#399de5\" fill-opacity=\"0.650980\" stroke=\"black\" points=\"751.5,-365 640.5,-365 640.5,-297 751.5,-297 751.5,-365\"/>\r\n",
       "<text text-anchor=\"middle\" x=\"696\" y=\"-349.8\" font-family=\"Times New Roman,serif\" font-size=\"14.00\">Pclass_3 &lt;= 0.5</text>\r\n",
       "<text text-anchor=\"middle\" x=\"696\" y=\"-334.8\" font-family=\"Times New Roman,serif\" font-size=\"14.00\">samples = 314</text>\r\n",
       "<text text-anchor=\"middle\" x=\"696\" y=\"-319.8\" font-family=\"Times New Roman,serif\" font-size=\"14.00\">value = [81, 233]</text>\r\n",
       "<text text-anchor=\"middle\" x=\"696\" y=\"-304.8\" font-family=\"Times New Roman,serif\" font-size=\"14.00\">class = Survive</text>\r\n",
       "</g>\r\n",
       "<!-- 0&#45;&gt;1 -->\r\n",
       "<g id=\"edge1\" class=\"edge\"><title>0&#45;&gt;1</title>\r\n",
       "<path fill=\"none\" stroke=\"black\" d=\"M864.988,-407.6C833.164,-393.363 793.822,-375.763 761.108,-361.127\"/>\r\n",
       "<polygon fill=\"black\" stroke=\"black\" points=\"762.185,-357.775 751.628,-356.886 759.326,-364.165 762.185,-357.775\"/>\r\n",
       "<text text-anchor=\"middle\" x=\"760.545\" y=\"-376.541\" font-family=\"Times New Roman,serif\" font-size=\"14.00\">True</text>\r\n",
       "</g>\r\n",
       "<!-- 16 -->\r\n",
       "<g id=\"node17\" class=\"node\"><title>16</title>\r\n",
       "<polygon fill=\"#e58139\" fill-opacity=\"0.764706\" stroke=\"black\" points=\"1215,-365 1097,-365 1097,-297 1215,-297 1215,-365\"/>\r\n",
       "<text text-anchor=\"middle\" x=\"1156\" y=\"-349.8\" font-family=\"Times New Roman,serif\" font-size=\"14.00\">Age &lt;= 13.0</text>\r\n",
       "<text text-anchor=\"middle\" x=\"1156\" y=\"-334.8\" font-family=\"Times New Roman,serif\" font-size=\"14.00\">samples = 573</text>\r\n",
       "<text text-anchor=\"middle\" x=\"1156\" y=\"-319.8\" font-family=\"Times New Roman,serif\" font-size=\"14.00\">value = [464, 109]</text>\r\n",
       "<text text-anchor=\"middle\" x=\"1156\" y=\"-304.8\" font-family=\"Times New Roman,serif\" font-size=\"14.00\">class = Die</text>\r\n",
       "</g>\r\n",
       "<!-- 0&#45;&gt;16 -->\r\n",
       "<g id=\"edge16\" class=\"edge\"><title>0&#45;&gt;16</title>\r\n",
       "<path fill=\"none\" stroke=\"black\" d=\"M983.144,-407.997C1015.05,-393.97 1054.58,-376.591 1087.78,-361.994\"/>\r\n",
       "<polygon fill=\"black\" stroke=\"black\" points=\"1089.22,-365.184 1096.96,-357.955 1086.4,-358.776 1089.22,-365.184\"/>\r\n",
       "<text text-anchor=\"middle\" x=\"1087.9\" y=\"-377.553\" font-family=\"Times New Roman,serif\" font-size=\"14.00\">False</text>\r\n",
       "</g>\r\n",
       "<!-- 2 -->\r\n",
       "<g id=\"node3\" class=\"node\"><title>2</title>\r\n",
       "<polygon fill=\"#399de5\" fill-opacity=\"0.945098\" stroke=\"black\" points=\"396,-261 292,-261 292,-193 396,-193 396,-261\"/>\r\n",
       "<text text-anchor=\"middle\" x=\"344\" y=\"-245.8\" font-family=\"Times New Roman,serif\" font-size=\"14.00\">Age &lt;= 2.5</text>\r\n",
       "<text text-anchor=\"middle\" x=\"344\" y=\"-230.8\" font-family=\"Times New Roman,serif\" font-size=\"14.00\">samples = 170</text>\r\n",
       "<text text-anchor=\"middle\" x=\"344\" y=\"-215.8\" font-family=\"Times New Roman,serif\" font-size=\"14.00\">value = [9, 161]</text>\r\n",
       "<text text-anchor=\"middle\" x=\"344\" y=\"-200.8\" font-family=\"Times New Roman,serif\" font-size=\"14.00\">class = Survive</text>\r\n",
       "</g>\r\n",
       "<!-- 1&#45;&gt;2 -->\r\n",
       "<g id=\"edge2\" class=\"edge\"><title>1&#45;&gt;2</title>\r\n",
       "<path fill=\"none\" stroke=\"black\" d=\"M640.225,-313.838C576.425,-295.351 472.253,-265.164 405.97,-245.957\"/>\r\n",
       "<polygon fill=\"black\" stroke=\"black\" points=\"406.651,-242.511 396.072,-243.089 404.703,-249.234 406.651,-242.511\"/>\r\n",
       "</g>\r\n",
       "<!-- 9 -->\r\n",
       "<g id=\"node10\" class=\"node\"><title>9</title>\r\n",
       "<polygon fill=\"none\" stroke=\"black\" points=\"748,-261 644,-261 644,-193 748,-193 748,-261\"/>\r\n",
       "<text text-anchor=\"middle\" x=\"696\" y=\"-245.8\" font-family=\"Times New Roman,serif\" font-size=\"14.00\">Fare &lt;= 23.35</text>\r\n",
       "<text text-anchor=\"middle\" x=\"696\" y=\"-230.8\" font-family=\"Times New Roman,serif\" font-size=\"14.00\">samples = 144</text>\r\n",
       "<text text-anchor=\"middle\" x=\"696\" y=\"-215.8\" font-family=\"Times New Roman,serif\" font-size=\"14.00\">value = [72, 72]</text>\r\n",
       "<text text-anchor=\"middle\" x=\"696\" y=\"-200.8\" font-family=\"Times New Roman,serif\" font-size=\"14.00\">class = Die</text>\r\n",
       "</g>\r\n",
       "<!-- 1&#45;&gt;9 -->\r\n",
       "<g id=\"edge9\" class=\"edge\"><title>1&#45;&gt;9</title>\r\n",
       "<path fill=\"none\" stroke=\"black\" d=\"M696,-296.884C696,-288.778 696,-279.982 696,-271.472\"/>\r\n",
       "<polygon fill=\"black\" stroke=\"black\" points=\"699.5,-271.299 696,-261.299 692.5,-271.299 699.5,-271.299\"/>\r\n",
       "</g>\r\n",
       "<!-- 3 -->\r\n",
       "<g id=\"node4\" class=\"node\"><title>3</title>\r\n",
       "<polygon fill=\"none\" stroke=\"black\" points=\"215.5,-157 116.5,-157 116.5,-89 215.5,-89 215.5,-157\"/>\r\n",
       "<text text-anchor=\"middle\" x=\"166\" y=\"-141.8\" font-family=\"Times New Roman,serif\" font-size=\"14.00\">Parents &lt;= 1.5</text>\r\n",
       "<text text-anchor=\"middle\" x=\"166\" y=\"-126.8\" font-family=\"Times New Roman,serif\" font-size=\"14.00\">samples = 2</text>\r\n",
       "<text text-anchor=\"middle\" x=\"166\" y=\"-111.8\" font-family=\"Times New Roman,serif\" font-size=\"14.00\">value = [1, 1]</text>\r\n",
       "<text text-anchor=\"middle\" x=\"166\" y=\"-96.8\" font-family=\"Times New Roman,serif\" font-size=\"14.00\">class = Die</text>\r\n",
       "</g>\r\n",
       "<!-- 2&#45;&gt;3 -->\r\n",
       "<g id=\"edge3\" class=\"edge\"><title>2&#45;&gt;3</title>\r\n",
       "<path fill=\"none\" stroke=\"black\" d=\"M291.557,-195.948C270.466,-183.863 246.06,-169.877 224.405,-157.468\"/>\r\n",
       "<polygon fill=\"black\" stroke=\"black\" points=\"226.044,-154.373 215.627,-152.438 222.564,-160.447 226.044,-154.373\"/>\r\n",
       "</g>\r\n",
       "<!-- 6 -->\r\n",
       "<g id=\"node7\" class=\"node\"><title>6</title>\r\n",
       "<polygon fill=\"#399de5\" fill-opacity=\"0.949020\" stroke=\"black\" points=\"396,-157 292,-157 292,-89 396,-89 396,-157\"/>\r\n",
       "<text text-anchor=\"middle\" x=\"344\" y=\"-141.8\" font-family=\"Times New Roman,serif\" font-size=\"14.00\">Fare &lt;= 28.856</text>\r\n",
       "<text text-anchor=\"middle\" x=\"344\" y=\"-126.8\" font-family=\"Times New Roman,serif\" font-size=\"14.00\">samples = 168</text>\r\n",
       "<text text-anchor=\"middle\" x=\"344\" y=\"-111.8\" font-family=\"Times New Roman,serif\" font-size=\"14.00\">value = [8, 160]</text>\r\n",
       "<text text-anchor=\"middle\" x=\"344\" y=\"-96.8\" font-family=\"Times New Roman,serif\" font-size=\"14.00\">class = Survive</text>\r\n",
       "</g>\r\n",
       "<!-- 2&#45;&gt;6 -->\r\n",
       "<g id=\"edge6\" class=\"edge\"><title>2&#45;&gt;6</title>\r\n",
       "<path fill=\"none\" stroke=\"black\" d=\"M344,-192.884C344,-184.778 344,-175.982 344,-167.472\"/>\r\n",
       "<polygon fill=\"black\" stroke=\"black\" points=\"347.5,-167.299 344,-157.299 340.5,-167.299 347.5,-167.299\"/>\r\n",
       "</g>\r\n",
       "<!-- 4 -->\r\n",
       "<g id=\"node5\" class=\"node\"><title>4</title>\r\n",
       "<polygon fill=\"#399de5\" stroke=\"black\" points=\"102,-53 0,-53 0,-0 102,-0 102,-53\"/>\r\n",
       "<text text-anchor=\"middle\" x=\"51\" y=\"-37.8\" font-family=\"Times New Roman,serif\" font-size=\"14.00\">samples = 1</text>\r\n",
       "<text text-anchor=\"middle\" x=\"51\" y=\"-22.8\" font-family=\"Times New Roman,serif\" font-size=\"14.00\">value = [0, 1]</text>\r\n",
       "<text text-anchor=\"middle\" x=\"51\" y=\"-7.8\" font-family=\"Times New Roman,serif\" font-size=\"14.00\">class = Survive</text>\r\n",
       "</g>\r\n",
       "<!-- 3&#45;&gt;4 -->\r\n",
       "<g id=\"edge4\" class=\"edge\"><title>3&#45;&gt;4</title>\r\n",
       "<path fill=\"none\" stroke=\"black\" d=\"M125.779,-88.9485C114.201,-79.4346 101.593,-69.074 90.0848,-59.6175\"/>\r\n",
       "<polygon fill=\"black\" stroke=\"black\" points=\"92.268,-56.8814 82.3198,-53.2367 87.8238,-62.2897 92.268,-56.8814\"/>\r\n",
       "</g>\r\n",
       "<!-- 5 -->\r\n",
       "<g id=\"node6\" class=\"node\"><title>5</title>\r\n",
       "<polygon fill=\"#e58139\" stroke=\"black\" points=\"211.5,-53 120.5,-53 120.5,-0 211.5,-0 211.5,-53\"/>\r\n",
       "<text text-anchor=\"middle\" x=\"166\" y=\"-37.8\" font-family=\"Times New Roman,serif\" font-size=\"14.00\">samples = 1</text>\r\n",
       "<text text-anchor=\"middle\" x=\"166\" y=\"-22.8\" font-family=\"Times New Roman,serif\" font-size=\"14.00\">value = [1, 0]</text>\r\n",
       "<text text-anchor=\"middle\" x=\"166\" y=\"-7.8\" font-family=\"Times New Roman,serif\" font-size=\"14.00\">class = Die</text>\r\n",
       "</g>\r\n",
       "<!-- 3&#45;&gt;5 -->\r\n",
       "<g id=\"edge5\" class=\"edge\"><title>3&#45;&gt;5</title>\r\n",
       "<path fill=\"none\" stroke=\"black\" d=\"M166,-88.9485C166,-80.7153 166,-71.848 166,-63.4814\"/>\r\n",
       "<polygon fill=\"black\" stroke=\"black\" points=\"169.5,-63.2367 166,-53.2367 162.5,-63.2367 169.5,-63.2367\"/>\r\n",
       "</g>\r\n",
       "<!-- 7 -->\r\n",
       "<g id=\"node8\" class=\"node\"><title>7</title>\r\n",
       "<polygon fill=\"#399de5\" fill-opacity=\"0.886275\" stroke=\"black\" points=\"332,-53 230,-53 230,-0 332,-0 332,-53\"/>\r\n",
       "<text text-anchor=\"middle\" x=\"281\" y=\"-37.8\" font-family=\"Times New Roman,serif\" font-size=\"14.00\">samples = 69</text>\r\n",
       "<text text-anchor=\"middle\" x=\"281\" y=\"-22.8\" font-family=\"Times New Roman,serif\" font-size=\"14.00\">value = [7, 62]</text>\r\n",
       "<text text-anchor=\"middle\" x=\"281\" y=\"-7.8\" font-family=\"Times New Roman,serif\" font-size=\"14.00\">class = Survive</text>\r\n",
       "</g>\r\n",
       "<!-- 6&#45;&gt;7 -->\r\n",
       "<g id=\"edge7\" class=\"edge\"><title>6&#45;&gt;7</title>\r\n",
       "<path fill=\"none\" stroke=\"black\" d=\"M321.966,-88.9485C316.111,-80.1664 309.775,-70.6629 303.877,-61.815\"/>\r\n",
       "<polygon fill=\"black\" stroke=\"black\" points=\"306.617,-59.6158 298.158,-53.2367 300.793,-63.4987 306.617,-59.6158\"/>\r\n",
       "</g>\r\n",
       "<!-- 8 -->\r\n",
       "<g id=\"node9\" class=\"node\"><title>8</title>\r\n",
       "<polygon fill=\"#399de5\" fill-opacity=\"0.988235\" stroke=\"black\" points=\"452,-53 350,-53 350,-0 452,-0 452,-53\"/>\r\n",
       "<text text-anchor=\"middle\" x=\"401\" y=\"-37.8\" font-family=\"Times New Roman,serif\" font-size=\"14.00\">samples = 99</text>\r\n",
       "<text text-anchor=\"middle\" x=\"401\" y=\"-22.8\" font-family=\"Times New Roman,serif\" font-size=\"14.00\">value = [1, 98]</text>\r\n",
       "<text text-anchor=\"middle\" x=\"401\" y=\"-7.8\" font-family=\"Times New Roman,serif\" font-size=\"14.00\">class = Survive</text>\r\n",
       "</g>\r\n",
       "<!-- 6&#45;&gt;8 -->\r\n",
       "<g id=\"edge8\" class=\"edge\"><title>6&#45;&gt;8</title>\r\n",
       "<path fill=\"none\" stroke=\"black\" d=\"M363.936,-88.9485C369.233,-80.1664 374.965,-70.6629 380.302,-61.815\"/>\r\n",
       "<polygon fill=\"black\" stroke=\"black\" points=\"383.308,-63.6074 385.476,-53.2367 377.314,-59.9919 383.308,-63.6074\"/>\r\n",
       "</g>\r\n",
       "<!-- 10 -->\r\n",
       "<g id=\"node11\" class=\"node\"><title>10</title>\r\n",
       "<polygon fill=\"#399de5\" fill-opacity=\"0.305882\" stroke=\"black\" points=\"688,-157 584,-157 584,-89 688,-89 688,-157\"/>\r\n",
       "<text text-anchor=\"middle\" x=\"636\" y=\"-141.8\" font-family=\"Times New Roman,serif\" font-size=\"14.00\">Age &lt;= 36.5</text>\r\n",
       "<text text-anchor=\"middle\" x=\"636\" y=\"-126.8\" font-family=\"Times New Roman,serif\" font-size=\"14.00\">samples = 117</text>\r\n",
       "<text text-anchor=\"middle\" x=\"636\" y=\"-111.8\" font-family=\"Times New Roman,serif\" font-size=\"14.00\">value = [48, 69]</text>\r\n",
       "<text text-anchor=\"middle\" x=\"636\" y=\"-96.8\" font-family=\"Times New Roman,serif\" font-size=\"14.00\">class = Survive</text>\r\n",
       "</g>\r\n",
       "<!-- 9&#45;&gt;10 -->\r\n",
       "<g id=\"edge10\" class=\"edge\"><title>9&#45;&gt;10</title>\r\n",
       "<path fill=\"none\" stroke=\"black\" d=\"M676.52,-192.884C671.49,-184.332 666.008,-175.013 660.748,-166.072\"/>\r\n",
       "<polygon fill=\"black\" stroke=\"black\" points=\"663.675,-164.144 655.588,-157.299 657.641,-167.693 663.675,-164.144\"/>\r\n",
       "</g>\r\n",
       "<!-- 13 -->\r\n",
       "<g id=\"node14\" class=\"node\"><title>13</title>\r\n",
       "<polygon fill=\"#e58139\" fill-opacity=\"0.874510\" stroke=\"black\" points=\"805.5,-157 706.5,-157 706.5,-89 805.5,-89 805.5,-157\"/>\r\n",
       "<text text-anchor=\"middle\" x=\"756\" y=\"-141.8\" font-family=\"Times New Roman,serif\" font-size=\"14.00\">Parents &lt;= 0.5</text>\r\n",
       "<text text-anchor=\"middle\" x=\"756\" y=\"-126.8\" font-family=\"Times New Roman,serif\" font-size=\"14.00\">samples = 27</text>\r\n",
       "<text text-anchor=\"middle\" x=\"756\" y=\"-111.8\" font-family=\"Times New Roman,serif\" font-size=\"14.00\">value = [24, 3]</text>\r\n",
       "<text text-anchor=\"middle\" x=\"756\" y=\"-96.8\" font-family=\"Times New Roman,serif\" font-size=\"14.00\">class = Die</text>\r\n",
       "</g>\r\n",
       "<!-- 9&#45;&gt;13 -->\r\n",
       "<g id=\"edge13\" class=\"edge\"><title>9&#45;&gt;13</title>\r\n",
       "<path fill=\"none\" stroke=\"black\" d=\"M715.48,-192.884C720.51,-184.332 725.992,-175.013 731.252,-166.072\"/>\r\n",
       "<polygon fill=\"black\" stroke=\"black\" points=\"734.359,-167.693 736.412,-157.299 728.325,-164.144 734.359,-167.693\"/>\r\n",
       "</g>\r\n",
       "<!-- 11 -->\r\n",
       "<g id=\"node12\" class=\"node\"><title>11</title>\r\n",
       "<polygon fill=\"#399de5\" fill-opacity=\"0.427451\" stroke=\"black\" points=\"574,-53 470,-53 470,-0 574,-0 574,-53\"/>\r\n",
       "<text text-anchor=\"middle\" x=\"522\" y=\"-37.8\" font-family=\"Times New Roman,serif\" font-size=\"14.00\">samples = 107</text>\r\n",
       "<text text-anchor=\"middle\" x=\"522\" y=\"-22.8\" font-family=\"Times New Roman,serif\" font-size=\"14.00\">value = [39, 68]</text>\r\n",
       "<text text-anchor=\"middle\" x=\"522\" y=\"-7.8\" font-family=\"Times New Roman,serif\" font-size=\"14.00\">class = Survive</text>\r\n",
       "</g>\r\n",
       "<!-- 10&#45;&gt;11 -->\r\n",
       "<g id=\"edge11\" class=\"edge\"><title>10&#45;&gt;11</title>\r\n",
       "<path fill=\"none\" stroke=\"black\" d=\"M596.128,-88.9485C584.762,-79.526 572.393,-69.2731 561.074,-59.8906\"/>\r\n",
       "<polygon fill=\"black\" stroke=\"black\" points=\"562.98,-56.924 553.047,-53.2367 558.513,-62.3132 562.98,-56.924\"/>\r\n",
       "</g>\r\n",
       "<!-- 12 -->\r\n",
       "<g id=\"node13\" class=\"node\"><title>12</title>\r\n",
       "<polygon fill=\"#e58139\" fill-opacity=\"0.890196\" stroke=\"black\" points=\"683.5,-53 592.5,-53 592.5,-0 683.5,-0 683.5,-53\"/>\r\n",
       "<text text-anchor=\"middle\" x=\"638\" y=\"-37.8\" font-family=\"Times New Roman,serif\" font-size=\"14.00\">samples = 10</text>\r\n",
       "<text text-anchor=\"middle\" x=\"638\" y=\"-22.8\" font-family=\"Times New Roman,serif\" font-size=\"14.00\">value = [9, 1]</text>\r\n",
       "<text text-anchor=\"middle\" x=\"638\" y=\"-7.8\" font-family=\"Times New Roman,serif\" font-size=\"14.00\">class = Die</text>\r\n",
       "</g>\r\n",
       "<!-- 10&#45;&gt;12 -->\r\n",
       "<g id=\"edge12\" class=\"edge\"><title>10&#45;&gt;12</title>\r\n",
       "<path fill=\"none\" stroke=\"black\" d=\"M636.7,-88.9485C636.874,-80.7153 637.061,-71.848 637.238,-63.4814\"/>\r\n",
       "<polygon fill=\"black\" stroke=\"black\" points=\"640.743,-63.3086 637.455,-53.2367 633.744,-63.1604 640.743,-63.3086\"/>\r\n",
       "</g>\r\n",
       "<!-- 14 -->\r\n",
       "<g id=\"node15\" class=\"node\"><title>14</title>\r\n",
       "<polygon fill=\"#399de5\" stroke=\"black\" points=\"804,-53 702,-53 702,-0 804,-0 804,-53\"/>\r\n",
       "<text text-anchor=\"middle\" x=\"753\" y=\"-37.8\" font-family=\"Times New Roman,serif\" font-size=\"14.00\">samples = 1</text>\r\n",
       "<text text-anchor=\"middle\" x=\"753\" y=\"-22.8\" font-family=\"Times New Roman,serif\" font-size=\"14.00\">value = [0, 1]</text>\r\n",
       "<text text-anchor=\"middle\" x=\"753\" y=\"-7.8\" font-family=\"Times New Roman,serif\" font-size=\"14.00\">class = Survive</text>\r\n",
       "</g>\r\n",
       "<!-- 13&#45;&gt;14 -->\r\n",
       "<g id=\"edge14\" class=\"edge\"><title>13&#45;&gt;14</title>\r\n",
       "<path fill=\"none\" stroke=\"black\" d=\"M754.951,-88.9485C754.689,-80.7153 754.408,-71.848 754.142,-63.4814\"/>\r\n",
       "<polygon fill=\"black\" stroke=\"black\" points=\"757.633,-63.1206 753.817,-53.2367 750.636,-63.3428 757.633,-63.1206\"/>\r\n",
       "</g>\r\n",
       "<!-- 15 -->\r\n",
       "<g id=\"node16\" class=\"node\"><title>15</title>\r\n",
       "<polygon fill=\"#e58139\" fill-opacity=\"0.917647\" stroke=\"black\" points=\"920,-53 822,-53 822,-0 920,-0 920,-53\"/>\r\n",
       "<text text-anchor=\"middle\" x=\"871\" y=\"-37.8\" font-family=\"Times New Roman,serif\" font-size=\"14.00\">samples = 26</text>\r\n",
       "<text text-anchor=\"middle\" x=\"871\" y=\"-22.8\" font-family=\"Times New Roman,serif\" font-size=\"14.00\">value = [24, 2]</text>\r\n",
       "<text text-anchor=\"middle\" x=\"871\" y=\"-7.8\" font-family=\"Times New Roman,serif\" font-size=\"14.00\">class = Die</text>\r\n",
       "</g>\r\n",
       "<!-- 13&#45;&gt;15 -->\r\n",
       "<g id=\"edge15\" class=\"edge\"><title>13&#45;&gt;15</title>\r\n",
       "<path fill=\"none\" stroke=\"black\" d=\"M796.221,-88.9485C807.799,-79.4346 820.407,-69.074 831.915,-59.6175\"/>\r\n",
       "<polygon fill=\"black\" stroke=\"black\" points=\"834.176,-62.2897 839.68,-53.2367 829.732,-56.8814 834.176,-62.2897\"/>\r\n",
       "</g>\r\n",
       "<!-- 17 -->\r\n",
       "<g id=\"node18\" class=\"node\"><title>17</title>\r\n",
       "<polygon fill=\"#399de5\" fill-opacity=\"0.215686\" stroke=\"black\" points=\"1208,-261 1104,-261 1104,-193 1208,-193 1208,-261\"/>\r\n",
       "<text text-anchor=\"middle\" x=\"1156\" y=\"-245.8\" font-family=\"Times New Roman,serif\" font-size=\"14.00\">Siblings &lt;= 2.5</text>\r\n",
       "<text text-anchor=\"middle\" x=\"1156\" y=\"-230.8\" font-family=\"Times New Roman,serif\" font-size=\"14.00\">samples = 41</text>\r\n",
       "<text text-anchor=\"middle\" x=\"1156\" y=\"-215.8\" font-family=\"Times New Roman,serif\" font-size=\"14.00\">value = [18, 23]</text>\r\n",
       "<text text-anchor=\"middle\" x=\"1156\" y=\"-200.8\" font-family=\"Times New Roman,serif\" font-size=\"14.00\">class = Survive</text>\r\n",
       "</g>\r\n",
       "<!-- 16&#45;&gt;17 -->\r\n",
       "<g id=\"edge17\" class=\"edge\"><title>16&#45;&gt;17</title>\r\n",
       "<path fill=\"none\" stroke=\"black\" d=\"M1156,-296.884C1156,-288.778 1156,-279.982 1156,-271.472\"/>\r\n",
       "<polygon fill=\"black\" stroke=\"black\" points=\"1159.5,-271.299 1156,-261.299 1152.5,-271.299 1159.5,-271.299\"/>\r\n",
       "</g>\r\n",
       "<!-- 24 -->\r\n",
       "<g id=\"node25\" class=\"node\"><title>24</title>\r\n",
       "<polygon fill=\"#e58139\" fill-opacity=\"0.807843\" stroke=\"black\" points=\"1565.5,-261 1454.5,-261 1454.5,-193 1565.5,-193 1565.5,-261\"/>\r\n",
       "<text text-anchor=\"middle\" x=\"1510\" y=\"-245.8\" font-family=\"Times New Roman,serif\" font-size=\"14.00\">Fare &lt;= 26.269</text>\r\n",
       "<text text-anchor=\"middle\" x=\"1510\" y=\"-230.8\" font-family=\"Times New Roman,serif\" font-size=\"14.00\">samples = 532</text>\r\n",
       "<text text-anchor=\"middle\" x=\"1510\" y=\"-215.8\" font-family=\"Times New Roman,serif\" font-size=\"14.00\">value = [446, 86]</text>\r\n",
       "<text text-anchor=\"middle\" x=\"1510\" y=\"-200.8\" font-family=\"Times New Roman,serif\" font-size=\"14.00\">class = Die</text>\r\n",
       "</g>\r\n",
       "<!-- 16&#45;&gt;24 -->\r\n",
       "<g id=\"edge24\" class=\"edge\"><title>16&#45;&gt;24</title>\r\n",
       "<path fill=\"none\" stroke=\"black\" d=\"M1215.25,-312.927C1278.62,-294.668 1378.85,-265.788 1444.52,-246.867\"/>\r\n",
       "<polygon fill=\"black\" stroke=\"black\" points=\"1445.71,-250.166 1454.35,-244.034 1443.77,-243.44 1445.71,-250.166\"/>\r\n",
       "</g>\r\n",
       "<!-- 18 -->\r\n",
       "<g id=\"node19\" class=\"node\"><title>18</title>\r\n",
       "<polygon fill=\"#399de5\" fill-opacity=\"0.952941\" stroke=\"black\" points=\"1148,-157 1046,-157 1046,-89 1148,-89 1148,-157\"/>\r\n",
       "<text text-anchor=\"middle\" x=\"1097\" y=\"-141.8\" font-family=\"Times New Roman,serif\" font-size=\"14.00\">Parents &lt;= 0.5</text>\r\n",
       "<text text-anchor=\"middle\" x=\"1097\" y=\"-126.8\" font-family=\"Times New Roman,serif\" font-size=\"14.00\">samples = 23</text>\r\n",
       "<text text-anchor=\"middle\" x=\"1097\" y=\"-111.8\" font-family=\"Times New Roman,serif\" font-size=\"14.00\">value = [1, 22]</text>\r\n",
       "<text text-anchor=\"middle\" x=\"1097\" y=\"-96.8\" font-family=\"Times New Roman,serif\" font-size=\"14.00\">class = Survive</text>\r\n",
       "</g>\r\n",
       "<!-- 17&#45;&gt;18 -->\r\n",
       "<g id=\"edge18\" class=\"edge\"><title>17&#45;&gt;18</title>\r\n",
       "<path fill=\"none\" stroke=\"black\" d=\"M1136.84,-192.884C1131.9,-184.332 1126.51,-175.013 1121.34,-166.072\"/>\r\n",
       "<polygon fill=\"black\" stroke=\"black\" points=\"1124.3,-164.203 1116.26,-157.299 1118.24,-167.708 1124.3,-164.203\"/>\r\n",
       "</g>\r\n",
       "<!-- 21 -->\r\n",
       "<g id=\"node22\" class=\"node\"><title>21</title>\r\n",
       "<polygon fill=\"#e58139\" fill-opacity=\"0.941176\" stroke=\"black\" points=\"1264,-157 1166,-157 1166,-89 1264,-89 1264,-157\"/>\r\n",
       "<text text-anchor=\"middle\" x=\"1215\" y=\"-141.8\" font-family=\"Times New Roman,serif\" font-size=\"14.00\">Age &lt;= 3.5</text>\r\n",
       "<text text-anchor=\"middle\" x=\"1215\" y=\"-126.8\" font-family=\"Times New Roman,serif\" font-size=\"14.00\">samples = 18</text>\r\n",
       "<text text-anchor=\"middle\" x=\"1215\" y=\"-111.8\" font-family=\"Times New Roman,serif\" font-size=\"14.00\">value = [17, 1]</text>\r\n",
       "<text text-anchor=\"middle\" x=\"1215\" y=\"-96.8\" font-family=\"Times New Roman,serif\" font-size=\"14.00\">class = Die</text>\r\n",
       "</g>\r\n",
       "<!-- 17&#45;&gt;21 -->\r\n",
       "<g id=\"edge21\" class=\"edge\"><title>17&#45;&gt;21</title>\r\n",
       "<path fill=\"none\" stroke=\"black\" d=\"M1175.16,-192.884C1180.1,-184.332 1185.49,-175.013 1190.66,-166.072\"/>\r\n",
       "<polygon fill=\"black\" stroke=\"black\" points=\"1193.76,-167.708 1195.74,-157.299 1187.7,-164.203 1193.76,-167.708\"/>\r\n",
       "</g>\r\n",
       "<!-- 19 -->\r\n",
       "<g id=\"node20\" class=\"node\"><title>19</title>\r\n",
       "<polygon fill=\"none\" stroke=\"black\" points=\"1029.5,-53 938.5,-53 938.5,-0 1029.5,-0 1029.5,-53\"/>\r\n",
       "<text text-anchor=\"middle\" x=\"984\" y=\"-37.8\" font-family=\"Times New Roman,serif\" font-size=\"14.00\">samples = 2</text>\r\n",
       "<text text-anchor=\"middle\" x=\"984\" y=\"-22.8\" font-family=\"Times New Roman,serif\" font-size=\"14.00\">value = [1, 1]</text>\r\n",
       "<text text-anchor=\"middle\" x=\"984\" y=\"-7.8\" font-family=\"Times New Roman,serif\" font-size=\"14.00\">class = Die</text>\r\n",
       "</g>\r\n",
       "<!-- 18&#45;&gt;19 -->\r\n",
       "<g id=\"edge19\" class=\"edge\"><title>18&#45;&gt;19</title>\r\n",
       "<path fill=\"none\" stroke=\"black\" d=\"M1057.48,-88.9485C1046.21,-79.526 1033.95,-69.2731 1022.73,-59.8906\"/>\r\n",
       "<polygon fill=\"black\" stroke=\"black\" points=\"1024.69,-56.967 1014.78,-53.2367 1020.2,-62.3368 1024.69,-56.967\"/>\r\n",
       "</g>\r\n",
       "<!-- 20 -->\r\n",
       "<g id=\"node21\" class=\"node\"><title>20</title>\r\n",
       "<polygon fill=\"#399de5\" stroke=\"black\" points=\"1150,-53 1048,-53 1048,-0 1150,-0 1150,-53\"/>\r\n",
       "<text text-anchor=\"middle\" x=\"1099\" y=\"-37.8\" font-family=\"Times New Roman,serif\" font-size=\"14.00\">samples = 21</text>\r\n",
       "<text text-anchor=\"middle\" x=\"1099\" y=\"-22.8\" font-family=\"Times New Roman,serif\" font-size=\"14.00\">value = [0, 21]</text>\r\n",
       "<text text-anchor=\"middle\" x=\"1099\" y=\"-7.8\" font-family=\"Times New Roman,serif\" font-size=\"14.00\">class = Survive</text>\r\n",
       "</g>\r\n",
       "<!-- 18&#45;&gt;20 -->\r\n",
       "<g id=\"edge20\" class=\"edge\"><title>18&#45;&gt;20</title>\r\n",
       "<path fill=\"none\" stroke=\"black\" d=\"M1097.7,-88.9485C1097.87,-80.7153 1098.06,-71.848 1098.24,-63.4814\"/>\r\n",
       "<polygon fill=\"black\" stroke=\"black\" points=\"1101.74,-63.3086 1098.46,-53.2367 1094.74,-63.1604 1101.74,-63.3086\"/>\r\n",
       "</g>\r\n",
       "<!-- 22 -->\r\n",
       "<g id=\"node23\" class=\"node\"><title>22</title>\r\n",
       "<polygon fill=\"#e58139\" fill-opacity=\"0.800000\" stroke=\"black\" points=\"1259.5,-53 1168.5,-53 1168.5,-0 1259.5,-0 1259.5,-53\"/>\r\n",
       "<text text-anchor=\"middle\" x=\"1214\" y=\"-37.8\" font-family=\"Times New Roman,serif\" font-size=\"14.00\">samples = 6</text>\r\n",
       "<text text-anchor=\"middle\" x=\"1214\" y=\"-22.8\" font-family=\"Times New Roman,serif\" font-size=\"14.00\">value = [5, 1]</text>\r\n",
       "<text text-anchor=\"middle\" x=\"1214\" y=\"-7.8\" font-family=\"Times New Roman,serif\" font-size=\"14.00\">class = Die</text>\r\n",
       "</g>\r\n",
       "<!-- 21&#45;&gt;22 -->\r\n",
       "<g id=\"edge22\" class=\"edge\"><title>21&#45;&gt;22</title>\r\n",
       "<path fill=\"none\" stroke=\"black\" d=\"M1214.65,-88.9485C1214.56,-80.7153 1214.47,-71.848 1214.38,-63.4814\"/>\r\n",
       "<polygon fill=\"black\" stroke=\"black\" points=\"1217.88,-63.1991 1214.27,-53.2367 1210.88,-63.2732 1217.88,-63.1991\"/>\r\n",
       "</g>\r\n",
       "<!-- 23 -->\r\n",
       "<g id=\"node24\" class=\"node\"><title>23</title>\r\n",
       "<polygon fill=\"#e58139\" stroke=\"black\" points=\"1376,-53 1278,-53 1278,-0 1376,-0 1376,-53\"/>\r\n",
       "<text text-anchor=\"middle\" x=\"1327\" y=\"-37.8\" font-family=\"Times New Roman,serif\" font-size=\"14.00\">samples = 12</text>\r\n",
       "<text text-anchor=\"middle\" x=\"1327\" y=\"-22.8\" font-family=\"Times New Roman,serif\" font-size=\"14.00\">value = [12, 0]</text>\r\n",
       "<text text-anchor=\"middle\" x=\"1327\" y=\"-7.8\" font-family=\"Times New Roman,serif\" font-size=\"14.00\">class = Die</text>\r\n",
       "</g>\r\n",
       "<!-- 21&#45;&gt;23 -->\r\n",
       "<g id=\"edge23\" class=\"edge\"><title>21&#45;&gt;23</title>\r\n",
       "<path fill=\"none\" stroke=\"black\" d=\"M1254.17,-88.9485C1265.34,-79.526 1277.49,-69.2731 1288.61,-59.8906\"/>\r\n",
       "<polygon fill=\"black\" stroke=\"black\" points=\"1291.11,-62.3605 1296.5,-53.2367 1286.6,-57.0104 1291.11,-62.3605\"/>\r\n",
       "</g>\r\n",
       "<!-- 25 -->\r\n",
       "<g id=\"node26\" class=\"node\"><title>25</title>\r\n",
       "<polygon fill=\"#e58139\" fill-opacity=\"0.890196\" stroke=\"black\" points=\"1565.5,-157 1454.5,-157 1454.5,-89 1565.5,-89 1565.5,-157\"/>\r\n",
       "<text text-anchor=\"middle\" x=\"1510\" y=\"-141.8\" font-family=\"Times New Roman,serif\" font-size=\"14.00\">Age &lt;= 32.5</text>\r\n",
       "<text text-anchor=\"middle\" x=\"1510\" y=\"-126.8\" font-family=\"Times New Roman,serif\" font-size=\"14.00\">samples = 393</text>\r\n",
       "<text text-anchor=\"middle\" x=\"1510\" y=\"-111.8\" font-family=\"Times New Roman,serif\" font-size=\"14.00\">value = [354, 39]</text>\r\n",
       "<text text-anchor=\"middle\" x=\"1510\" y=\"-96.8\" font-family=\"Times New Roman,serif\" font-size=\"14.00\">class = Die</text>\r\n",
       "</g>\r\n",
       "<!-- 24&#45;&gt;25 -->\r\n",
       "<g id=\"edge25\" class=\"edge\"><title>24&#45;&gt;25</title>\r\n",
       "<path fill=\"none\" stroke=\"black\" d=\"M1510,-192.884C1510,-184.778 1510,-175.982 1510,-167.472\"/>\r\n",
       "<polygon fill=\"black\" stroke=\"black\" points=\"1513.5,-167.299 1510,-157.299 1506.5,-167.299 1513.5,-167.299\"/>\r\n",
       "</g>\r\n",
       "<!-- 28 -->\r\n",
       "<g id=\"node29\" class=\"node\"><title>28</title>\r\n",
       "<polygon fill=\"#e58139\" fill-opacity=\"0.490196\" stroke=\"black\" points=\"1749,-157 1645,-157 1645,-89 1749,-89 1749,-157\"/>\r\n",
       "<text text-anchor=\"middle\" x=\"1697\" y=\"-141.8\" font-family=\"Times New Roman,serif\" font-size=\"14.00\">Fare &lt;= 26.469</text>\r\n",
       "<text text-anchor=\"middle\" x=\"1697\" y=\"-126.8\" font-family=\"Times New Roman,serif\" font-size=\"14.00\">samples = 139</text>\r\n",
       "<text text-anchor=\"middle\" x=\"1697\" y=\"-111.8\" font-family=\"Times New Roman,serif\" font-size=\"14.00\">value = [92, 47]</text>\r\n",
       "<text text-anchor=\"middle\" x=\"1697\" y=\"-96.8\" font-family=\"Times New Roman,serif\" font-size=\"14.00\">class = Die</text>\r\n",
       "</g>\r\n",
       "<!-- 24&#45;&gt;28 -->\r\n",
       "<g id=\"edge28\" class=\"edge\"><title>24&#45;&gt;28</title>\r\n",
       "<path fill=\"none\" stroke=\"black\" d=\"M1565.6,-195.673C1587.75,-183.593 1613.31,-169.652 1635.96,-157.294\"/>\r\n",
       "<polygon fill=\"black\" stroke=\"black\" points=\"1637.71,-160.325 1644.82,-152.464 1634.36,-154.18 1637.71,-160.325\"/>\r\n",
       "</g>\r\n",
       "<!-- 26 -->\r\n",
       "<g id=\"node27\" class=\"node\"><title>26</title>\r\n",
       "<polygon fill=\"#e58139\" fill-opacity=\"0.858824\" stroke=\"black\" points=\"1505.5,-53 1394.5,-53 1394.5,-0 1505.5,-0 1505.5,-53\"/>\r\n",
       "<text text-anchor=\"middle\" x=\"1450\" y=\"-37.8\" font-family=\"Times New Roman,serif\" font-size=\"14.00\">samples = 267</text>\r\n",
       "<text text-anchor=\"middle\" x=\"1450\" y=\"-22.8\" font-family=\"Times New Roman,serif\" font-size=\"14.00\">value = [234, 33]</text>\r\n",
       "<text text-anchor=\"middle\" x=\"1450\" y=\"-7.8\" font-family=\"Times New Roman,serif\" font-size=\"14.00\">class = Die</text>\r\n",
       "</g>\r\n",
       "<!-- 25&#45;&gt;26 -->\r\n",
       "<g id=\"edge26\" class=\"edge\"><title>25&#45;&gt;26</title>\r\n",
       "<path fill=\"none\" stroke=\"black\" d=\"M1489.01,-88.9485C1483.44,-80.1664 1477.41,-70.6629 1471.79,-61.815\"/>\r\n",
       "<polygon fill=\"black\" stroke=\"black\" points=\"1474.66,-59.8028 1466.34,-53.2367 1468.75,-63.5549 1474.66,-59.8028\"/>\r\n",
       "</g>\r\n",
       "<!-- 27 -->\r\n",
       "<g id=\"node28\" class=\"node\"><title>27</title>\r\n",
       "<polygon fill=\"#e58139\" fill-opacity=\"0.949020\" stroke=\"black\" points=\"1628,-53 1524,-53 1524,-0 1628,-0 1628,-53\"/>\r\n",
       "<text text-anchor=\"middle\" x=\"1576\" y=\"-37.8\" font-family=\"Times New Roman,serif\" font-size=\"14.00\">samples = 126</text>\r\n",
       "<text text-anchor=\"middle\" x=\"1576\" y=\"-22.8\" font-family=\"Times New Roman,serif\" font-size=\"14.00\">value = [120, 6]</text>\r\n",
       "<text text-anchor=\"middle\" x=\"1576\" y=\"-7.8\" font-family=\"Times New Roman,serif\" font-size=\"14.00\">class = Die</text>\r\n",
       "</g>\r\n",
       "<!-- 25&#45;&gt;27 -->\r\n",
       "<g id=\"edge27\" class=\"edge\"><title>25&#45;&gt;27</title>\r\n",
       "<path fill=\"none\" stroke=\"black\" d=\"M1533.08,-88.9485C1539.28,-80.0749 1545.99,-70.4648 1552.23,-61.5388\"/>\r\n",
       "<polygon fill=\"black\" stroke=\"black\" points=\"1555.17,-63.4392 1558.03,-53.2367 1549.43,-59.4311 1555.17,-63.4392\"/>\r\n",
       "</g>\r\n",
       "<!-- 29 -->\r\n",
       "<g id=\"node30\" class=\"node\"><title>29</title>\r\n",
       "<polygon fill=\"#399de5\" stroke=\"black\" points=\"1748,-53 1646,-53 1646,-0 1748,-0 1748,-53\"/>\r\n",
       "<text text-anchor=\"middle\" x=\"1697\" y=\"-37.8\" font-family=\"Times New Roman,serif\" font-size=\"14.00\">samples = 4</text>\r\n",
       "<text text-anchor=\"middle\" x=\"1697\" y=\"-22.8\" font-family=\"Times New Roman,serif\" font-size=\"14.00\">value = [0, 4]</text>\r\n",
       "<text text-anchor=\"middle\" x=\"1697\" y=\"-7.8\" font-family=\"Times New Roman,serif\" font-size=\"14.00\">class = Survive</text>\r\n",
       "</g>\r\n",
       "<!-- 28&#45;&gt;29 -->\r\n",
       "<g id=\"edge29\" class=\"edge\"><title>28&#45;&gt;29</title>\r\n",
       "<path fill=\"none\" stroke=\"black\" d=\"M1697,-88.9485C1697,-80.7153 1697,-71.848 1697,-63.4814\"/>\r\n",
       "<polygon fill=\"black\" stroke=\"black\" points=\"1700.5,-63.2367 1697,-53.2367 1693.5,-63.2367 1700.5,-63.2367\"/>\r\n",
       "</g>\r\n",
       "<!-- 30 -->\r\n",
       "<g id=\"node31\" class=\"node\"><title>30</title>\r\n",
       "<polygon fill=\"#e58139\" fill-opacity=\"0.533333\" stroke=\"black\" points=\"1870,-53 1766,-53 1766,-0 1870,-0 1870,-53\"/>\r\n",
       "<text text-anchor=\"middle\" x=\"1818\" y=\"-37.8\" font-family=\"Times New Roman,serif\" font-size=\"14.00\">samples = 135</text>\r\n",
       "<text text-anchor=\"middle\" x=\"1818\" y=\"-22.8\" font-family=\"Times New Roman,serif\" font-size=\"14.00\">value = [92, 43]</text>\r\n",
       "<text text-anchor=\"middle\" x=\"1818\" y=\"-7.8\" font-family=\"Times New Roman,serif\" font-size=\"14.00\">class = Die</text>\r\n",
       "</g>\r\n",
       "<!-- 28&#45;&gt;30 -->\r\n",
       "<g id=\"edge30\" class=\"edge\"><title>28&#45;&gt;30</title>\r\n",
       "<path fill=\"none\" stroke=\"black\" d=\"M1739.32,-88.9485C1751.5,-79.4346 1764.77,-69.074 1776.88,-59.6175\"/>\r\n",
       "<polygon fill=\"black\" stroke=\"black\" points=\"1779.32,-62.1504 1785.05,-53.2367 1775.01,-56.6335 1779.32,-62.1504\"/>\r\n",
       "</g>\r\n",
       "</g>\r\n",
       "</svg>\r\n"
      ],
      "text/plain": [
       "<graphviz.files.Source at 0x14cb8b20cc0>"
      ]
     },
     "metadata": {},
     "output_type": "display_data"
    }
   ],
   "source": [
    "export_graphviz(model, out_file = 'titanic.dot', class_names=['Die', 'Survive'], \n",
    "               feature_names = X.columns, impurity=False, filled = True)\n",
    "with open('titanic.dot') as f:\n",
    "    dot_graph = f.read()\n",
    "g = graphviz.Source(dot_graph)\n",
    "display(g)"
   ]
  },
  {
   "cell_type": "code",
   "execution_count": null,
   "metadata": {},
   "outputs": [],
   "source": []
  },
  {
   "cell_type": "code",
   "execution_count": 76,
   "metadata": {},
   "outputs": [
    {
     "data": {
      "text/plain": [
       "(241, 6)"
      ]
     },
     "execution_count": 76,
     "metadata": {},
     "output_type": "execute_result"
    }
   ],
   "source": [
    "f = 'huawei.csv'\n",
    "df = pd.read_csv(f, encoding='cp949', index_col=0)\n",
    "df.shape"
   ]
  },
  {
   "cell_type": "code",
   "execution_count": 77,
   "metadata": {},
   "outputs": [
    {
     "data": {
      "text/html": [
       "<div>\n",
       "<style scoped>\n",
       "    .dataframe tbody tr th:only-of-type {\n",
       "        vertical-align: middle;\n",
       "    }\n",
       "\n",
       "    .dataframe tbody tr th {\n",
       "        vertical-align: top;\n",
       "    }\n",
       "\n",
       "    .dataframe thead th {\n",
       "        text-align: right;\n",
       "    }\n",
       "</style>\n",
       "<table border=\"1\" class=\"dataframe\">\n",
       "  <thead>\n",
       "    <tr style=\"text-align: right;\">\n",
       "      <th></th>\n",
       "      <th>Open</th>\n",
       "      <th>High</th>\n",
       "      <th>Low</th>\n",
       "      <th>Close</th>\n",
       "      <th>Adj Close</th>\n",
       "      <th>Volume</th>\n",
       "    </tr>\n",
       "    <tr>\n",
       "      <th>Date</th>\n",
       "      <th></th>\n",
       "      <th></th>\n",
       "      <th></th>\n",
       "      <th></th>\n",
       "      <th></th>\n",
       "      <th></th>\n",
       "    </tr>\n",
       "  </thead>\n",
       "  <tbody>\n",
       "    <tr>\n",
       "      <th>2018-07-02</th>\n",
       "      <td>5.82</td>\n",
       "      <td>5.82</td>\n",
       "      <td>5.82</td>\n",
       "      <td>5.82</td>\n",
       "      <td>5.82</td>\n",
       "      <td>0</td>\n",
       "    </tr>\n",
       "    <tr>\n",
       "      <th>2018-07-03</th>\n",
       "      <td>5.82</td>\n",
       "      <td>5.82</td>\n",
       "      <td>5.82</td>\n",
       "      <td>5.82</td>\n",
       "      <td>5.82</td>\n",
       "      <td>0</td>\n",
       "    </tr>\n",
       "    <tr>\n",
       "      <th>2018-07-04</th>\n",
       "      <td>5.82</td>\n",
       "      <td>5.82</td>\n",
       "      <td>5.82</td>\n",
       "      <td>5.82</td>\n",
       "      <td>5.82</td>\n",
       "      <td>0</td>\n",
       "    </tr>\n",
       "    <tr>\n",
       "      <th>2018-07-05</th>\n",
       "      <td>5.82</td>\n",
       "      <td>5.82</td>\n",
       "      <td>5.82</td>\n",
       "      <td>5.82</td>\n",
       "      <td>5.82</td>\n",
       "      <td>0</td>\n",
       "    </tr>\n",
       "    <tr>\n",
       "      <th>2018-07-06</th>\n",
       "      <td>5.82</td>\n",
       "      <td>5.82</td>\n",
       "      <td>5.82</td>\n",
       "      <td>5.82</td>\n",
       "      <td>5.82</td>\n",
       "      <td>0</td>\n",
       "    </tr>\n",
       "  </tbody>\n",
       "</table>\n",
       "</div>"
      ],
      "text/plain": [
       "            Open  High   Low  Close  Adj Close  Volume\n",
       "Date                                                  \n",
       "2018-07-02  5.82  5.82  5.82   5.82       5.82       0\n",
       "2018-07-03  5.82  5.82  5.82   5.82       5.82       0\n",
       "2018-07-04  5.82  5.82  5.82   5.82       5.82       0\n",
       "2018-07-05  5.82  5.82  5.82   5.82       5.82       0\n",
       "2018-07-06  5.82  5.82  5.82   5.82       5.82       0"
      ]
     },
     "execution_count": 77,
     "metadata": {},
     "output_type": "execute_result"
    }
   ],
   "source": [
    "df.head()"
   ]
  },
  {
   "cell_type": "code",
   "execution_count": 78,
   "metadata": {},
   "outputs": [
    {
     "data": {
      "text/html": [
       "<div>\n",
       "<style scoped>\n",
       "    .dataframe tbody tr th:only-of-type {\n",
       "        vertical-align: middle;\n",
       "    }\n",
       "\n",
       "    .dataframe tbody tr th {\n",
       "        vertical-align: top;\n",
       "    }\n",
       "\n",
       "    .dataframe thead th {\n",
       "        text-align: right;\n",
       "    }\n",
       "</style>\n",
       "<table border=\"1\" class=\"dataframe\">\n",
       "  <thead>\n",
       "    <tr style=\"text-align: right;\">\n",
       "      <th></th>\n",
       "      <th>Open</th>\n",
       "      <th>High</th>\n",
       "      <th>Low</th>\n",
       "      <th>Close</th>\n",
       "      <th>Adj Close</th>\n",
       "    </tr>\n",
       "    <tr>\n",
       "      <th>Date</th>\n",
       "      <th></th>\n",
       "      <th></th>\n",
       "      <th></th>\n",
       "      <th></th>\n",
       "      <th></th>\n",
       "    </tr>\n",
       "  </thead>\n",
       "  <tbody>\n",
       "    <tr>\n",
       "      <th>2018-07-02</th>\n",
       "      <td>5.82</td>\n",
       "      <td>5.82</td>\n",
       "      <td>5.82</td>\n",
       "      <td>5.82</td>\n",
       "      <td>5.82</td>\n",
       "    </tr>\n",
       "    <tr>\n",
       "      <th>2018-07-03</th>\n",
       "      <td>5.82</td>\n",
       "      <td>5.82</td>\n",
       "      <td>5.82</td>\n",
       "      <td>5.82</td>\n",
       "      <td>5.82</td>\n",
       "    </tr>\n",
       "    <tr>\n",
       "      <th>2018-07-04</th>\n",
       "      <td>5.82</td>\n",
       "      <td>5.82</td>\n",
       "      <td>5.82</td>\n",
       "      <td>5.82</td>\n",
       "      <td>5.82</td>\n",
       "    </tr>\n",
       "    <tr>\n",
       "      <th>2018-07-05</th>\n",
       "      <td>5.82</td>\n",
       "      <td>5.82</td>\n",
       "      <td>5.82</td>\n",
       "      <td>5.82</td>\n",
       "      <td>5.82</td>\n",
       "    </tr>\n",
       "    <tr>\n",
       "      <th>2018-07-06</th>\n",
       "      <td>5.82</td>\n",
       "      <td>5.82</td>\n",
       "      <td>5.82</td>\n",
       "      <td>5.82</td>\n",
       "      <td>5.82</td>\n",
       "    </tr>\n",
       "  </tbody>\n",
       "</table>\n",
       "</div>"
      ],
      "text/plain": [
       "            Open  High   Low  Close  Adj Close\n",
       "Date                                          \n",
       "2018-07-02  5.82  5.82  5.82   5.82       5.82\n",
       "2018-07-03  5.82  5.82  5.82   5.82       5.82\n",
       "2018-07-04  5.82  5.82  5.82   5.82       5.82\n",
       "2018-07-05  5.82  5.82  5.82   5.82       5.82\n",
       "2018-07-06  5.82  5.82  5.82   5.82       5.82"
      ]
     },
     "execution_count": 78,
     "metadata": {},
     "output_type": "execute_result"
    }
   ],
   "source": [
    "df4 = df.iloc[:, :5]\n",
    "df4 = df4.dropna()\n",
    "df4.head()"
   ]
  },
  {
   "cell_type": "code",
   "execution_count": 68,
   "metadata": {},
   "outputs": [],
   "source": [
    "df4 = df4.replace(',', '', regex = True)\n",
    "df4 = df4.astype(np.float)"
   ]
  },
  {
   "cell_type": "code",
   "execution_count": 42,
   "metadata": {},
   "outputs": [],
   "source": [
    "#min max 정규화 [0,1]\n",
    "minimum = np.min(df4, axis=0)\n",
    "maximum = np.max(df4, axis=0)\n",
    "df_norm = (df4 - minimum) / (maximum-minimum)"
   ]
  },
  {
   "cell_type": "code",
   "execution_count": 83,
   "metadata": {},
   "outputs": [
    {
     "data": {
      "text/html": [
       "<div>\n",
       "<style scoped>\n",
       "    .dataframe tbody tr th:only-of-type {\n",
       "        vertical-align: middle;\n",
       "    }\n",
       "\n",
       "    .dataframe tbody tr th {\n",
       "        vertical-align: top;\n",
       "    }\n",
       "\n",
       "    .dataframe thead th {\n",
       "        text-align: right;\n",
       "    }\n",
       "</style>\n",
       "<table border=\"1\" class=\"dataframe\">\n",
       "  <thead>\n",
       "    <tr style=\"text-align: right;\">\n",
       "      <th></th>\n",
       "      <th>Open</th>\n",
       "      <th>High</th>\n",
       "      <th>Low</th>\n",
       "      <th>Close</th>\n",
       "      <th>Adj Close</th>\n",
       "    </tr>\n",
       "    <tr>\n",
       "      <th>Date</th>\n",
       "      <th></th>\n",
       "      <th></th>\n",
       "      <th></th>\n",
       "      <th></th>\n",
       "      <th></th>\n",
       "    </tr>\n",
       "  </thead>\n",
       "  <tbody>\n",
       "    <tr>\n",
       "      <th>2018-07-02</th>\n",
       "      <td>1.0</td>\n",
       "      <td>1.0</td>\n",
       "      <td>1.0</td>\n",
       "      <td>1.0</td>\n",
       "      <td>1.0</td>\n",
       "    </tr>\n",
       "    <tr>\n",
       "      <th>2018-07-03</th>\n",
       "      <td>1.0</td>\n",
       "      <td>1.0</td>\n",
       "      <td>1.0</td>\n",
       "      <td>1.0</td>\n",
       "      <td>1.0</td>\n",
       "    </tr>\n",
       "    <tr>\n",
       "      <th>2018-07-04</th>\n",
       "      <td>1.0</td>\n",
       "      <td>1.0</td>\n",
       "      <td>1.0</td>\n",
       "      <td>1.0</td>\n",
       "      <td>1.0</td>\n",
       "    </tr>\n",
       "    <tr>\n",
       "      <th>2018-07-05</th>\n",
       "      <td>1.0</td>\n",
       "      <td>1.0</td>\n",
       "      <td>1.0</td>\n",
       "      <td>1.0</td>\n",
       "      <td>1.0</td>\n",
       "    </tr>\n",
       "    <tr>\n",
       "      <th>2018-07-06</th>\n",
       "      <td>1.0</td>\n",
       "      <td>1.0</td>\n",
       "      <td>1.0</td>\n",
       "      <td>1.0</td>\n",
       "      <td>1.0</td>\n",
       "    </tr>\n",
       "  </tbody>\n",
       "</table>\n",
       "</div>"
      ],
      "text/plain": [
       "            Open  High  Low  Close  Adj Close\n",
       "Date                                         \n",
       "2018-07-02   1.0   1.0  1.0    1.0        1.0\n",
       "2018-07-03   1.0   1.0  1.0    1.0        1.0\n",
       "2018-07-04   1.0   1.0  1.0    1.0        1.0\n",
       "2018-07-05   1.0   1.0  1.0    1.0        1.0\n",
       "2018-07-06   1.0   1.0  1.0    1.0        1.0"
      ]
     },
     "execution_count": 83,
     "metadata": {},
     "output_type": "execute_result"
    }
   ],
   "source": [
    "X = df_norm.iloc[:-1, :] #예측할수 없으므로 -1 (제일 마지막 행은 제외하고 카운트)\n",
    "y = df_norm.iloc[1:, 0:1] #예측할것이 없기때문에 1\n",
    "X.head()"
   ]
  },
  {
   "cell_type": "code",
   "execution_count": 46,
   "metadata": {},
   "outputs": [
    {
     "data": {
      "text/plain": [
       "241"
      ]
     },
     "execution_count": 46,
     "metadata": {},
     "output_type": "execute_result"
    }
   ],
   "source": [
    "len(df4)"
   ]
  },
  {
   "cell_type": "code",
   "execution_count": 49,
   "metadata": {},
   "outputs": [
    {
     "data": {
      "text/plain": [
       "152"
      ]
     },
     "execution_count": 49,
     "metadata": {},
     "output_type": "execute_result"
    }
   ],
   "source": [
    "input_seq = 60\n",
    "output_seq = 30\n",
    "m = len(df4) - (input_seq + output_seq)+1\n",
    "m"
   ]
  },
  {
   "cell_type": "code",
   "execution_count": 51,
   "metadata": {},
   "outputs": [],
   "source": [
    "df4 = df4/df4.sum()\n",
    "#min_max\n",
    "df4 = (df4-df4.min())/(df4.max()-df4.min()) \n",
    "x_list = []\n",
    "y_list = []\n",
    "for i in range(m): #가장최근 60일, 30일을 기준으로 잡기위함\n",
    "    x = df4.iloc[i:i+input_seq]\n",
    "    y =df4.iloc[i+input_seq:i+input_seq+output_seq][['Open']]\n",
    "    #rint(x.shape, y.shape)\n",
    "    x_list.append(x)\n",
    "    y_list.append(y)"
   ]
  },
  {
   "cell_type": "code",
   "execution_count": 52,
   "metadata": {},
   "outputs": [
    {
     "data": {
      "text/plain": [
       "((152, 60, 5), (152, 30, 1))"
      ]
     },
     "execution_count": 52,
     "metadata": {},
     "output_type": "execute_result"
    }
   ],
   "source": [
    "len(x_list), type(x_list) #(155,60,12)\n",
    "#155개를 스택에 쌓음\n",
    "x_3d = np.stack(x_list, axis = 0)\n",
    "y_3d = np.stack(y_list, axis = 0)\n",
    "x_3d.shape, y_3d.shape"
   ]
  },
  {
   "cell_type": "code",
   "execution_count": 55,
   "metadata": {},
   "outputs": [
    {
     "data": {
      "text/plain": [
       "152"
      ]
     },
     "execution_count": 55,
     "metadata": {},
     "output_type": "execute_result"
    }
   ],
   "source": [
    "test_ratio = 0.1\n",
    "test_m = int(len(x_3d)*test_ratio)"
   ]
  },
  {
   "cell_type": "code",
   "execution_count": 56,
   "metadata": {},
   "outputs": [],
   "source": [
    "m = len(x_3d)\n",
    "x_2d = np.reshape(x_3d, [m, -1])#-1로 하면 컬럼쪽을 알아서 자동으로 2차원으로 맞춰줌...\n",
    "y_2d = np.reshape(y_3d, [m, -1])\n",
    "x_test = x_2d[:test_m]\n",
    "x_train = x_2d[test_m:]\n",
    "y_test = y_2d[:test_m]\n",
    "y_train = y_2d[test_m:]"
   ]
  },
  {
   "cell_type": "code",
   "execution_count": 57,
   "metadata": {},
   "outputs": [],
   "source": [
    "from sklearn.linear_model import LinearRegression, Ridge, Lasso\n",
    "model = Ridge(normalize = True, solver='lsqr').fit(x_train, y_train) "
   ]
  },
  {
   "cell_type": "code",
   "execution_count": 58,
   "metadata": {},
   "outputs": [
    {
     "data": {
      "text/plain": [
       "(0.5116347523992987, -4.626658088244726)"
      ]
     },
     "execution_count": 58,
     "metadata": {},
     "output_type": "execute_result"
    }
   ],
   "source": [
    "model.score(x_train, y_train), model.score(x_test, y_test)"
   ]
  },
  {
   "cell_type": "code",
   "execution_count": 59,
   "metadata": {},
   "outputs": [
    {
     "data": {
      "text/plain": [
       "(1, 300)"
      ]
     },
     "execution_count": 59,
     "metadata": {},
     "output_type": "execute_result"
    }
   ],
   "source": [
    "#가장최근데이터\n",
    "recent = df4.iloc[-input_seq:]\n",
    "recent.shape\n",
    "recent = np.reshape(np.array(recent), [1, -1])\n",
    "recent.shape"
   ]
  },
  {
   "cell_type": "code",
   "execution_count": 61,
   "metadata": {},
   "outputs": [
    {
     "data": {
      "text/plain": [
       "array([[0.12237194, 0.13526039, 0.14987126, 0.15968468, 0.16455035,\n",
       "        0.1665044 , 0.17008216, 0.18064586, 0.19268216, 0.20504795,\n",
       "        0.21873162, 0.23099856, 0.24022695, 0.24827034, 0.25697537,\n",
       "        0.26212004, 0.26666127, 0.26835718, 0.27222438, 0.27727125,\n",
       "        0.28625392, 0.3063821 , 0.33396774, 0.36118584, 0.38189641,\n",
       "        0.39385858, 0.39968827, 0.39669358, 0.39130901, 0.3865624 ]])"
      ]
     },
     "execution_count": 61,
     "metadata": {},
     "output_type": "execute_result"
    }
   ],
   "source": [
    "model.predict(recent) #미래예측"
   ]
  },
  {
   "cell_type": "code",
   "execution_count": 63,
   "metadata": {},
   "outputs": [
    {
     "name": "stderr",
     "output_type": "stream",
     "text": [
      "No handles with labels found to put in legend.\n"
     ]
    },
    {
     "data": {
      "text/plain": [
       "<matplotlib.legend.Legend at 0x14cba03f208>"
      ]
     },
     "execution_count": 63,
     "metadata": {},
     "output_type": "execute_result"
    },
    {
     "data": {
      "image/png": "[encoded data removed]",
      "text/plain": [
       "<Figure size 432x288 with 1 Axes>"
      ]
     },
     "metadata": {
      "needs_background": "light"
     },
     "output_type": "display_data"
    }
   ],
   "source": [
    "plt.plot(y)\n",
    "plt.legend()"
   ]
  },
  {
   "cell_type": "code",
   "execution_count": null,
   "metadata": {},
   "outputs": [],
   "source": []
  }
 ],
 "metadata": {
  "kernelspec": {
   "display_name": "Python 3",
   "language": "python",
   "name": "python3"
  },
  "language_info": {
   "codemirror_mode": {
    "name": "ipython",
    "version": 3
   },
   "file_extension": ".py",
   "mimetype": "text/x-python",
   "name": "python",
   "nbconvert_exporter": "python",
   "pygments_lexer": "ipython3",
   "version": "3.7.3"
  }
 },
 "nbformat": 4,
 "nbformat_minor": 2
}
