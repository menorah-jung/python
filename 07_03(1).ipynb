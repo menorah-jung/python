{
 "cells": [
  {
   "cell_type": "markdown",
   "metadata": {},
   "source": [
    "###### 5.삼성전자주식 다음달 가격(미래 30일의 종가) 얼마일까??\n",
    "###### 6.비트코인 다음 달 어떻게 될까?\n",
    "###### 7.전날 비트코인 상승시 다음날 주가와의 상관관계\n",
    "1. 목표\n",
    "2. 데이터획득\n",
    "3. 데이터정제\n",
    "4. 전처리\n",
    "5. 입력X/출력y 분리 (X로부터 y를 출력하겠다.)\n",
    "6. train(학습용)/test(검증용) 분리\n",
    "7. 학습용데이터로 학습, 성능 측정\n",
    "8. 그래프 시각화\n",
    "Y:미래 30일의 국내 특정 주식과 비트코인의 종가\n",
    "X:최근 60일간의 데이터\n",
    "Step:하루간격\n",
    "양:1년(2018.06월~2019년.06월)\n",
    "데이터획득: 국내기업 1개, 비트코인\n",
    "데이터정제: 누락, 특수기호, 문자>수치 변환\n",
    "두 데이터 날짜 기준으로 통합(asix = 1)\n",
    "- 외국 (2018-01-01), 국내(2018.01.01), (2018.01.01)\n",
    "- 날짜포맷을 (YYYY-MM-DD)으로 변환 후 통합\n",
    "입력X/출력y 분리\n",
    "- m개의 x,y쌍\n",
    "- x(m,60,15)(국내증시컬럼+비트코인컬럼) > reshape > (m, 60*15)\n",
    "- y(m,30,1) = (m,30)\n",
    "비트코인 가격 변화와 주가와의 상관관계: cov()\n",
    "학습용/검증용 분리\n",
    "- 썩으면 안되므로 직접 분리\n",
    "- 가장 과거의 데이터 10%를 검증용으로 사용\n",
    "Ridge 모델. 학습용 데이터로 학습\n",
    "미래의 예측: predict(x(1, 60*15)) > return > y_hat(1, 20*2)\n",
    "미래 예측: (1,30*2) > (30,2) > 국내(30), 비트코인(30) > 그래프로 그리기"
   ]
  },
  {
   "cell_type": "markdown",
   "metadata": {},
   "source": [
    "국내기업 1년 데이터 획득"
   ]
  },
  {
   "cell_type": "code",
   "execution_count": 27,
   "metadata": {},
   "outputs": [],
   "source": [
    "import numpy as np\n",
    "import pandas as pd\n",
    "import matplotlib.pyplot as plt"
   ]
  },
  {
   "cell_type": "code",
   "execution_count": 39,
   "metadata": {},
   "outputs": [],
   "source": [
    "#주소중간에 _day가 추가됨\n",
    "samsung_url = 'https://finance.naver.com/item/sise_day.nhn?code=005930'"
   ]
  },
  {
   "cell_type": "code",
   "execution_count": 12,
   "metadata": {},
   "outputs": [
    {
     "data": {
      "text/plain": [
       "(15, 7)"
      ]
     },
     "execution_count": 12,
     "metadata": {},
     "output_type": "execute_result"
    }
   ],
   "source": [
    "tables = pd.read_html(samsung_url + '&page='+str(1))\n",
    "len(tables)\n",
    "samsung=tables[0]\n",
    "samsung.shape"
   ]
  },
  {
   "cell_type": "code",
   "execution_count": 48,
   "metadata": {},
   "outputs": [
    {
     "data": {
      "text/plain": [
       "27"
      ]
     },
     "execution_count": 48,
     "metadata": {},
     "output_type": "execute_result"
    }
   ],
   "source": [
    "# 각페이지의 테이블들을 테이블리스트에 집어넣기\n",
    "samsungs = []\n",
    "for i in range(1,28):\n",
    "    tables = pd.read_html(samsung_url+'&page='+str(i))\n",
    "    samsung =tables[0]\n",
    "    samsungs.append(samsung)\n",
    "len(samsungs)"
   ]
  },
  {
   "cell_type": "code",
   "execution_count": 49,
   "metadata": {},
   "outputs": [
    {
     "data": {
      "text/plain": [
       "(405, 7)"
      ]
     },
     "execution_count": 49,
     "metadata": {},
     "output_type": "execute_result"
    }
   ],
   "source": [
    "#테이블리스트에 있는것들을 하나의 큰테이블로 합침\n",
    "samsung = pd.concat(samsungs, axis =0)\n",
    "samsung.shape"
   ]
  },
  {
   "cell_type": "code",
   "execution_count": 50,
   "metadata": {},
   "outputs": [
    {
     "data": {
      "text/html": [
       "<div>\n",
       "<style scoped>\n",
       "    .dataframe tbody tr th:only-of-type {\n",
       "        vertical-align: middle;\n",
       "    }\n",
       "\n",
       "    .dataframe tbody tr th {\n",
       "        vertical-align: top;\n",
       "    }\n",
       "\n",
       "    .dataframe thead th {\n",
       "        text-align: right;\n",
       "    }\n",
       "</style>\n",
       "<table border=\"1\" class=\"dataframe\">\n",
       "  <thead>\n",
       "    <tr style=\"text-align: right;\">\n",
       "      <th></th>\n",
       "      <th>날짜</th>\n",
       "      <th>종가</th>\n",
       "      <th>전일비</th>\n",
       "      <th>시가</th>\n",
       "      <th>고가</th>\n",
       "      <th>저가</th>\n",
       "      <th>거래량</th>\n",
       "    </tr>\n",
       "  </thead>\n",
       "  <tbody>\n",
       "    <tr>\n",
       "      <th>10</th>\n",
       "      <td>2018.05.31</td>\n",
       "      <td>50700.0</td>\n",
       "      <td>1200.0</td>\n",
       "      <td>50400.0</td>\n",
       "      <td>50800.0</td>\n",
       "      <td>49850.0</td>\n",
       "      <td>63491109.0</td>\n",
       "    </tr>\n",
       "    <tr>\n",
       "      <th>11</th>\n",
       "      <td>2018.05.30</td>\n",
       "      <td>49500.0</td>\n",
       "      <td>1800.0</td>\n",
       "      <td>51300.0</td>\n",
       "      <td>51500.0</td>\n",
       "      <td>49100.0</td>\n",
       "      <td>20498098.0</td>\n",
       "    </tr>\n",
       "    <tr>\n",
       "      <th>12</th>\n",
       "      <td>2018.05.29</td>\n",
       "      <td>51300.0</td>\n",
       "      <td>1000.0</td>\n",
       "      <td>52200.0</td>\n",
       "      <td>52500.0</td>\n",
       "      <td>51300.0</td>\n",
       "      <td>8480437.0</td>\n",
       "    </tr>\n",
       "    <tr>\n",
       "      <th>13</th>\n",
       "      <td>2018.05.28</td>\n",
       "      <td>52300.0</td>\n",
       "      <td>400.0</td>\n",
       "      <td>52500.0</td>\n",
       "      <td>53000.0</td>\n",
       "      <td>52000.0</td>\n",
       "      <td>9787820.0</td>\n",
       "    </tr>\n",
       "    <tr>\n",
       "      <th>14</th>\n",
       "      <td>NaN</td>\n",
       "      <td>NaN</td>\n",
       "      <td>NaN</td>\n",
       "      <td>NaN</td>\n",
       "      <td>NaN</td>\n",
       "      <td>NaN</td>\n",
       "      <td>NaN</td>\n",
       "    </tr>\n",
       "  </tbody>\n",
       "</table>\n",
       "</div>"
      ],
      "text/plain": [
       "            날짜       종가     전일비       시가       고가       저가         거래량\n",
       "10  2018.05.31  50700.0  1200.0  50400.0  50800.0  49850.0  63491109.0\n",
       "11  2018.05.30  49500.0  1800.0  51300.0  51500.0  49100.0  20498098.0\n",
       "12  2018.05.29  51300.0  1000.0  52200.0  52500.0  51300.0   8480437.0\n",
       "13  2018.05.28  52300.0   400.0  52500.0  53000.0  52000.0   9787820.0\n",
       "14         NaN      NaN     NaN      NaN      NaN      NaN         NaN"
      ]
     },
     "execution_count": 50,
     "metadata": {},
     "output_type": "execute_result"
    }
   ],
   "source": [
    "samsung.tail()"
   ]
  },
  {
   "cell_type": "code",
   "execution_count": 9,
   "metadata": {},
   "outputs": [
    {
     "name": "stdout",
     "output_type": "stream",
     "text": [
      "(15, 7)\n",
      "(1, 12)\n"
     ]
    }
   ],
   "source": [
    "#몇번째 테이블이 일일데이터일까 찾기\n",
    "for t in tables:\n",
    "    print(t.shape)"
   ]
  },
  {
   "cell_type": "code",
   "execution_count": 51,
   "metadata": {},
   "outputs": [
    {
     "data": {
      "text/plain": [
       "2"
      ]
     },
     "execution_count": 51,
     "metadata": {},
     "output_type": "execute_result"
    }
   ],
   "source": [
    "bitcoin_url = 'https://coinmarketcap.com/currencies/bitcoin/historical-data/'\n",
    "bitcoin_url +='?start=20180601&end=20190601'\n",
    "tables = pd.read_html(bitcoin_url)\n",
    "bitcoin = tables[0]\n",
    "len(tables)"
   ]
  },
  {
   "cell_type": "code",
   "execution_count": 52,
   "metadata": {},
   "outputs": [
    {
     "data": {
      "text/html": [
       "<div>\n",
       "<style scoped>\n",
       "    .dataframe tbody tr th:only-of-type {\n",
       "        vertical-align: middle;\n",
       "    }\n",
       "\n",
       "    .dataframe tbody tr th {\n",
       "        vertical-align: top;\n",
       "    }\n",
       "\n",
       "    .dataframe thead th {\n",
       "        text-align: right;\n",
       "    }\n",
       "</style>\n",
       "<table border=\"1\" class=\"dataframe\">\n",
       "  <thead>\n",
       "    <tr style=\"text-align: right;\">\n",
       "      <th></th>\n",
       "      <th>날짜</th>\n",
       "      <th>종가</th>\n",
       "      <th>전일비</th>\n",
       "      <th>시가</th>\n",
       "      <th>고가</th>\n",
       "      <th>저가</th>\n",
       "      <th>거래량</th>\n",
       "    </tr>\n",
       "  </thead>\n",
       "  <tbody>\n",
       "    <tr>\n",
       "      <th>0</th>\n",
       "      <td>NaN</td>\n",
       "      <td>NaN</td>\n",
       "      <td>NaN</td>\n",
       "      <td>NaN</td>\n",
       "      <td>NaN</td>\n",
       "      <td>NaN</td>\n",
       "      <td>NaN</td>\n",
       "    </tr>\n",
       "    <tr>\n",
       "      <th>1</th>\n",
       "      <td>2019.07.03</td>\n",
       "      <td>45650.0</td>\n",
       "      <td>600.0</td>\n",
       "      <td>45750.0</td>\n",
       "      <td>46350.0</td>\n",
       "      <td>45600.0</td>\n",
       "      <td>3781862.0</td>\n",
       "    </tr>\n",
       "    <tr>\n",
       "      <th>2</th>\n",
       "      <td>2019.07.02</td>\n",
       "      <td>46250.0</td>\n",
       "      <td>350.0</td>\n",
       "      <td>46200.0</td>\n",
       "      <td>46900.0</td>\n",
       "      <td>45850.0</td>\n",
       "      <td>8463073.0</td>\n",
       "    </tr>\n",
       "    <tr>\n",
       "      <th>3</th>\n",
       "      <td>2019.07.01</td>\n",
       "      <td>46600.0</td>\n",
       "      <td>400.0</td>\n",
       "      <td>47350.0</td>\n",
       "      <td>47400.0</td>\n",
       "      <td>46250.0</td>\n",
       "      <td>11383522.0</td>\n",
       "    </tr>\n",
       "    <tr>\n",
       "      <th>4</th>\n",
       "      <td>2019.06.28</td>\n",
       "      <td>47000.0</td>\n",
       "      <td>500.0</td>\n",
       "      <td>47000.0</td>\n",
       "      <td>47000.0</td>\n",
       "      <td>46700.0</td>\n",
       "      <td>12949231.0</td>\n",
       "    </tr>\n",
       "  </tbody>\n",
       "</table>\n",
       "</div>"
      ],
      "text/plain": [
       "           날짜       종가    전일비       시가       고가       저가         거래량\n",
       "0         NaN      NaN    NaN      NaN      NaN      NaN         NaN\n",
       "1  2019.07.03  45650.0  600.0  45750.0  46350.0  45600.0   3781862.0\n",
       "2  2019.07.02  46250.0  350.0  46200.0  46900.0  45850.0   8463073.0\n",
       "3  2019.07.01  46600.0  400.0  47350.0  47400.0  46250.0  11383522.0\n",
       "4  2019.06.28  47000.0  500.0  47000.0  47000.0  46700.0  12949231.0"
      ]
     },
     "execution_count": 52,
     "metadata": {},
     "output_type": "execute_result"
    }
   ],
   "source": [
    "samsung.head()"
   ]
  },
  {
   "cell_type": "code",
   "execution_count": null,
   "metadata": {},
   "outputs": [],
   "source": []
  },
  {
   "cell_type": "code",
   "execution_count": null,
   "metadata": {},
   "outputs": [],
   "source": [
    "두데이터 날짜 기준으로 통합(asix  =1)\n",
    "외국(2018-01-01), 국내(2018.01.01), (18.01.01)\n",
    "날짜포맷을 (YYYY,MM,DD)으로 변환 후 통합"
   ]
  },
  {
   "cell_type": "code",
   "execution_count": 53,
   "metadata": {},
   "outputs": [],
   "source": [
    "#삼성데이터는 날짜 컬럼을 인덱스로 둠\n",
    "samsung = samsung.set_index('날짜')\n",
    "#비트코인은 date를 인덱스로 둠\n",
    "bitcoin = bitcoin.set_index('Date')"
   ]
  },
  {
   "cell_type": "code",
   "execution_count": 54,
   "metadata": {},
   "outputs": [
    {
     "data": {
      "text/html": [
       "<div>\n",
       "<style scoped>\n",
       "    .dataframe tbody tr th:only-of-type {\n",
       "        vertical-align: middle;\n",
       "    }\n",
       "\n",
       "    .dataframe tbody tr th {\n",
       "        vertical-align: top;\n",
       "    }\n",
       "\n",
       "    .dataframe thead th {\n",
       "        text-align: right;\n",
       "    }\n",
       "</style>\n",
       "<table border=\"1\" class=\"dataframe\">\n",
       "  <thead>\n",
       "    <tr style=\"text-align: right;\">\n",
       "      <th></th>\n",
       "      <th>Open*</th>\n",
       "      <th>High</th>\n",
       "      <th>Low</th>\n",
       "      <th>Close**</th>\n",
       "      <th>Volume</th>\n",
       "      <th>Market Cap</th>\n",
       "    </tr>\n",
       "    <tr>\n",
       "      <th>Date</th>\n",
       "      <th></th>\n",
       "      <th></th>\n",
       "      <th></th>\n",
       "      <th></th>\n",
       "      <th></th>\n",
       "      <th></th>\n",
       "    </tr>\n",
       "  </thead>\n",
       "  <tbody>\n",
       "    <tr>\n",
       "      <th>Jun 01, 2019</th>\n",
       "      <td>8573.84</td>\n",
       "      <td>8625.60</td>\n",
       "      <td>8481.58</td>\n",
       "      <td>8564.02</td>\n",
       "      <td>22488303544</td>\n",
       "      <td>151890214310</td>\n",
       "    </tr>\n",
       "    <tr>\n",
       "      <th>May 31, 2019</th>\n",
       "      <td>8320.29</td>\n",
       "      <td>8586.66</td>\n",
       "      <td>8172.55</td>\n",
       "      <td>8574.50</td>\n",
       "      <td>25365190957</td>\n",
       "      <td>152059886414</td>\n",
       "    </tr>\n",
       "    <tr>\n",
       "      <th>May 30, 2019</th>\n",
       "      <td>8661.76</td>\n",
       "      <td>9008.31</td>\n",
       "      <td>8221.27</td>\n",
       "      <td>8319.47</td>\n",
       "      <td>29246528551</td>\n",
       "      <td>147525141134</td>\n",
       "    </tr>\n",
       "    <tr>\n",
       "      <th>May 29, 2019</th>\n",
       "      <td>8718.59</td>\n",
       "      <td>8755.85</td>\n",
       "      <td>8482.73</td>\n",
       "      <td>8659.49</td>\n",
       "      <td>23473479966</td>\n",
       "      <td>153537047655</td>\n",
       "    </tr>\n",
       "    <tr>\n",
       "      <th>May 28, 2019</th>\n",
       "      <td>8802.76</td>\n",
       "      <td>8807.02</td>\n",
       "      <td>8634.72</td>\n",
       "      <td>8719.96</td>\n",
       "      <td>24226919267</td>\n",
       "      <td>154590202287</td>\n",
       "    </tr>\n",
       "  </tbody>\n",
       "</table>\n",
       "</div>"
      ],
      "text/plain": [
       "                Open*     High      Low  Close**       Volume    Market Cap\n",
       "Date                                                                       \n",
       "Jun 01, 2019  8573.84  8625.60  8481.58  8564.02  22488303544  151890214310\n",
       "May 31, 2019  8320.29  8586.66  8172.55  8574.50  25365190957  152059886414\n",
       "May 30, 2019  8661.76  9008.31  8221.27  8319.47  29246528551  147525141134\n",
       "May 29, 2019  8718.59  8755.85  8482.73  8659.49  23473479966  153537047655\n",
       "May 28, 2019  8802.76  8807.02  8634.72  8719.96  24226919267  154590202287"
      ]
     },
     "execution_count": 54,
     "metadata": {},
     "output_type": "execute_result"
    }
   ],
   "source": [
    "bitcoin.head()"
   ]
  },
  {
   "cell_type": "code",
   "execution_count": 55,
   "metadata": {},
   "outputs": [
    {
     "data": {
      "text/html": [
       "<div>\n",
       "<style scoped>\n",
       "    .dataframe tbody tr th:only-of-type {\n",
       "        vertical-align: middle;\n",
       "    }\n",
       "\n",
       "    .dataframe tbody tr th {\n",
       "        vertical-align: top;\n",
       "    }\n",
       "\n",
       "    .dataframe thead th {\n",
       "        text-align: right;\n",
       "    }\n",
       "</style>\n",
       "<table border=\"1\" class=\"dataframe\">\n",
       "  <thead>\n",
       "    <tr style=\"text-align: right;\">\n",
       "      <th></th>\n",
       "      <th>종가</th>\n",
       "      <th>전일비</th>\n",
       "      <th>시가</th>\n",
       "      <th>고가</th>\n",
       "      <th>저가</th>\n",
       "      <th>거래량</th>\n",
       "    </tr>\n",
       "    <tr>\n",
       "      <th>날짜</th>\n",
       "      <th></th>\n",
       "      <th></th>\n",
       "      <th></th>\n",
       "      <th></th>\n",
       "      <th></th>\n",
       "      <th></th>\n",
       "    </tr>\n",
       "  </thead>\n",
       "  <tbody>\n",
       "    <tr>\n",
       "      <th>NaN</th>\n",
       "      <td>NaN</td>\n",
       "      <td>NaN</td>\n",
       "      <td>NaN</td>\n",
       "      <td>NaN</td>\n",
       "      <td>NaN</td>\n",
       "      <td>NaN</td>\n",
       "    </tr>\n",
       "    <tr>\n",
       "      <th>2019.07.03</th>\n",
       "      <td>45650.0</td>\n",
       "      <td>600.0</td>\n",
       "      <td>45750.0</td>\n",
       "      <td>46350.0</td>\n",
       "      <td>45600.0</td>\n",
       "      <td>3781862.0</td>\n",
       "    </tr>\n",
       "    <tr>\n",
       "      <th>2019.07.02</th>\n",
       "      <td>46250.0</td>\n",
       "      <td>350.0</td>\n",
       "      <td>46200.0</td>\n",
       "      <td>46900.0</td>\n",
       "      <td>45850.0</td>\n",
       "      <td>8463073.0</td>\n",
       "    </tr>\n",
       "    <tr>\n",
       "      <th>2019.07.01</th>\n",
       "      <td>46600.0</td>\n",
       "      <td>400.0</td>\n",
       "      <td>47350.0</td>\n",
       "      <td>47400.0</td>\n",
       "      <td>46250.0</td>\n",
       "      <td>11383522.0</td>\n",
       "    </tr>\n",
       "    <tr>\n",
       "      <th>2019.06.28</th>\n",
       "      <td>47000.0</td>\n",
       "      <td>500.0</td>\n",
       "      <td>47000.0</td>\n",
       "      <td>47000.0</td>\n",
       "      <td>46700.0</td>\n",
       "      <td>12949231.0</td>\n",
       "    </tr>\n",
       "  </tbody>\n",
       "</table>\n",
       "</div>"
      ],
      "text/plain": [
       "                 종가    전일비       시가       고가       저가         거래량\n",
       "날짜                                                               \n",
       "NaN             NaN    NaN      NaN      NaN      NaN         NaN\n",
       "2019.07.03  45650.0  600.0  45750.0  46350.0  45600.0   3781862.0\n",
       "2019.07.02  46250.0  350.0  46200.0  46900.0  45850.0   8463073.0\n",
       "2019.07.01  46600.0  400.0  47350.0  47400.0  46250.0  11383522.0\n",
       "2019.06.28  47000.0  500.0  47000.0  47000.0  46700.0  12949231.0"
      ]
     },
     "execution_count": 55,
     "metadata": {},
     "output_type": "execute_result"
    }
   ],
   "source": [
    "samsung.head()"
   ]
  },
  {
   "cell_type": "code",
   "execution_count": 57,
   "metadata": {},
   "outputs": [
    {
     "data": {
      "text/plain": [
       "Index([         nan, '2019.07.03', '2019.07.02', '2019.07.01', '2019.06.28',\n",
       "       '2019.06.27',          nan,          nan,          nan, '2019.06.26',\n",
       "       ...\n",
       "       '2018.06.04',          nan,          nan,          nan, '2018.06.01',\n",
       "       '2018.05.31', '2018.05.30', '2018.05.29', '2018.05.28',          nan],\n",
       "      dtype='object', name='날짜', length=405)"
      ]
     },
     "execution_count": 57,
     "metadata": {},
     "output_type": "execute_result"
    }
   ],
   "source": [
    "samsung.index"
   ]
  },
  {
   "cell_type": "code",
   "execution_count": 58,
   "metadata": {},
   "outputs": [
    {
     "data": {
      "text/plain": [
       "Index(['Jun 01, 2019', 'May 31, 2019', 'May 30, 2019', 'May 29, 2019',\n",
       "       'May 28, 2019', 'May 27, 2019', 'May 26, 2019', 'May 25, 2019',\n",
       "       'May 24, 2019', 'May 23, 2019',\n",
       "       ...\n",
       "       'Jun 10, 2018', 'Jun 09, 2018', 'Jun 08, 2018', 'Jun 07, 2018',\n",
       "       'Jun 06, 2018', 'Jun 05, 2018', 'Jun 04, 2018', 'Jun 03, 2018',\n",
       "       'Jun 02, 2018', 'Jun 01, 2018'],\n",
       "      dtype='object', name='Date', length=366)"
      ]
     },
     "execution_count": 58,
     "metadata": {},
     "output_type": "execute_result"
    }
   ],
   "source": [
    "bitcoin.index"
   ]
  },
  {
   "cell_type": "code",
   "execution_count": 59,
   "metadata": {},
   "outputs": [
    {
     "data": {
      "text/plain": [
       "DatetimeIndex(['2019-06-01', '2019-05-31', '2019-05-30', '2019-05-29',\n",
       "               '2019-05-28', '2019-05-27', '2019-05-26', '2019-05-25',\n",
       "               '2019-05-24', '2019-05-23',\n",
       "               ...\n",
       "               '2018-06-10', '2018-06-09', '2018-06-08', '2018-06-07',\n",
       "               '2018-06-06', '2018-06-05', '2018-06-04', '2018-06-03',\n",
       "               '2018-06-02', '2018-06-01'],\n",
       "              dtype='datetime64[ns]', name='Date', length=366, freq=None)"
      ]
     },
     "execution_count": 59,
     "metadata": {},
     "output_type": "execute_result"
    }
   ],
   "source": [
    "#삼성과 비트코인의 인덱스 타입을 YYYY-MM-DD포맷으로 통일해줌, 안하면 concat이 안됨\n",
    "pd.to_datetime(bitcoin.index)"
   ]
  },
  {
   "cell_type": "code",
   "execution_count": 60,
   "metadata": {},
   "outputs": [
    {
     "data": {
      "text/plain": [
       "DatetimeIndex([       'NaT', '2019-07-03', '2019-07-02', '2019-07-01',\n",
       "               '2019-06-28', '2019-06-27',        'NaT',        'NaT',\n",
       "                      'NaT', '2019-06-26',\n",
       "               ...\n",
       "               '2018-06-04',        'NaT',        'NaT',        'NaT',\n",
       "               '2018-06-01', '2018-05-31', '2018-05-30', '2018-05-29',\n",
       "               '2018-05-28',        'NaT'],\n",
       "              dtype='datetime64[ns]', name='날짜', length=405, freq=None)"
      ]
     },
     "execution_count": 60,
     "metadata": {},
     "output_type": "execute_result"
    }
   ],
   "source": [
    "pd.to_datetime(samsung.index)"
   ]
  },
  {
   "cell_type": "code",
   "execution_count": 61,
   "metadata": {},
   "outputs": [],
   "source": [
    "#삼성과 비트코인의 인덱스 타입을 YYYY-MM-DD포맷으로 통일해줌, 안하면 concat이 안됨\n",
    "bitcoin.index = pd.to_datetime(bitcoin.index)\n",
    "samsung.index = pd.to_datetime(samsung.index)"
   ]
  },
  {
   "cell_type": "code",
   "execution_count": 63,
   "metadata": {},
   "outputs": [
    {
     "data": {
      "text/html": [
       "<div>\n",
       "<style scoped>\n",
       "    .dataframe tbody tr th:only-of-type {\n",
       "        vertical-align: middle;\n",
       "    }\n",
       "\n",
       "    .dataframe tbody tr th {\n",
       "        vertical-align: top;\n",
       "    }\n",
       "\n",
       "    .dataframe thead th {\n",
       "        text-align: right;\n",
       "    }\n",
       "</style>\n",
       "<table border=\"1\" class=\"dataframe\">\n",
       "  <thead>\n",
       "    <tr style=\"text-align: right;\">\n",
       "      <th></th>\n",
       "      <th>Open*</th>\n",
       "      <th>High</th>\n",
       "      <th>Low</th>\n",
       "      <th>Close**</th>\n",
       "      <th>Volume</th>\n",
       "      <th>Market Cap</th>\n",
       "    </tr>\n",
       "    <tr>\n",
       "      <th>Date</th>\n",
       "      <th></th>\n",
       "      <th></th>\n",
       "      <th></th>\n",
       "      <th></th>\n",
       "      <th></th>\n",
       "      <th></th>\n",
       "    </tr>\n",
       "  </thead>\n",
       "  <tbody>\n",
       "    <tr>\n",
       "      <th>2019-06-01</th>\n",
       "      <td>8573.84</td>\n",
       "      <td>8625.60</td>\n",
       "      <td>8481.58</td>\n",
       "      <td>8564.02</td>\n",
       "      <td>22488303544</td>\n",
       "      <td>151890214310</td>\n",
       "    </tr>\n",
       "    <tr>\n",
       "      <th>2019-05-31</th>\n",
       "      <td>8320.29</td>\n",
       "      <td>8586.66</td>\n",
       "      <td>8172.55</td>\n",
       "      <td>8574.50</td>\n",
       "      <td>25365190957</td>\n",
       "      <td>152059886414</td>\n",
       "    </tr>\n",
       "    <tr>\n",
       "      <th>2019-05-30</th>\n",
       "      <td>8661.76</td>\n",
       "      <td>9008.31</td>\n",
       "      <td>8221.27</td>\n",
       "      <td>8319.47</td>\n",
       "      <td>29246528551</td>\n",
       "      <td>147525141134</td>\n",
       "    </tr>\n",
       "    <tr>\n",
       "      <th>2019-05-29</th>\n",
       "      <td>8718.59</td>\n",
       "      <td>8755.85</td>\n",
       "      <td>8482.73</td>\n",
       "      <td>8659.49</td>\n",
       "      <td>23473479966</td>\n",
       "      <td>153537047655</td>\n",
       "    </tr>\n",
       "    <tr>\n",
       "      <th>2019-05-28</th>\n",
       "      <td>8802.76</td>\n",
       "      <td>8807.02</td>\n",
       "      <td>8634.72</td>\n",
       "      <td>8719.96</td>\n",
       "      <td>24226919267</td>\n",
       "      <td>154590202287</td>\n",
       "    </tr>\n",
       "  </tbody>\n",
       "</table>\n",
       "</div>"
      ],
      "text/plain": [
       "              Open*     High      Low  Close**       Volume    Market Cap\n",
       "Date                                                                     \n",
       "2019-06-01  8573.84  8625.60  8481.58  8564.02  22488303544  151890214310\n",
       "2019-05-31  8320.29  8586.66  8172.55  8574.50  25365190957  152059886414\n",
       "2019-05-30  8661.76  9008.31  8221.27  8319.47  29246528551  147525141134\n",
       "2019-05-29  8718.59  8755.85  8482.73  8659.49  23473479966  153537047655\n",
       "2019-05-28  8802.76  8807.02  8634.72  8719.96  24226919267  154590202287"
      ]
     },
     "execution_count": 63,
     "metadata": {},
     "output_type": "execute_result"
    }
   ],
   "source": [
    "bitcoin.head()"
   ]
  },
  {
   "cell_type": "code",
   "execution_count": 64,
   "metadata": {},
   "outputs": [
    {
     "data": {
      "text/html": [
       "<div>\n",
       "<style scoped>\n",
       "    .dataframe tbody tr th:only-of-type {\n",
       "        vertical-align: middle;\n",
       "    }\n",
       "\n",
       "    .dataframe tbody tr th {\n",
       "        vertical-align: top;\n",
       "    }\n",
       "\n",
       "    .dataframe thead th {\n",
       "        text-align: right;\n",
       "    }\n",
       "</style>\n",
       "<table border=\"1\" class=\"dataframe\">\n",
       "  <thead>\n",
       "    <tr style=\"text-align: right;\">\n",
       "      <th></th>\n",
       "      <th>종가</th>\n",
       "      <th>전일비</th>\n",
       "      <th>시가</th>\n",
       "      <th>고가</th>\n",
       "      <th>저가</th>\n",
       "      <th>거래량</th>\n",
       "    </tr>\n",
       "    <tr>\n",
       "      <th>날짜</th>\n",
       "      <th></th>\n",
       "      <th></th>\n",
       "      <th></th>\n",
       "      <th></th>\n",
       "      <th></th>\n",
       "      <th></th>\n",
       "    </tr>\n",
       "  </thead>\n",
       "  <tbody>\n",
       "    <tr>\n",
       "      <th>NaT</th>\n",
       "      <td>NaN</td>\n",
       "      <td>NaN</td>\n",
       "      <td>NaN</td>\n",
       "      <td>NaN</td>\n",
       "      <td>NaN</td>\n",
       "      <td>NaN</td>\n",
       "    </tr>\n",
       "    <tr>\n",
       "      <th>2019-07-03</th>\n",
       "      <td>45650.0</td>\n",
       "      <td>600.0</td>\n",
       "      <td>45750.0</td>\n",
       "      <td>46350.0</td>\n",
       "      <td>45600.0</td>\n",
       "      <td>3781862.0</td>\n",
       "    </tr>\n",
       "    <tr>\n",
       "      <th>2019-07-02</th>\n",
       "      <td>46250.0</td>\n",
       "      <td>350.0</td>\n",
       "      <td>46200.0</td>\n",
       "      <td>46900.0</td>\n",
       "      <td>45850.0</td>\n",
       "      <td>8463073.0</td>\n",
       "    </tr>\n",
       "    <tr>\n",
       "      <th>2019-07-01</th>\n",
       "      <td>46600.0</td>\n",
       "      <td>400.0</td>\n",
       "      <td>47350.0</td>\n",
       "      <td>47400.0</td>\n",
       "      <td>46250.0</td>\n",
       "      <td>11383522.0</td>\n",
       "    </tr>\n",
       "    <tr>\n",
       "      <th>2019-06-28</th>\n",
       "      <td>47000.0</td>\n",
       "      <td>500.0</td>\n",
       "      <td>47000.0</td>\n",
       "      <td>47000.0</td>\n",
       "      <td>46700.0</td>\n",
       "      <td>12949231.0</td>\n",
       "    </tr>\n",
       "  </tbody>\n",
       "</table>\n",
       "</div>"
      ],
      "text/plain": [
       "                 종가    전일비       시가       고가       저가         거래량\n",
       "날짜                                                               \n",
       "NaT             NaN    NaN      NaN      NaN      NaN         NaN\n",
       "2019-07-03  45650.0  600.0  45750.0  46350.0  45600.0   3781862.0\n",
       "2019-07-02  46250.0  350.0  46200.0  46900.0  45850.0   8463073.0\n",
       "2019-07-01  46600.0  400.0  47350.0  47400.0  46250.0  11383522.0\n",
       "2019-06-28  47000.0  500.0  47000.0  47000.0  46700.0  12949231.0"
      ]
     },
     "execution_count": 64,
     "metadata": {},
     "output_type": "execute_result"
    }
   ],
   "source": [
    "samsung.head()"
   ]
  },
  {
   "cell_type": "code",
   "execution_count": 67,
   "metadata": {},
   "outputs": [
    {
     "data": {
      "text/plain": [
       "(244, 12)"
      ]
     },
     "execution_count": 67,
     "metadata": {},
     "output_type": "execute_result"
    }
   ],
   "source": [
    "#삼성과 비트코인 데이터를 인덱스를 기준으로 가로방향으로 붙이고 non을 삭제\n",
    "df = pd.concat((samsung, bitcoin), axis = 1).dropna()\n",
    "df.shape"
   ]
  },
  {
   "cell_type": "code",
   "execution_count": 68,
   "metadata": {},
   "outputs": [
    {
     "data": {
      "text/plain": [
       "종가            float64\n",
       "전일비           float64\n",
       "시가            float64\n",
       "고가            float64\n",
       "저가            float64\n",
       "거래량           float64\n",
       "Open*         float64\n",
       "High          float64\n",
       "Low           float64\n",
       "Close**       float64\n",
       "Volume        float64\n",
       "Market Cap    float64\n",
       "dtype: object"
      ]
     },
     "execution_count": 68,
     "metadata": {},
     "output_type": "execute_result"
    }
   ],
   "source": [
    "df.dtypes #문자타입이 있는지 확인"
   ]
  },
  {
   "cell_type": "code",
   "execution_count": null,
   "metadata": {},
   "outputs": [],
   "source": [
    "df.isna().sum() #non이 있는지 확인 후 아랫줄에 통계치 출력"
   ]
  },
  {
   "cell_type": "code",
   "execution_count": 69,
   "metadata": {},
   "outputs": [
    {
     "data": {
      "text/html": [
       "<div>\n",
       "<style scoped>\n",
       "    .dataframe tbody tr th:only-of-type {\n",
       "        vertical-align: middle;\n",
       "    }\n",
       "\n",
       "    .dataframe tbody tr th {\n",
       "        vertical-align: top;\n",
       "    }\n",
       "\n",
       "    .dataframe thead th {\n",
       "        text-align: right;\n",
       "    }\n",
       "</style>\n",
       "<table border=\"1\" class=\"dataframe\">\n",
       "  <thead>\n",
       "    <tr style=\"text-align: right;\">\n",
       "      <th></th>\n",
       "      <th>종가</th>\n",
       "      <th>전일비</th>\n",
       "      <th>시가</th>\n",
       "      <th>고가</th>\n",
       "      <th>저가</th>\n",
       "      <th>거래량</th>\n",
       "      <th>Open*</th>\n",
       "      <th>High</th>\n",
       "      <th>Low</th>\n",
       "      <th>Close**</th>\n",
       "      <th>Volume</th>\n",
       "      <th>Market Cap</th>\n",
       "    </tr>\n",
       "  </thead>\n",
       "  <tbody>\n",
       "    <tr>\n",
       "      <th>count</th>\n",
       "      <td>244.000000</td>\n",
       "      <td>244.000000</td>\n",
       "      <td>244.000000</td>\n",
       "      <td>244.000000</td>\n",
       "      <td>244.000000</td>\n",
       "      <td>2.440000e+02</td>\n",
       "      <td>244.000000</td>\n",
       "      <td>244.000000</td>\n",
       "      <td>244.000000</td>\n",
       "      <td>244.000000</td>\n",
       "      <td>2.440000e+02</td>\n",
       "      <td>2.440000e+02</td>\n",
       "    </tr>\n",
       "    <tr>\n",
       "      <th>mean</th>\n",
       "      <td>44541.393443</td>\n",
       "      <td>524.590164</td>\n",
       "      <td>44541.393443</td>\n",
       "      <td>44982.786885</td>\n",
       "      <td>44080.122951</td>\n",
       "      <td>1.127346e+07</td>\n",
       "      <td>5598.614672</td>\n",
       "      <td>5708.022869</td>\n",
       "      <td>5487.953197</td>\n",
       "      <td>5597.538361</td>\n",
       "      <td>8.087400e+09</td>\n",
       "      <td>9.730654e+10</td>\n",
       "    </tr>\n",
       "    <tr>\n",
       "      <th>std</th>\n",
       "      <td>2616.501077</td>\n",
       "      <td>445.496251</td>\n",
       "      <td>2663.568359</td>\n",
       "      <td>2616.332608</td>\n",
       "      <td>2605.084532</td>\n",
       "      <td>3.923683e+06</td>\n",
       "      <td>1514.608753</td>\n",
       "      <td>1542.730010</td>\n",
       "      <td>1476.931675</td>\n",
       "      <td>1512.541132</td>\n",
       "      <td>6.225952e+09</td>\n",
       "      <td>2.597773e+10</td>\n",
       "    </tr>\n",
       "    <tr>\n",
       "      <th>min</th>\n",
       "      <td>37450.000000</td>\n",
       "      <td>0.000000</td>\n",
       "      <td>37450.000000</td>\n",
       "      <td>37600.000000</td>\n",
       "      <td>36850.000000</td>\n",
       "      <td>4.762460e+06</td>\n",
       "      <td>3253.120000</td>\n",
       "      <td>3329.560000</td>\n",
       "      <td>3206.540000</td>\n",
       "      <td>3242.480000</td>\n",
       "      <td>3.230550e+09</td>\n",
       "      <td>5.649438e+10</td>\n",
       "    </tr>\n",
       "    <tr>\n",
       "      <th>25%</th>\n",
       "      <td>43012.500000</td>\n",
       "      <td>200.000000</td>\n",
       "      <td>43012.500000</td>\n",
       "      <td>43437.500000</td>\n",
       "      <td>42400.000000</td>\n",
       "      <td>8.298381e+06</td>\n",
       "      <td>3957.602500</td>\n",
       "      <td>4031.850000</td>\n",
       "      <td>3899.502500</td>\n",
       "      <td>3956.197500</td>\n",
       "      <td>4.324805e+09</td>\n",
       "      <td>6.936442e+10</td>\n",
       "    </tr>\n",
       "    <tr>\n",
       "      <th>50%</th>\n",
       "      <td>44975.000000</td>\n",
       "      <td>400.000000</td>\n",
       "      <td>44925.000000</td>\n",
       "      <td>45500.000000</td>\n",
       "      <td>44500.000000</td>\n",
       "      <td>1.079669e+07</td>\n",
       "      <td>6205.425000</td>\n",
       "      <td>6300.355000</td>\n",
       "      <td>6029.725000</td>\n",
       "      <td>6179.620000</td>\n",
       "      <td>5.304537e+09</td>\n",
       "      <td>1.064328e+11</td>\n",
       "    </tr>\n",
       "    <tr>\n",
       "      <th>75%</th>\n",
       "      <td>46362.500000</td>\n",
       "      <td>762.500000</td>\n",
       "      <td>46462.500000</td>\n",
       "      <td>46850.000000</td>\n",
       "      <td>46000.000000</td>\n",
       "      <td>1.305694e+07</td>\n",
       "      <td>6599.830000</td>\n",
       "      <td>6743.025000</td>\n",
       "      <td>6498.092500</td>\n",
       "      <td>6601.707500</td>\n",
       "      <td>9.347169e+09</td>\n",
       "      <td>1.140496e+11</td>\n",
       "    </tr>\n",
       "    <tr>\n",
       "      <th>max</th>\n",
       "      <td>51300.000000</td>\n",
       "      <td>2200.000000</td>\n",
       "      <td>51800.000000</td>\n",
       "      <td>51800.000000</td>\n",
       "      <td>50700.000000</td>\n",
       "      <td>2.625465e+07</td>\n",
       "      <td>8802.760000</td>\n",
       "      <td>9008.310000</td>\n",
       "      <td>8668.700000</td>\n",
       "      <td>8805.780000</td>\n",
       "      <td>3.316720e+10</td>\n",
       "      <td>1.560938e+11</td>\n",
       "    </tr>\n",
       "  </tbody>\n",
       "</table>\n",
       "</div>"
      ],
      "text/plain": [
       "                 종가          전일비            시가            고가            저가  \\\n",
       "count    244.000000   244.000000    244.000000    244.000000    244.000000   \n",
       "mean   44541.393443   524.590164  44541.393443  44982.786885  44080.122951   \n",
       "std     2616.501077   445.496251   2663.568359   2616.332608   2605.084532   \n",
       "min    37450.000000     0.000000  37450.000000  37600.000000  36850.000000   \n",
       "25%    43012.500000   200.000000  43012.500000  43437.500000  42400.000000   \n",
       "50%    44975.000000   400.000000  44925.000000  45500.000000  44500.000000   \n",
       "75%    46362.500000   762.500000  46462.500000  46850.000000  46000.000000   \n",
       "max    51300.000000  2200.000000  51800.000000  51800.000000  50700.000000   \n",
       "\n",
       "                거래량        Open*         High          Low      Close**  \\\n",
       "count  2.440000e+02   244.000000   244.000000   244.000000   244.000000   \n",
       "mean   1.127346e+07  5598.614672  5708.022869  5487.953197  5597.538361   \n",
       "std    3.923683e+06  1514.608753  1542.730010  1476.931675  1512.541132   \n",
       "min    4.762460e+06  3253.120000  3329.560000  3206.540000  3242.480000   \n",
       "25%    8.298381e+06  3957.602500  4031.850000  3899.502500  3956.197500   \n",
       "50%    1.079669e+07  6205.425000  6300.355000  6029.725000  6179.620000   \n",
       "75%    1.305694e+07  6599.830000  6743.025000  6498.092500  6601.707500   \n",
       "max    2.625465e+07  8802.760000  9008.310000  8668.700000  8805.780000   \n",
       "\n",
       "             Volume    Market Cap  \n",
       "count  2.440000e+02  2.440000e+02  \n",
       "mean   8.087400e+09  9.730654e+10  \n",
       "std    6.225952e+09  2.597773e+10  \n",
       "min    3.230550e+09  5.649438e+10  \n",
       "25%    4.324805e+09  6.936442e+10  \n",
       "50%    5.304537e+09  1.064328e+11  \n",
       "75%    9.347169e+09  1.140496e+11  \n",
       "max    3.316720e+10  1.560938e+11  "
      ]
     },
     "execution_count": 69,
     "metadata": {},
     "output_type": "execute_result"
    }
   ],
   "source": [
    "df.describe() #통계치출력"
   ]
  },
  {
   "cell_type": "code",
   "execution_count": 71,
   "metadata": {},
   "outputs": [
    {
     "data": {
      "text/html": [
       "<div>\n",
       "<style scoped>\n",
       "    .dataframe tbody tr th:only-of-type {\n",
       "        vertical-align: middle;\n",
       "    }\n",
       "\n",
       "    .dataframe tbody tr th {\n",
       "        vertical-align: top;\n",
       "    }\n",
       "\n",
       "    .dataframe thead th {\n",
       "        text-align: right;\n",
       "    }\n",
       "</style>\n",
       "<table border=\"1\" class=\"dataframe\">\n",
       "  <thead>\n",
       "    <tr style=\"text-align: right;\">\n",
       "      <th></th>\n",
       "      <th>종가</th>\n",
       "      <th>전일비</th>\n",
       "      <th>시가</th>\n",
       "      <th>고가</th>\n",
       "      <th>저가</th>\n",
       "      <th>거래량</th>\n",
       "      <th>Open*</th>\n",
       "      <th>High</th>\n",
       "      <th>Low</th>\n",
       "      <th>Close**</th>\n",
       "      <th>Volume</th>\n",
       "      <th>Market Cap</th>\n",
       "    </tr>\n",
       "  </thead>\n",
       "  <tbody>\n",
       "    <tr>\n",
       "      <th>종가</th>\n",
       "      <td>6.846078e+06</td>\n",
       "      <td>-1.755498e+04</td>\n",
       "      <td>6.807220e+06</td>\n",
       "      <td>6.780417e+06</td>\n",
       "      <td>6.748902e+06</td>\n",
       "      <td>-1.768174e+09</td>\n",
       "      <td>1.509873e+06</td>\n",
       "      <td>1.509372e+06</td>\n",
       "      <td>1.519761e+06</td>\n",
       "      <td>1.530810e+06</td>\n",
       "      <td>-1.766514e+12</td>\n",
       "      <td>2.530176e+13</td>\n",
       "    </tr>\n",
       "    <tr>\n",
       "      <th>전일비</th>\n",
       "      <td>-1.755498e+04</td>\n",
       "      <td>1.984669e+05</td>\n",
       "      <td>-1.146445e+04</td>\n",
       "      <td>2.638181e+04</td>\n",
       "      <td>-4.971497e+04</td>\n",
       "      <td>8.561799e+08</td>\n",
       "      <td>-1.569126e+04</td>\n",
       "      <td>-2.158713e+04</td>\n",
       "      <td>-1.742792e+04</td>\n",
       "      <td>-2.561715e+04</td>\n",
       "      <td>-1.813583e+11</td>\n",
       "      <td>-4.628508e+11</td>\n",
       "    </tr>\n",
       "    <tr>\n",
       "      <th>시가</th>\n",
       "      <td>6.807220e+06</td>\n",
       "      <td>-1.146445e+04</td>\n",
       "      <td>7.094596e+06</td>\n",
       "      <td>6.898380e+06</td>\n",
       "      <td>6.874931e+06</td>\n",
       "      <td>-1.543646e+09</td>\n",
       "      <td>1.544614e+06</td>\n",
       "      <td>1.544355e+06</td>\n",
       "      <td>1.547371e+06</td>\n",
       "      <td>1.560183e+06</td>\n",
       "      <td>-1.646136e+12</td>\n",
       "      <td>2.579749e+13</td>\n",
       "    </tr>\n",
       "    <tr>\n",
       "      <th>고가</th>\n",
       "      <td>6.780417e+06</td>\n",
       "      <td>2.638181e+04</td>\n",
       "      <td>6.898380e+06</td>\n",
       "      <td>6.845196e+06</td>\n",
       "      <td>6.757650e+06</td>\n",
       "      <td>-1.307755e+09</td>\n",
       "      <td>1.532320e+06</td>\n",
       "      <td>1.531849e+06</td>\n",
       "      <td>1.541699e+06</td>\n",
       "      <td>1.551951e+06</td>\n",
       "      <td>-1.657222e+12</td>\n",
       "      <td>2.567207e+13</td>\n",
       "    </tr>\n",
       "    <tr>\n",
       "      <th>저가</th>\n",
       "      <td>6.748902e+06</td>\n",
       "      <td>-4.971497e+04</td>\n",
       "      <td>6.874931e+06</td>\n",
       "      <td>6.757650e+06</td>\n",
       "      <td>6.786465e+06</td>\n",
       "      <td>-1.902252e+09</td>\n",
       "      <td>1.518191e+06</td>\n",
       "      <td>1.521359e+06</td>\n",
       "      <td>1.524395e+06</td>\n",
       "      <td>1.540312e+06</td>\n",
       "      <td>-1.758229e+12</td>\n",
       "      <td>2.544846e+13</td>\n",
       "    </tr>\n",
       "    <tr>\n",
       "      <th>거래량</th>\n",
       "      <td>-1.768174e+09</td>\n",
       "      <td>8.561799e+08</td>\n",
       "      <td>-1.543646e+09</td>\n",
       "      <td>-1.307755e+09</td>\n",
       "      <td>-1.902252e+09</td>\n",
       "      <td>1.539529e+13</td>\n",
       "      <td>-6.895658e+08</td>\n",
       "      <td>-7.620610e+08</td>\n",
       "      <td>-6.713624e+08</td>\n",
       "      <td>-7.452021e+08</td>\n",
       "      <td>8.860541e+14</td>\n",
       "      <td>-1.248894e+16</td>\n",
       "    </tr>\n",
       "    <tr>\n",
       "      <th>Open*</th>\n",
       "      <td>1.509873e+06</td>\n",
       "      <td>-1.569126e+04</td>\n",
       "      <td>1.544614e+06</td>\n",
       "      <td>1.532320e+06</td>\n",
       "      <td>1.518191e+06</td>\n",
       "      <td>-6.895658e+08</td>\n",
       "      <td>2.294040e+06</td>\n",
       "      <td>2.326722e+06</td>\n",
       "      <td>2.226557e+06</td>\n",
       "      <td>2.271367e+06</td>\n",
       "      <td>1.577697e+12</td>\n",
       "      <td>3.895097e+13</td>\n",
       "    </tr>\n",
       "    <tr>\n",
       "      <th>High</th>\n",
       "      <td>1.509372e+06</td>\n",
       "      <td>-2.158713e+04</td>\n",
       "      <td>1.544355e+06</td>\n",
       "      <td>1.531849e+06</td>\n",
       "      <td>1.521359e+06</td>\n",
       "      <td>-7.620610e+08</td>\n",
       "      <td>2.326722e+06</td>\n",
       "      <td>2.380016e+06</td>\n",
       "      <td>2.264298e+06</td>\n",
       "      <td>2.324452e+06</td>\n",
       "      <td>1.850203e+12</td>\n",
       "      <td>3.988235e+13</td>\n",
       "    </tr>\n",
       "    <tr>\n",
       "      <th>Low</th>\n",
       "      <td>1.519761e+06</td>\n",
       "      <td>-1.742792e+04</td>\n",
       "      <td>1.547371e+06</td>\n",
       "      <td>1.541699e+06</td>\n",
       "      <td>1.524395e+06</td>\n",
       "      <td>-6.713624e+08</td>\n",
       "      <td>2.226557e+06</td>\n",
       "      <td>2.264298e+06</td>\n",
       "      <td>2.181327e+06</td>\n",
       "      <td>2.226544e+06</td>\n",
       "      <td>1.453797e+12</td>\n",
       "      <td>3.818191e+13</td>\n",
       "    </tr>\n",
       "    <tr>\n",
       "      <th>Close**</th>\n",
       "      <td>1.530810e+06</td>\n",
       "      <td>-2.561715e+04</td>\n",
       "      <td>1.560183e+06</td>\n",
       "      <td>1.551951e+06</td>\n",
       "      <td>1.540312e+06</td>\n",
       "      <td>-7.452021e+08</td>\n",
       "      <td>2.271367e+06</td>\n",
       "      <td>2.324452e+06</td>\n",
       "      <td>2.226544e+06</td>\n",
       "      <td>2.287781e+06</td>\n",
       "      <td>1.706507e+12</td>\n",
       "      <td>3.925147e+13</td>\n",
       "    </tr>\n",
       "    <tr>\n",
       "      <th>Volume</th>\n",
       "      <td>-1.766514e+12</td>\n",
       "      <td>-1.813583e+11</td>\n",
       "      <td>-1.646136e+12</td>\n",
       "      <td>-1.657222e+12</td>\n",
       "      <td>-1.758229e+12</td>\n",
       "      <td>8.860541e+14</td>\n",
       "      <td>1.577697e+12</td>\n",
       "      <td>1.850203e+12</td>\n",
       "      <td>1.453797e+12</td>\n",
       "      <td>1.706507e+12</td>\n",
       "      <td>3.876248e+19</td>\n",
       "      <td>3.587102e+19</td>\n",
       "    </tr>\n",
       "    <tr>\n",
       "      <th>Market Cap</th>\n",
       "      <td>2.530176e+13</td>\n",
       "      <td>-4.628508e+11</td>\n",
       "      <td>2.579749e+13</td>\n",
       "      <td>2.567207e+13</td>\n",
       "      <td>2.544846e+13</td>\n",
       "      <td>-1.248894e+16</td>\n",
       "      <td>3.895097e+13</td>\n",
       "      <td>3.988235e+13</td>\n",
       "      <td>3.818191e+13</td>\n",
       "      <td>3.925147e+13</td>\n",
       "      <td>3.587102e+19</td>\n",
       "      <td>6.748424e+20</td>\n",
       "    </tr>\n",
       "  </tbody>\n",
       "</table>\n",
       "</div>"
      ],
      "text/plain": [
       "                      종가           전일비            시가            고가  \\\n",
       "종가          6.846078e+06 -1.755498e+04  6.807220e+06  6.780417e+06   \n",
       "전일비        -1.755498e+04  1.984669e+05 -1.146445e+04  2.638181e+04   \n",
       "시가          6.807220e+06 -1.146445e+04  7.094596e+06  6.898380e+06   \n",
       "고가          6.780417e+06  2.638181e+04  6.898380e+06  6.845196e+06   \n",
       "저가          6.748902e+06 -4.971497e+04  6.874931e+06  6.757650e+06   \n",
       "거래량        -1.768174e+09  8.561799e+08 -1.543646e+09 -1.307755e+09   \n",
       "Open*       1.509873e+06 -1.569126e+04  1.544614e+06  1.532320e+06   \n",
       "High        1.509372e+06 -2.158713e+04  1.544355e+06  1.531849e+06   \n",
       "Low         1.519761e+06 -1.742792e+04  1.547371e+06  1.541699e+06   \n",
       "Close**     1.530810e+06 -2.561715e+04  1.560183e+06  1.551951e+06   \n",
       "Volume     -1.766514e+12 -1.813583e+11 -1.646136e+12 -1.657222e+12   \n",
       "Market Cap  2.530176e+13 -4.628508e+11  2.579749e+13  2.567207e+13   \n",
       "\n",
       "                      저가           거래량         Open*          High  \\\n",
       "종가          6.748902e+06 -1.768174e+09  1.509873e+06  1.509372e+06   \n",
       "전일비        -4.971497e+04  8.561799e+08 -1.569126e+04 -2.158713e+04   \n",
       "시가          6.874931e+06 -1.543646e+09  1.544614e+06  1.544355e+06   \n",
       "고가          6.757650e+06 -1.307755e+09  1.532320e+06  1.531849e+06   \n",
       "저가          6.786465e+06 -1.902252e+09  1.518191e+06  1.521359e+06   \n",
       "거래량        -1.902252e+09  1.539529e+13 -6.895658e+08 -7.620610e+08   \n",
       "Open*       1.518191e+06 -6.895658e+08  2.294040e+06  2.326722e+06   \n",
       "High        1.521359e+06 -7.620610e+08  2.326722e+06  2.380016e+06   \n",
       "Low         1.524395e+06 -6.713624e+08  2.226557e+06  2.264298e+06   \n",
       "Close**     1.540312e+06 -7.452021e+08  2.271367e+06  2.324452e+06   \n",
       "Volume     -1.758229e+12  8.860541e+14  1.577697e+12  1.850203e+12   \n",
       "Market Cap  2.544846e+13 -1.248894e+16  3.895097e+13  3.988235e+13   \n",
       "\n",
       "                     Low       Close**        Volume    Market Cap  \n",
       "종가          1.519761e+06  1.530810e+06 -1.766514e+12  2.530176e+13  \n",
       "전일비        -1.742792e+04 -2.561715e+04 -1.813583e+11 -4.628508e+11  \n",
       "시가          1.547371e+06  1.560183e+06 -1.646136e+12  2.579749e+13  \n",
       "고가          1.541699e+06  1.551951e+06 -1.657222e+12  2.567207e+13  \n",
       "저가          1.524395e+06  1.540312e+06 -1.758229e+12  2.544846e+13  \n",
       "거래량        -6.713624e+08 -7.452021e+08  8.860541e+14 -1.248894e+16  \n",
       "Open*       2.226557e+06  2.271367e+06  1.577697e+12  3.895097e+13  \n",
       "High        2.264298e+06  2.324452e+06  1.850203e+12  3.988235e+13  \n",
       "Low         2.181327e+06  2.226544e+06  1.453797e+12  3.818191e+13  \n",
       "Close**     2.226544e+06  2.287781e+06  1.706507e+12  3.925147e+13  \n",
       "Volume      1.453797e+12  1.706507e+12  3.876248e+19  3.587102e+19  \n",
       "Market Cap  3.818191e+13  3.925147e+13  3.587102e+19  6.748424e+20  "
      ]
     },
     "execution_count": 71,
     "metadata": {},
     "output_type": "execute_result"
    }
   ],
   "source": [
    "df.cov()#상관관계"
   ]
  },
  {
   "cell_type": "code",
   "execution_count": 75,
   "metadata": {},
   "outputs": [
    {
     "data": {
      "text/html": [
       "<div>\n",
       "<style scoped>\n",
       "    .dataframe tbody tr th:only-of-type {\n",
       "        vertical-align: middle;\n",
       "    }\n",
       "\n",
       "    .dataframe tbody tr th {\n",
       "        vertical-align: top;\n",
       "    }\n",
       "\n",
       "    .dataframe thead th {\n",
       "        text-align: right;\n",
       "    }\n",
       "</style>\n",
       "<table border=\"1\" class=\"dataframe\">\n",
       "  <thead>\n",
       "    <tr style=\"text-align: right;\">\n",
       "      <th></th>\n",
       "      <th>종가</th>\n",
       "      <th>전일비</th>\n",
       "      <th>시가</th>\n",
       "      <th>고가</th>\n",
       "      <th>저가</th>\n",
       "      <th>거래량</th>\n",
       "      <th>Open*</th>\n",
       "      <th>High</th>\n",
       "      <th>Low</th>\n",
       "      <th>Close**</th>\n",
       "      <th>Volume</th>\n",
       "      <th>Market Cap</th>\n",
       "    </tr>\n",
       "  </thead>\n",
       "  <tbody>\n",
       "    <tr>\n",
       "      <th>2018-06-01</th>\n",
       "      <td>51300.0</td>\n",
       "      <td>600.0</td>\n",
       "      <td>50500.0</td>\n",
       "      <td>51700.0</td>\n",
       "      <td>49950.0</td>\n",
       "      <td>13038499.0</td>\n",
       "      <td>7500.70</td>\n",
       "      <td>7604.73</td>\n",
       "      <td>7407.34</td>\n",
       "      <td>7541.45</td>\n",
       "      <td>4.921460e+09</td>\n",
       "      <td>1.287259e+11</td>\n",
       "    </tr>\n",
       "    <tr>\n",
       "      <th>2018-06-04</th>\n",
       "      <td>51100.0</td>\n",
       "      <td>200.0</td>\n",
       "      <td>50800.0</td>\n",
       "      <td>51200.0</td>\n",
       "      <td>50700.0</td>\n",
       "      <td>9767171.0</td>\n",
       "      <td>7722.53</td>\n",
       "      <td>7753.82</td>\n",
       "      <td>7474.04</td>\n",
       "      <td>7514.47</td>\n",
       "      <td>4.993170e+09</td>\n",
       "      <td>1.283122e+11</td>\n",
       "    </tr>\n",
       "    <tr>\n",
       "      <th>2018-06-05</th>\n",
       "      <td>51300.0</td>\n",
       "      <td>200.0</td>\n",
       "      <td>51100.0</td>\n",
       "      <td>51400.0</td>\n",
       "      <td>50400.0</td>\n",
       "      <td>9144100.0</td>\n",
       "      <td>7500.90</td>\n",
       "      <td>7643.23</td>\n",
       "      <td>7397.00</td>\n",
       "      <td>7633.76</td>\n",
       "      <td>4.961740e+09</td>\n",
       "      <td>1.303659e+11</td>\n",
       "    </tr>\n",
       "    <tr>\n",
       "      <th>2018-06-07</th>\n",
       "      <td>50600.0</td>\n",
       "      <td>700.0</td>\n",
       "      <td>51800.0</td>\n",
       "      <td>51800.0</td>\n",
       "      <td>50500.0</td>\n",
       "      <td>13590016.0</td>\n",
       "      <td>7650.82</td>\n",
       "      <td>7741.27</td>\n",
       "      <td>7650.82</td>\n",
       "      <td>7678.24</td>\n",
       "      <td>4.485800e+09</td>\n",
       "      <td>1.311532e+11</td>\n",
       "    </tr>\n",
       "    <tr>\n",
       "      <th>2018-06-08</th>\n",
       "      <td>49650.0</td>\n",
       "      <td>950.0</td>\n",
       "      <td>50200.0</td>\n",
       "      <td>50400.0</td>\n",
       "      <td>49600.0</td>\n",
       "      <td>16951706.0</td>\n",
       "      <td>7685.14</td>\n",
       "      <td>7698.19</td>\n",
       "      <td>7558.40</td>\n",
       "      <td>7624.92</td>\n",
       "      <td>4.227580e+09</td>\n",
       "      <td>1.302562e+11</td>\n",
       "    </tr>\n",
       "  </tbody>\n",
       "</table>\n",
       "</div>"
      ],
      "text/plain": [
       "                 종가    전일비       시가       고가       저가         거래량    Open*  \\\n",
       "2018-06-01  51300.0  600.0  50500.0  51700.0  49950.0  13038499.0  7500.70   \n",
       "2018-06-04  51100.0  200.0  50800.0  51200.0  50700.0   9767171.0  7722.53   \n",
       "2018-06-05  51300.0  200.0  51100.0  51400.0  50400.0   9144100.0  7500.90   \n",
       "2018-06-07  50600.0  700.0  51800.0  51800.0  50500.0  13590016.0  7650.82   \n",
       "2018-06-08  49650.0  950.0  50200.0  50400.0  49600.0  16951706.0  7685.14   \n",
       "\n",
       "               High      Low  Close**        Volume    Market Cap  \n",
       "2018-06-01  7604.73  7407.34  7541.45  4.921460e+09  1.287259e+11  \n",
       "2018-06-04  7753.82  7474.04  7514.47  4.993170e+09  1.283122e+11  \n",
       "2018-06-05  7643.23  7397.00  7633.76  4.961740e+09  1.303659e+11  \n",
       "2018-06-07  7741.27  7650.82  7678.24  4.485800e+09  1.311532e+11  \n",
       "2018-06-08  7698.19  7558.40  7624.92  4.227580e+09  1.302562e+11  "
      ]
     },
     "execution_count": 75,
     "metadata": {},
     "output_type": "execute_result"
    }
   ],
   "source": [
    "df.head()"
   ]
  },
  {
   "cell_type": "code",
   "execution_count": 92,
   "metadata": {},
   "outputs": [],
   "source": [
    "비트코인변화 = df['Open*'] - df['Close**']\n",
    "주가변화 = df['시가'] - df['종가']\n",
    "과거비트코인변화 = 비트코인변화.iloc[:-1]\n",
    "다음날주가변화 = 주가변화.iloc[1:]"
   ]
  },
  {
   "cell_type": "code",
   "execution_count": 94,
   "metadata": {},
   "outputs": [
    {
     "data": {
      "text/plain": [
       "2018-06-01    -40.75\n",
       "2018-06-04    208.06\n",
       "2018-06-05   -132.86\n",
       "2018-06-07    -27.42\n",
       "2018-06-08     60.22\n",
       "2018-06-11   -107.63\n",
       "2018-06-12    323.46\n",
       "2018-06-14   -332.60\n",
       "2018-06-15    217.50\n",
       "2018-06-18   -224.75\n",
       "2018-06-19    -27.55\n",
       "2018-06-20     -5.79\n",
       "2018-06-21     50.35\n",
       "2018-06-22    654.19\n",
       "2018-06-25    -77.21\n",
       "2018-06-26    159.88\n",
       "2018-06-27    -72.73\n",
       "2018-06-28    249.72\n",
       "2018-06-29   -320.17\n",
       "2018-07-02   -233.80\n",
       "2018-07-03     67.07\n",
       "2018-07-04    -46.68\n",
       "2018-07-05    -39.43\n",
       "2018-07-06    -34.81\n",
       "2018-07-09     33.33\n",
       "2018-07-10    409.26\n",
       "2018-07-11    -63.94\n",
       "2018-07-12    167.97\n",
       "2018-07-13     -3.02\n",
       "2018-07-16   -384.74\n",
       "               ...  \n",
       "2019-04-18    -46.91\n",
       "2019-04-19     -5.66\n",
       "2019-04-22    -86.88\n",
       "2019-04-23   -172.99\n",
       "2019-04-24    106.64\n",
       "2019-04-25    256.00\n",
       "2019-04-26    -69.05\n",
       "2019-04-29     37.51\n",
       "2019-04-30   -103.00\n",
       "2019-05-02   -102.86\n",
       "2019-05-03   -262.74\n",
       "2019-05-07    -83.90\n",
       "2019-05-08   -132.98\n",
       "2019-05-09   -192.21\n",
       "2019-05-10   -203.03\n",
       "2019-05-13   -843.74\n",
       "2019-05-14   -186.54\n",
       "2019-05-15   -215.80\n",
       "2019-05-16    309.59\n",
       "2019-05-17    543.03\n",
       "2019-05-20    218.61\n",
       "2019-05-21     14.64\n",
       "2019-05-22    276.22\n",
       "2019-05-23   -204.58\n",
       "2019-05-24   -105.67\n",
       "2019-05-27   -131.71\n",
       "2019-05-28     82.80\n",
       "2019-05-29     59.10\n",
       "2019-05-30    342.29\n",
       "2019-05-31   -254.21\n",
       "Length: 244, dtype: float64"
      ]
     },
     "execution_count": 94,
     "metadata": {},
     "output_type": "execute_result"
    }
   ],
   "source": [
    "비트코인변화"
   ]
  },
  {
   "cell_type": "code",
   "execution_count": 83,
   "metadata": {},
   "outputs": [
    {
     "data": {
      "text/plain": [
       "<matplotlib.collections.PathCollection at 0x22c26b20358>"
      ]
     },
     "execution_count": 83,
     "metadata": {},
     "output_type": "execute_result"
    },
    {
     "data": {
      "image/png": "[encoded data removed]",
      "text/plain": [
       "<Figure size 432x288 with 1 Axes>"
      ]
     },
     "metadata": {
      "needs_background": "light"
     },
     "output_type": "display_data"
    }
   ],
   "source": [
    "plt.scatter(과거비트코인변화, 다음날주가변화)"
   ]
  },
  {
   "cell_type": "code",
   "execution_count": 88,
   "metadata": {},
   "outputs": [
    {
     "data": {
      "text/plain": [
       "(array([[ 1.        , -0.07316871],\n",
       "        [-0.07316871,  1.        ]]),)"
      ]
     },
     "execution_count": 88,
     "metadata": {},
     "output_type": "execute_result"
    }
   ],
   "source": [
    "np.corrcoef(과거비트코인변화, 다음날주가변화),\n",
    "#상관계수가 0에 가까우므로 둘은 상관관계가 거의 없음"
   ]
  },
  {
   "cell_type": "code",
   "execution_count": 138,
   "metadata": {},
   "outputs": [
    {
     "data": {
      "text/plain": [
       "244"
      ]
     },
     "execution_count": 138,
     "metadata": {},
     "output_type": "execute_result"
    }
   ],
   "source": [
    "len(df)"
   ]
  },
  {
   "cell_type": "code",
   "execution_count": 97,
   "metadata": {},
   "outputs": [
    {
     "data": {
      "text/plain": [
       "(244, 155)"
      ]
     },
     "execution_count": 97,
     "metadata": {},
     "output_type": "execute_result"
    }
   ],
   "source": [
    "\n",
    "input_seq = 60\n",
    "output_seq = 30\n",
    "m = len(df) - (input_seq + output_seq)+1\n",
    "len(df), m"
   ]
  },
  {
   "cell_type": "code",
   "execution_count": 149,
   "metadata": {},
   "outputs": [],
   "source": [
    "df = df/df.sum()\n",
    "#min_max\n",
    "df - (df-df.min())/(df.max()-df.min()) #min_max정규화 (0~1사이로 값이 일치됨)\n",
    "x_list = []\n",
    "y_list = []\n",
    "for i in range(m): #가장최근 60일, 30일을 기준으로 잡기위함\n",
    "    x = df.iloc[i:i+input_seq]\n",
    "    y =df.iloc[i+input_seq:i+input_seq+output_seq][['종가', 'Close**']]\n",
    "    #rint(x.shape, y.shape)\n",
    "    x_list.append(x)\n",
    "    y_list.append(y)"
   ]
  },
  {
   "cell_type": "code",
   "execution_count": null,
   "metadata": {},
   "outputs": [],
   "source": []
  },
  {
   "cell_type": "code",
   "execution_count": 150,
   "metadata": {},
   "outputs": [
    {
     "data": {
      "text/plain": [
       "((155, 60, 12), (155, 30, 2))"
      ]
     },
     "execution_count": 150,
     "metadata": {},
     "output_type": "execute_result"
    }
   ],
   "source": [
    "len(x_list), type(x_list) #(155,60,12)\n",
    "#155개를 스택에 쌓음\n",
    "x_3d = np.stack(x_list, axis = 0)\n",
    "y_3d = np.stack(y_list, axis = 0)\n",
    "x_3d.shape, y_3d.shape"
   ]
  },
  {
   "cell_type": "code",
   "execution_count": 151,
   "metadata": {},
   "outputs": [
    {
     "data": {
      "text/plain": [
       "15"
      ]
     },
     "execution_count": 151,
     "metadata": {},
     "output_type": "execute_result"
    }
   ],
   "source": [
    "test_ratio = 0.1\n",
    "test_m = int(len(x_3d)*test_ratio)\n",
    "test_m"
   ]
  },
  {
   "cell_type": "code",
   "execution_count": 152,
   "metadata": {},
   "outputs": [],
   "source": [
    "m = len(x_3d)\n",
    "x_2d = np.reshape(x_3d, [m, -1])#-1로 하면 컬럼쪽을 알아서 자동으로 2차원으로 맞춰줌...\n",
    "y_2d = np.reshape(y_3d, [m, -1])\n",
    "x_test = x_2d[:test_m]\n",
    "x_train = x_2d[test_m:]\n",
    "y_test = y_2d[:test_m]\n",
    "y_train = y_2d[test_m:]"
   ]
  },
  {
   "cell_type": "code",
   "execution_count": 153,
   "metadata": {},
   "outputs": [],
   "source": [
    "#model, Linear Regression, 가중치를 작게 제약시킨다. > 모든정보를 활용해서 예측\n",
    "from sklearn.linear_model import Ridge\n",
    "model = Ridge(normalize = True, solver='lsqr').fit(x_train, y_train) #2차원 이하만 가능"
   ]
  },
  {
   "cell_type": "code",
   "execution_count": 154,
   "metadata": {},
   "outputs": [
    {
     "data": {
      "text/plain": [
       "(0.9795854495349554, -28.641110527395576)"
      ]
     },
     "execution_count": 154,
     "metadata": {},
     "output_type": "execute_result"
    }
   ],
   "source": [
    "model.score(x_train, y_train), model.score(x_test, y_test)#과적합 발생"
   ]
  },
  {
   "cell_type": "code",
   "execution_count": 156,
   "metadata": {},
   "outputs": [
    {
     "data": {
      "text/plain": [
       "(1, 720)"
      ]
     },
     "execution_count": 156,
     "metadata": {},
     "output_type": "execute_result"
    }
   ],
   "source": [
    "#가장최근데이터\n",
    "recent = df.iloc[-input_seq:]\n",
    "recent.shape\n",
    "recent = np.reshape(np.array(recent), [1, -1])\n",
    "recent.shape"
   ]
  },
  {
   "cell_type": "code",
   "execution_count": 157,
   "metadata": {},
   "outputs": [
    {
     "data": {
      "text/plain": [
       "(30, 2)"
      ]
     },
     "execution_count": 157,
     "metadata": {},
     "output_type": "execute_result"
    }
   ],
   "source": [
    "p = model.predict(recent) #미래예측\n",
    "p = np.reshape(p, [output_seq, -1])\n",
    "p.shape"
   ]
  },
  {
   "cell_type": "code",
   "execution_count": 105,
   "metadata": {},
   "outputs": [],
   "source": [
    "korea_close_index = 0\n",
    "bitcoin_close_index = 9"
   ]
  },
  {
   "cell_type": "code",
   "execution_count": 158,
   "metadata": {},
   "outputs": [
    {
     "data": {
      "text/plain": [
       "<matplotlib.legend.Legend at 0x22c2a7b77f0>"
      ]
     },
     "execution_count": 158,
     "metadata": {},
     "output_type": "execute_result"
    },
    {
     "data": {
      "image/png": "[encoded data removed]",
      "text/plain": [
       "<Figure size 432x288 with 1 Axes>"
      ]
     },
     "metadata": {
      "needs_background": "light"
     },
     "output_type": "display_data"
    }
   ],
   "source": [
    "xm = len(df)\n",
    "plt.plot(np.arange(xm), df['종가'].values)\n",
    "plt.plot(np.arange(xm), df['Close**'].values)\n",
    "plt.plot(np.arange(xm, xm+output_seq), p[:, 0], label='samsung')\n",
    "plt.plot(np.arange(xm, xm+output_seq), p[:, 1], label='bitcoin')\n",
    "plt.legend()"
   ]
  },
  {
   "cell_type": "code",
   "execution_count": null,
   "metadata": {},
   "outputs": [],
   "source": []
  }
 ],
 "metadata": {
  "kernelspec": {
   "display_name": "Python 3",
   "language": "python",
   "name": "python3"
  },
  "language_info": {
   "codemirror_mode": {
    "name": "ipython",
    "version": 3
   },
   "file_extension": ".py",
   "mimetype": "text/x-python",
   "name": "python",
   "nbconvert_exporter": "python",
   "pygments_lexer": "ipython3",
   "version": "3.7.3"
  }
 },
 "nbformat": 4,
 "nbformat_minor": 2
}
