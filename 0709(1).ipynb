{
 "cells": [
  {
   "cell_type": "code",
   "execution_count": null,
   "metadata": {},
   "outputs": [],
   "source": [
    "#캐글러 따라하기\n",
    "서울 공기오염 예측"
   ]
  },
  {
   "cell_type": "code",
   "execution_count": 1,
   "metadata": {},
   "outputs": [
    {
     "data": {
      "text/plain": [
       "(4225, 8)"
      ]
     },
     "execution_count": 1,
     "metadata": {},
     "output_type": "execute_result"
    }
   ],
   "source": [
    "import pandas as pd\n",
    "train = pd.read_csv(\"C:/Users/wtime/SeoulHourlyAvgAirPollution.csv\")\n",
    "train.shape"
   ]
  },
  {
   "cell_type": "code",
   "execution_count": 3,
   "metadata": {},
   "outputs": [
    {
     "data": {
      "text/html": [
       "<div>\n",
       "<style scoped>\n",
       "    .dataframe tbody tr th:only-of-type {\n",
       "        vertical-align: middle;\n",
       "    }\n",
       "\n",
       "    .dataframe tbody tr th {\n",
       "        vertical-align: top;\n",
       "    }\n",
       "\n",
       "    .dataframe thead th {\n",
       "        text-align: right;\n",
       "    }\n",
       "</style>\n",
       "<table border=\"1\" class=\"dataframe\">\n",
       "  <thead>\n",
       "    <tr style=\"text-align: right;\">\n",
       "      <th></th>\n",
       "      <th>측정일시</th>\n",
       "      <th>측정소명</th>\n",
       "      <th>이산화질소농도(ppm)</th>\n",
       "      <th>오존농도(ppm)</th>\n",
       "      <th>일산화탄소농도(ppm)</th>\n",
       "      <th>아황산가스(ppm)</th>\n",
       "      <th>미세먼지(㎍/㎥)</th>\n",
       "      <th>초미세먼지(㎍/㎥)</th>\n",
       "    </tr>\n",
       "  </thead>\n",
       "  <tbody>\n",
       "    <tr>\n",
       "      <th>0</th>\n",
       "      <td>201711242300</td>\n",
       "      <td>강남구</td>\n",
       "      <td>0.038</td>\n",
       "      <td>0.004</td>\n",
       "      <td>0.4</td>\n",
       "      <td>0.005</td>\n",
       "      <td>16.0</td>\n",
       "      <td>10.0</td>\n",
       "    </tr>\n",
       "    <tr>\n",
       "      <th>1</th>\n",
       "      <td>201711242200</td>\n",
       "      <td>강남구</td>\n",
       "      <td>0.031</td>\n",
       "      <td>0.008</td>\n",
       "      <td>0.4</td>\n",
       "      <td>0.005</td>\n",
       "      <td>17.0</td>\n",
       "      <td>9.0</td>\n",
       "    </tr>\n",
       "    <tr>\n",
       "      <th>2</th>\n",
       "      <td>201711242100</td>\n",
       "      <td>강남구</td>\n",
       "      <td>0.025</td>\n",
       "      <td>0.012</td>\n",
       "      <td>0.4</td>\n",
       "      <td>0.005</td>\n",
       "      <td>18.0</td>\n",
       "      <td>11.0</td>\n",
       "    </tr>\n",
       "    <tr>\n",
       "      <th>3</th>\n",
       "      <td>201711242000</td>\n",
       "      <td>강남구</td>\n",
       "      <td>0.033</td>\n",
       "      <td>0.007</td>\n",
       "      <td>0.4</td>\n",
       "      <td>0.005</td>\n",
       "      <td>21.0</td>\n",
       "      <td>12.0</td>\n",
       "    </tr>\n",
       "    <tr>\n",
       "      <th>4</th>\n",
       "      <td>201711241900</td>\n",
       "      <td>강남구</td>\n",
       "      <td>0.033</td>\n",
       "      <td>0.008</td>\n",
       "      <td>0.4</td>\n",
       "      <td>0.005</td>\n",
       "      <td>20.0</td>\n",
       "      <td>10.0</td>\n",
       "    </tr>\n",
       "  </tbody>\n",
       "</table>\n",
       "</div>"
      ],
      "text/plain": [
       "           측정일시 측정소명  이산화질소농도(ppm)  오존농도(ppm)  일산화탄소농도(ppm)  아황산가스(ppm)  \\\n",
       "0  201711242300  강남구         0.038      0.004           0.4       0.005   \n",
       "1  201711242200  강남구         0.031      0.008           0.4       0.005   \n",
       "2  201711242100  강남구         0.025      0.012           0.4       0.005   \n",
       "3  201711242000  강남구         0.033      0.007           0.4       0.005   \n",
       "4  201711241900  강남구         0.033      0.008           0.4       0.005   \n",
       "\n",
       "   미세먼지(㎍/㎥)  초미세먼지(㎍/㎥)  \n",
       "0       16.0        10.0  \n",
       "1       17.0         9.0  \n",
       "2       18.0        11.0  \n",
       "3       21.0        12.0  \n",
       "4       20.0        10.0  "
      ]
     },
     "execution_count": 3,
     "metadata": {},
     "output_type": "execute_result"
    }
   ],
   "source": [
    "train.head()"
   ]
  },
  {
   "cell_type": "code",
   "execution_count": 4,
   "metadata": {},
   "outputs": [
    {
     "data": {
      "text/html": [
       "<div>\n",
       "<style scoped>\n",
       "    .dataframe tbody tr th:only-of-type {\n",
       "        vertical-align: middle;\n",
       "    }\n",
       "\n",
       "    .dataframe tbody tr th {\n",
       "        vertical-align: top;\n",
       "    }\n",
       "\n",
       "    .dataframe thead th {\n",
       "        text-align: right;\n",
       "    }\n",
       "</style>\n",
       "<table border=\"1\" class=\"dataframe\">\n",
       "  <thead>\n",
       "    <tr style=\"text-align: right;\">\n",
       "      <th></th>\n",
       "      <th>Date/Time</th>\n",
       "      <th>Location</th>\n",
       "      <th>NO2</th>\n",
       "      <th>O3</th>\n",
       "      <th>CO</th>\n",
       "      <th>SO2</th>\n",
       "      <th>Fine Dust</th>\n",
       "      <th>Ultrafine Dust</th>\n",
       "    </tr>\n",
       "  </thead>\n",
       "  <tbody>\n",
       "    <tr>\n",
       "      <th>0</th>\n",
       "      <td>201711242300</td>\n",
       "      <td>강남구</td>\n",
       "      <td>0.038</td>\n",
       "      <td>0.004</td>\n",
       "      <td>0.4</td>\n",
       "      <td>0.005</td>\n",
       "      <td>16.0</td>\n",
       "      <td>10.0</td>\n",
       "    </tr>\n",
       "    <tr>\n",
       "      <th>1</th>\n",
       "      <td>201711242200</td>\n",
       "      <td>강남구</td>\n",
       "      <td>0.031</td>\n",
       "      <td>0.008</td>\n",
       "      <td>0.4</td>\n",
       "      <td>0.005</td>\n",
       "      <td>17.0</td>\n",
       "      <td>9.0</td>\n",
       "    </tr>\n",
       "    <tr>\n",
       "      <th>2</th>\n",
       "      <td>201711242100</td>\n",
       "      <td>강남구</td>\n",
       "      <td>0.025</td>\n",
       "      <td>0.012</td>\n",
       "      <td>0.4</td>\n",
       "      <td>0.005</td>\n",
       "      <td>18.0</td>\n",
       "      <td>11.0</td>\n",
       "    </tr>\n",
       "    <tr>\n",
       "      <th>3</th>\n",
       "      <td>201711242000</td>\n",
       "      <td>강남구</td>\n",
       "      <td>0.033</td>\n",
       "      <td>0.007</td>\n",
       "      <td>0.4</td>\n",
       "      <td>0.005</td>\n",
       "      <td>21.0</td>\n",
       "      <td>12.0</td>\n",
       "    </tr>\n",
       "    <tr>\n",
       "      <th>4</th>\n",
       "      <td>201711241900</td>\n",
       "      <td>강남구</td>\n",
       "      <td>0.033</td>\n",
       "      <td>0.008</td>\n",
       "      <td>0.4</td>\n",
       "      <td>0.005</td>\n",
       "      <td>20.0</td>\n",
       "      <td>10.0</td>\n",
       "    </tr>\n",
       "  </tbody>\n",
       "</table>\n",
       "</div>"
      ],
      "text/plain": [
       "      Date/Time Location    NO2     O3   CO    SO2  Fine Dust  Ultrafine Dust\n",
       "0  201711242300      강남구  0.038  0.004  0.4  0.005       16.0            10.0\n",
       "1  201711242200      강남구  0.031  0.008  0.4  0.005       17.0             9.0\n",
       "2  201711242100      강남구  0.025  0.012  0.4  0.005       18.0            11.0\n",
       "3  201711242000      강남구  0.033  0.007  0.4  0.005       21.0            12.0\n",
       "4  201711241900      강남구  0.033  0.008  0.4  0.005       20.0            10.0"
      ]
     },
     "execution_count": 4,
     "metadata": {},
     "output_type": "execute_result"
    }
   ],
   "source": [
    "train.rename(columns={'측정일시':'Date/Time','측정소명':'Location','이산화질소농도(ppm)':'NO2', '오존농도(ppm)':'O3','일산화탄소농도(ppm)':'CO','아황산가스(ppm)':'SO2','미세먼지(㎍/㎥)':'Fine Dust','초미세먼지(㎍/㎥)':'Ultrafine Dust'}, inplace=True)\n",
    "train.head()"
   ]
  },
  {
   "cell_type": "code",
   "execution_count": 5,
   "metadata": {},
   "outputs": [
    {
     "data": {
      "text/plain": [
       "종로구     169\n",
       "서초구     169\n",
       "강북구     169\n",
       "도봉구     169\n",
       "영등포구    169\n",
       "동대문구    169\n",
       "광진구     169\n",
       "송파구     169\n",
       "양천구     169\n",
       "노원구     169\n",
       "금천구     169\n",
       "성북구     169\n",
       "구로구     169\n",
       "관악구     169\n",
       "중랑구     169\n",
       "용산구     169\n",
       "성동구     169\n",
       "중구      169\n",
       "마포구     169\n",
       "은평구     169\n",
       "서대문구    169\n",
       "강서구     169\n",
       "동작구     169\n",
       "강동구     169\n",
       "강남구     169\n",
       "Name: Location, dtype: int64"
      ]
     },
     "execution_count": 5,
     "metadata": {},
     "output_type": "execute_result"
    }
   ],
   "source": [
    "train[\"Location\"].value_counts()"
   ]
  },
  {
   "cell_type": "code",
   "execution_count": 6,
   "metadata": {},
   "outputs": [],
   "source": [
    "train['Location'].replace(['동대문구','송파구','관악구','양천구','강남구','동작구','금천구','서초구','영등포구','광진구','강동구','성북구','중랑구', '강북구', '도봉구', '구로구', '노원구', '강서구', '용산구', '중구', '은평구', '서대문구', '종로구', '성동구', '마포구'],\n",
    "                        ['Dongdaemun','Songpa','Gwanak','Yangcheon','Gangnam','Dongjak','Geumcheon','Seocho', 'Yeongdeungpo','Gwangjin', 'Gangdong', 'Seongbuk', 'Jungnan', 'Gangbuk', 'Dobong', 'Guro', 'Nowon', 'Gangseo', 'Yongsan', 'Sungdong','Jung', 'Eunpeung', 'Seodaemun', 'Jonro', 'Mapo'],inplace=True)"
   ]
  },
  {
   "cell_type": "code",
   "execution_count": 7,
   "metadata": {},
   "outputs": [
    {
     "data": {
      "text/plain": [
       "Geumcheon       169\n",
       "Gangbuk         169\n",
       "Dobong          169\n",
       "Jungnan         169\n",
       "Jonro           169\n",
       "Gwanak          169\n",
       "Yongsan         169\n",
       "Gangdong        169\n",
       "Seocho          169\n",
       "Jung            169\n",
       "Yangcheon       169\n",
       "Nowon           169\n",
       "Eunpeung        169\n",
       "Seongbuk        169\n",
       "Dongdaemun      169\n",
       "Guro            169\n",
       "Yeongdeungpo    169\n",
       "Songpa          169\n",
       "Seodaemun       169\n",
       "Sungdong        169\n",
       "Mapo            169\n",
       "Gangnam         169\n",
       "Dongjak         169\n",
       "Gangseo         169\n",
       "Gwangjin        169\n",
       "Name: Location, dtype: int64"
      ]
     },
     "execution_count": 7,
     "metadata": {},
     "output_type": "execute_result"
    }
   ],
   "source": [
    "train[\"Location\"].value_counts()"
   ]
  },
  {
   "cell_type": "code",
   "execution_count": 8,
   "metadata": {},
   "outputs": [
    {
     "data": {
      "text/plain": [
       "0    23\n",
       "1    22\n",
       "2    21\n",
       "3    20\n",
       "4    19\n",
       "Name: Hour, dtype: int64"
      ]
     },
     "execution_count": 8,
     "metadata": {},
     "output_type": "execute_result"
    }
   ],
   "source": [
    "train[\"Date/Time\"] = train[\"Date/Time\"] // 100\n",
    "train[\"Hour\"] = train[\"Date/Time\"] % 100\n",
    "train[\"Hour\"].head()"
   ]
  },
  {
   "cell_type": "code",
   "execution_count": 9,
   "metadata": {},
   "outputs": [],
   "source": [
    "train[\"Date/Time\"] = train[\"Date/Time\"] // 100"
   ]
  },
  {
   "cell_type": "code",
   "execution_count": 10,
   "metadata": {},
   "outputs": [
    {
     "data": {
      "text/plain": [
       "0    24\n",
       "1    24\n",
       "2    24\n",
       "3    24\n",
       "4    24\n",
       "Name: Date, dtype: int64"
      ]
     },
     "execution_count": 10,
     "metadata": {},
     "output_type": "execute_result"
    }
   ],
   "source": [
    "train[\"Date\"] = train[\"Date/Time\"] % 100\n",
    "train[\"Date\"].head()"
   ]
  },
  {
   "cell_type": "code",
   "execution_count": 11,
   "metadata": {},
   "outputs": [],
   "source": [
    "train[\"Date/Time\"] = train[\"Date/Time\"] // 100"
   ]
  },
  {
   "cell_type": "code",
   "execution_count": 12,
   "metadata": {
    "scrolled": true
   },
   "outputs": [
    {
     "data": {
      "text/plain": [
       "0    11\n",
       "1    11\n",
       "2    11\n",
       "3    11\n",
       "4    11\n",
       "Name: Month, dtype: int64"
      ]
     },
     "execution_count": 12,
     "metadata": {},
     "output_type": "execute_result"
    }
   ],
   "source": [
    "train[\"Month\"] = train[\"Date/Time\"] % 100\n",
    "train[\"Month\"].head()"
   ]
  },
  {
   "cell_type": "code",
   "execution_count": 13,
   "metadata": {},
   "outputs": [
    {
     "data": {
      "text/plain": [
       "0    2017\n",
       "1    2017\n",
       "2    2017\n",
       "3    2017\n",
       "4    2017\n",
       "Name: Year, dtype: int64"
      ]
     },
     "execution_count": 13,
     "metadata": {},
     "output_type": "execute_result"
    }
   ],
   "source": [
    "train[\"Date/Time\"] = train[\"Date/Time\"] // 100\n",
    "train[\"Year\"] = train[\"Date/Time\"]\n",
    "train[\"Year\"].head()"
   ]
  },
  {
   "cell_type": "code",
   "execution_count": 14,
   "metadata": {},
   "outputs": [
    {
     "data": {
      "text/plain": [
       "array([[<matplotlib.axes._subplots.AxesSubplot object at 0x00000234FC884CC0>,\n",
       "        <matplotlib.axes._subplots.AxesSubplot object at 0x00000234FC4EA518>,\n",
       "        <matplotlib.axes._subplots.AxesSubplot object at 0x00000234FC393A90>],\n",
       "       [<matplotlib.axes._subplots.AxesSubplot object at 0x00000234FC404048>,\n",
       "        <matplotlib.axes._subplots.AxesSubplot object at 0x00000234FC4335C0>,\n",
       "        <matplotlib.axes._subplots.AxesSubplot object at 0x00000234FC59AB38>],\n",
       "       [<matplotlib.axes._subplots.AxesSubplot object at 0x00000234FC78B0F0>,\n",
       "        <matplotlib.axes._subplots.AxesSubplot object at 0x00000234FC7B16A0>,\n",
       "        <matplotlib.axes._subplots.AxesSubplot object at 0x00000234FC7B16D8>],\n",
       "       [<matplotlib.axes._subplots.AxesSubplot object at 0x00000234FC609198>,\n",
       "        <matplotlib.axes._subplots.AxesSubplot object at 0x00000234FC630710>,\n",
       "        <matplotlib.axes._subplots.AxesSubplot object at 0x00000234FC6E8C88>]],\n",
       "      dtype=object)"
      ]
     },
     "execution_count": 14,
     "metadata": {},
     "output_type": "execute_result"
    },
    {
     "data": {
      "image/png": "[encoded data removed]",
      "text/plain": [
       "<Figure size 1440x1080 with 12 Axes>"
      ]
     },
     "metadata": {
      "needs_background": "light"
     },
     "output_type": "display_data"
    }
   ],
   "source": [
    "%matplotlib inline\n",
    "\n",
    "import seaborn as sns\n",
    "import matplotlib.pyplot as plt\n",
    "train.hist(bins=50, figsize=(20,15))"
   ]
  },
  {
   "cell_type": "code",
   "execution_count": 15,
   "metadata": {},
   "outputs": [
    {
     "data": {
      "text/plain": [
       "(array([ 0,  1,  2,  3,  4,  5,  6,  7,  8,  9, 10, 11, 12, 13, 14, 15, 16,\n",
       "        17, 18, 19, 20, 21, 22, 23, 24]),\n",
       " <a list of 25 Text xticklabel objects>)"
      ]
     },
     "execution_count": 15,
     "metadata": {},
     "output_type": "execute_result"
    },
    {
     "data": {
      "image/png": "[encoded data removed]",
      "text/plain": [
       "<Figure size 432x288 with 1 Axes>"
      ]
     },
     "metadata": {
      "needs_background": "light"
     },
     "output_type": "display_data"
    }
   ],
   "source": [
    "g = sns.barplot(x=\"Location\", y=\"Ultrafine Dust\", data=train)\n",
    "plt.xticks(rotation=90)"
   ]
  },
  {
   "cell_type": "code",
   "execution_count": 16,
   "metadata": {},
   "outputs": [
    {
     "data": {
      "text/plain": [
       "(array([ 0,  1,  2,  3,  4,  5,  6,  7,  8,  9, 10, 11, 12, 13, 14, 15, 16,\n",
       "        17, 18, 19, 20, 21, 22, 23]), <a list of 24 Text xticklabel objects>)"
      ]
     },
     "execution_count": 16,
     "metadata": {},
     "output_type": "execute_result"
    },
    {
     "data": {
      "image/png": "[encoded data removed]",
      "text/plain": [
       "<Figure size 432x288 with 1 Axes>"
      ]
     },
     "metadata": {
      "needs_background": "light"
     },
     "output_type": "display_data"
    }
   ],
   "source": [
    "g = sns.barplot(x=\"Hour\", y=\"Ultrafine Dust\", data=train)\n",
    "plt.xticks(rotation=30)"
   ]
  },
  {
   "cell_type": "code",
   "execution_count": 17,
   "metadata": {},
   "outputs": [
    {
     "data": {
      "text/plain": [
       "(array([0, 1, 2, 3, 4, 5, 6, 7]), <a list of 8 Text xticklabel objects>)"
      ]
     },
     "execution_count": 17,
     "metadata": {},
     "output_type": "execute_result"
    },
    {
     "data": {
      "image/png": "[encoded data removed]",
      "text/plain": [
       "<Figure size 432x288 with 1 Axes>"
      ]
     },
     "metadata": {
      "needs_background": "light"
     },
     "output_type": "display_data"
    }
   ],
   "source": [
    "g = sns.barplot(x=\"Date\", y=\"Ultrafine Dust\", data=train)\n",
    "plt.xticks(rotation=30)"
   ]
  },
  {
   "cell_type": "code",
   "execution_count": 18,
   "metadata": {},
   "outputs": [],
   "source": [
    "from sklearn.model_selection import train_test_split\n",
    "train_set, test_set = train_test_split(train, test_size=0.2, random_state=2018)"
   ]
  },
  {
   "cell_type": "code",
   "execution_count": 19,
   "metadata": {},
   "outputs": [
    {
     "data": {
      "text/html": [
       "<div>\n",
       "<style scoped>\n",
       "    .dataframe tbody tr th:only-of-type {\n",
       "        vertical-align: middle;\n",
       "    }\n",
       "\n",
       "    .dataframe tbody tr th {\n",
       "        vertical-align: top;\n",
       "    }\n",
       "\n",
       "    .dataframe thead th {\n",
       "        text-align: right;\n",
       "    }\n",
       "</style>\n",
       "<table border=\"1\" class=\"dataframe\">\n",
       "  <thead>\n",
       "    <tr style=\"text-align: right;\">\n",
       "      <th></th>\n",
       "      <th>Date/Time</th>\n",
       "      <th>Location</th>\n",
       "      <th>NO2</th>\n",
       "      <th>O3</th>\n",
       "      <th>CO</th>\n",
       "      <th>SO2</th>\n",
       "      <th>Fine Dust</th>\n",
       "      <th>Ultrafine Dust</th>\n",
       "      <th>Hour</th>\n",
       "      <th>Date</th>\n",
       "      <th>Month</th>\n",
       "      <th>Year</th>\n",
       "    </tr>\n",
       "  </thead>\n",
       "  <tbody>\n",
       "    <tr>\n",
       "      <th>1645</th>\n",
       "      <td>2017</td>\n",
       "      <td>Dobong</td>\n",
       "      <td>0.017</td>\n",
       "      <td>0.024</td>\n",
       "      <td>0.5</td>\n",
       "      <td>0.003</td>\n",
       "      <td>25.0</td>\n",
       "      <td>11.0</td>\n",
       "      <td>19</td>\n",
       "      <td>19</td>\n",
       "      <td>11</td>\n",
       "      <td>2017</td>\n",
       "    </tr>\n",
       "    <tr>\n",
       "      <th>710</th>\n",
       "      <td>2017</td>\n",
       "      <td>Gwanak</td>\n",
       "      <td>0.011</td>\n",
       "      <td>0.023</td>\n",
       "      <td>0.3</td>\n",
       "      <td>0.007</td>\n",
       "      <td>21.0</td>\n",
       "      <td>6.0</td>\n",
       "      <td>13</td>\n",
       "      <td>23</td>\n",
       "      <td>11</td>\n",
       "      <td>2017</td>\n",
       "    </tr>\n",
       "    <tr>\n",
       "      <th>3022</th>\n",
       "      <td>2017</td>\n",
       "      <td>Songpa</td>\n",
       "      <td>0.017</td>\n",
       "      <td>0.023</td>\n",
       "      <td>0.3</td>\n",
       "      <td>0.004</td>\n",
       "      <td>39.0</td>\n",
       "      <td>14.0</td>\n",
       "      <td>18</td>\n",
       "      <td>18</td>\n",
       "      <td>11</td>\n",
       "      <td>2017</td>\n",
       "    </tr>\n",
       "    <tr>\n",
       "      <th>97</th>\n",
       "      <td>2017</td>\n",
       "      <td>Gangnam</td>\n",
       "      <td>0.053</td>\n",
       "      <td>0.002</td>\n",
       "      <td>0.7</td>\n",
       "      <td>0.005</td>\n",
       "      <td>50.0</td>\n",
       "      <td>33.0</td>\n",
       "      <td>22</td>\n",
       "      <td>20</td>\n",
       "      <td>11</td>\n",
       "      <td>2017</td>\n",
       "    </tr>\n",
       "    <tr>\n",
       "      <th>2913</th>\n",
       "      <td>2017</td>\n",
       "      <td>Songpa</td>\n",
       "      <td>0.035</td>\n",
       "      <td>0.003</td>\n",
       "      <td>0.6</td>\n",
       "      <td>0.004</td>\n",
       "      <td>27.0</td>\n",
       "      <td>14.0</td>\n",
       "      <td>7</td>\n",
       "      <td>23</td>\n",
       "      <td>11</td>\n",
       "      <td>2017</td>\n",
       "    </tr>\n",
       "  </tbody>\n",
       "</table>\n",
       "</div>"
      ],
      "text/plain": [
       "      Date/Time Location    NO2     O3   CO    SO2  Fine Dust  Ultrafine Dust  \\\n",
       "1645       2017   Dobong  0.017  0.024  0.5  0.003       25.0            11.0   \n",
       "710        2017   Gwanak  0.011  0.023  0.3  0.007       21.0             6.0   \n",
       "3022       2017   Songpa  0.017  0.023  0.3  0.004       39.0            14.0   \n",
       "97         2017  Gangnam  0.053  0.002  0.7  0.005       50.0            33.0   \n",
       "2913       2017   Songpa  0.035  0.003  0.6  0.004       27.0            14.0   \n",
       "\n",
       "      Hour  Date  Month  Year  \n",
       "1645    19    19     11  2017  \n",
       "710     13    23     11  2017  \n",
       "3022    18    18     11  2017  \n",
       "97      22    20     11  2017  \n",
       "2913     7    23     11  2017  "
      ]
     },
     "execution_count": 19,
     "metadata": {},
     "output_type": "execute_result"
    }
   ],
   "source": [
    "train_set.head()"
   ]
  },
  {
   "cell_type": "code",
   "execution_count": 20,
   "metadata": {},
   "outputs": [],
   "source": [
    "corr_matrix = train_set.corr()"
   ]
  },
  {
   "cell_type": "code",
   "execution_count": 21,
   "metadata": {},
   "outputs": [
    {
     "data": {
      "text/plain": [
       "Ultrafine Dust    1.000000\n",
       "Fine Dust         0.744817\n",
       "CO                0.511139\n",
       "NO2               0.449056\n",
       "SO2               0.163276\n",
       "Hour             -0.095661\n",
       "Date             -0.136395\n",
       "O3               -0.246298\n",
       "Date/Time              NaN\n",
       "Month                  NaN\n",
       "Year                   NaN\n",
       "Name: Ultrafine Dust, dtype: float64"
      ]
     },
     "execution_count": 21,
     "metadata": {},
     "output_type": "execute_result"
    }
   ],
   "source": [
    "corr_matrix[\"Ultrafine Dust\"].sort_values(ascending=False)"
   ]
  },
  {
   "cell_type": "code",
   "execution_count": 22,
   "metadata": {},
   "outputs": [
    {
     "name": "stdout",
     "output_type": "stream",
     "text": [
      "<class 'pandas.core.frame.DataFrame'>\n",
      "Int64Index: 3380 entries, 1645 to 1274\n",
      "Data columns (total 12 columns):\n",
      "Date/Time         3380 non-null int64\n",
      "Location          3380 non-null object\n",
      "NO2               3350 non-null float64\n",
      "O3                3348 non-null float64\n",
      "CO                3346 non-null float64\n",
      "SO2               3350 non-null float64\n",
      "Fine Dust         3333 non-null float64\n",
      "Ultrafine Dust    3332 non-null float64\n",
      "Hour              3380 non-null int64\n",
      "Date              3380 non-null int64\n",
      "Month             3380 non-null int64\n",
      "Year              3380 non-null int64\n",
      "dtypes: float64(6), int64(5), object(1)\n",
      "memory usage: 343.3+ KB\n"
     ]
    }
   ],
   "source": [
    "train_set.info()"
   ]
  },
  {
   "cell_type": "code",
   "execution_count": 24,
   "metadata": {},
   "outputs": [
    {
     "name": "stdout",
     "output_type": "stream",
     "text": [
      "<class 'pandas.core.frame.DataFrame'>\n",
      "Int64Index: 825 entries, 828 to 895\n",
      "Data columns (total 12 columns):\n",
      "Date/Time         825 non-null int64\n",
      "Location          825 non-null object\n",
      "NO2               825 non-null float64\n",
      "O3                825 non-null float64\n",
      "CO                825 non-null float64\n",
      "SO2               825 non-null float64\n",
      "Fine Dust         825 non-null float64\n",
      "Ultrafine Dust    825 non-null float64\n",
      "Hour              825 non-null int64\n",
      "Date              825 non-null int64\n",
      "Month             825 non-null int64\n",
      "Year              825 non-null int64\n",
      "dtypes: float64(6), int64(5), object(1)\n",
      "memory usage: 83.8+ KB\n"
     ]
    }
   ],
   "source": [
    "test_set.info()"
   ]
  },
  {
   "cell_type": "code",
   "execution_count": 26,
   "metadata": {},
   "outputs": [
    {
     "name": "stderr",
     "output_type": "stream",
     "text": [
      "C:\\Users\\wtime\\Anaconda3\\lib\\site-packages\\ipykernel_launcher.py:1: SettingWithCopyWarning: \n",
      "A value is trying to be set on a copy of a slice from a DataFrame\n",
      "\n",
      "See the caveats in the documentation: http://pandas.pydata.org/pandas-docs/stable/indexing.html#indexing-view-versus-copy\n",
      "  \"\"\"Entry point for launching an IPython kernel.\n",
      "C:\\Users\\wtime\\Anaconda3\\lib\\site-packages\\ipykernel_launcher.py:2: SettingWithCopyWarning: \n",
      "A value is trying to be set on a copy of a slice from a DataFrame\n",
      "\n",
      "See the caveats in the documentation: http://pandas.pydata.org/pandas-docs/stable/indexing.html#indexing-view-versus-copy\n",
      "  \n"
     ]
    }
   ],
   "source": [
    "train_set.dropna(axis=0, inplace=True)\n",
    "test_set.dropna(axis=0, inplace=True)"
   ]
  },
  {
   "cell_type": "code",
   "execution_count": 27,
   "metadata": {},
   "outputs": [
    {
     "name": "stdout",
     "output_type": "stream",
     "text": [
      "<class 'pandas.core.frame.DataFrame'>\n",
      "Int64Index: 3295 entries, 1645 to 1274\n",
      "Data columns (total 12 columns):\n",
      "Date/Time         3295 non-null int64\n",
      "Location          3295 non-null object\n",
      "NO2               3295 non-null float64\n",
      "O3                3295 non-null float64\n",
      "CO                3295 non-null float64\n",
      "SO2               3295 non-null float64\n",
      "Fine Dust         3295 non-null float64\n",
      "Ultrafine Dust    3295 non-null float64\n",
      "Hour              3295 non-null int64\n",
      "Date              3295 non-null int64\n",
      "Month             3295 non-null int64\n",
      "Year              3295 non-null int64\n",
      "dtypes: float64(6), int64(5), object(1)\n",
      "memory usage: 334.6+ KB\n"
     ]
    }
   ],
   "source": [
    "train_set.info()"
   ]
  },
  {
   "cell_type": "code",
   "execution_count": 28,
   "metadata": {},
   "outputs": [
    {
     "name": "stdout",
     "output_type": "stream",
     "text": [
      "<class 'pandas.core.frame.DataFrame'>\n",
      "Int64Index: 825 entries, 828 to 895\n",
      "Data columns (total 12 columns):\n",
      "Date/Time         825 non-null int64\n",
      "Location          825 non-null object\n",
      "NO2               825 non-null float64\n",
      "O3                825 non-null float64\n",
      "CO                825 non-null float64\n",
      "SO2               825 non-null float64\n",
      "Fine Dust         825 non-null float64\n",
      "Ultrafine Dust    825 non-null float64\n",
      "Hour              825 non-null int64\n",
      "Date              825 non-null int64\n",
      "Month             825 non-null int64\n",
      "Year              825 non-null int64\n",
      "dtypes: float64(6), int64(5), object(1)\n",
      "memory usage: 83.8+ KB\n"
     ]
    }
   ],
   "source": [
    "test_set.info()"
   ]
  },
  {
   "cell_type": "code",
   "execution_count": 29,
   "metadata": {},
   "outputs": [
    {
     "name": "stderr",
     "output_type": "stream",
     "text": [
      "C:\\Users\\wtime\\Anaconda3\\lib\\site-packages\\ipykernel_launcher.py:1: SettingWithCopyWarning: \n",
      "A value is trying to be set on a copy of a slice from a DataFrame.\n",
      "Try using .loc[row_indexer,col_indexer] = value instead\n",
      "\n",
      "See the caveats in the documentation: http://pandas.pydata.org/pandas-docs/stable/indexing.html#indexing-view-versus-copy\n",
      "  \"\"\"Entry point for launching an IPython kernel.\n",
      "C:\\Users\\wtime\\Anaconda3\\lib\\site-packages\\pandas\\core\\indexing.py:543: SettingWithCopyWarning: \n",
      "A value is trying to be set on a copy of a slice from a DataFrame.\n",
      "Try using .loc[row_indexer,col_indexer] = value instead\n",
      "\n",
      "See the caveats in the documentation: http://pandas.pydata.org/pandas-docs/stable/indexing.html#indexing-view-versus-copy\n",
      "  self.obj[item] = s\n",
      "C:\\Users\\wtime\\Anaconda3\\lib\\site-packages\\ipykernel_launcher.py:3: SettingWithCopyWarning: \n",
      "A value is trying to be set on a copy of a slice from a DataFrame.\n",
      "Try using .loc[row_indexer,col_indexer] = value instead\n",
      "\n",
      "See the caveats in the documentation: http://pandas.pydata.org/pandas-docs/stable/indexing.html#indexing-view-versus-copy\n",
      "  This is separate from the ipykernel package so we can avoid doing imports until\n",
      "C:\\Users\\wtime\\Anaconda3\\lib\\site-packages\\ipykernel_launcher.py:5: SettingWithCopyWarning: \n",
      "A value is trying to be set on a copy of a slice from a DataFrame.\n",
      "Try using .loc[row_indexer,col_indexer] = value instead\n",
      "\n",
      "See the caveats in the documentation: http://pandas.pydata.org/pandas-docs/stable/indexing.html#indexing-view-versus-copy\n",
      "  \"\"\"\n",
      "C:\\Users\\wtime\\Anaconda3\\lib\\site-packages\\ipykernel_launcher.py:7: SettingWithCopyWarning: \n",
      "A value is trying to be set on a copy of a slice from a DataFrame.\n",
      "Try using .loc[row_indexer,col_indexer] = value instead\n",
      "\n",
      "See the caveats in the documentation: http://pandas.pydata.org/pandas-docs/stable/indexing.html#indexing-view-versus-copy\n",
      "  import sys\n",
      "C:\\Users\\wtime\\Anaconda3\\lib\\site-packages\\ipykernel_launcher.py:9: SettingWithCopyWarning: \n",
      "A value is trying to be set on a copy of a slice from a DataFrame.\n",
      "Try using .loc[row_indexer,col_indexer] = value instead\n",
      "\n",
      "See the caveats in the documentation: http://pandas.pydata.org/pandas-docs/stable/indexing.html#indexing-view-versus-copy\n",
      "  if __name__ == '__main__':\n",
      "C:\\Users\\wtime\\Anaconda3\\lib\\site-packages\\ipykernel_launcher.py:11: SettingWithCopyWarning: \n",
      "A value is trying to be set on a copy of a slice from a DataFrame.\n",
      "Try using .loc[row_indexer,col_indexer] = value instead\n",
      "\n",
      "See the caveats in the documentation: http://pandas.pydata.org/pandas-docs/stable/indexing.html#indexing-view-versus-copy\n",
      "  # This is added back by InteractiveShellApp.init_path()\n",
      "C:\\Users\\wtime\\Anaconda3\\lib\\site-packages\\ipykernel_launcher.py:13: SettingWithCopyWarning: \n",
      "A value is trying to be set on a copy of a slice from a DataFrame.\n",
      "Try using .loc[row_indexer,col_indexer] = value instead\n",
      "\n",
      "See the caveats in the documentation: http://pandas.pydata.org/pandas-docs/stable/indexing.html#indexing-view-versus-copy\n",
      "  del sys.path[0]\n",
      "C:\\Users\\wtime\\Anaconda3\\lib\\site-packages\\ipykernel_launcher.py:15: SettingWithCopyWarning: \n",
      "A value is trying to be set on a copy of a slice from a DataFrame.\n",
      "Try using .loc[row_indexer,col_indexer] = value instead\n",
      "\n",
      "See the caveats in the documentation: http://pandas.pydata.org/pandas-docs/stable/indexing.html#indexing-view-versus-copy\n",
      "  from ipykernel import kernelapp as app\n",
      "C:\\Users\\wtime\\Anaconda3\\lib\\site-packages\\ipykernel_launcher.py:17: SettingWithCopyWarning: \n",
      "A value is trying to be set on a copy of a slice from a DataFrame.\n",
      "Try using .loc[row_indexer,col_indexer] = value instead\n",
      "\n",
      "See the caveats in the documentation: http://pandas.pydata.org/pandas-docs/stable/indexing.html#indexing-view-versus-copy\n",
      "C:\\Users\\wtime\\Anaconda3\\lib\\site-packages\\ipykernel_launcher.py:19: SettingWithCopyWarning: \n",
      "A value is trying to be set on a copy of a slice from a DataFrame.\n",
      "Try using .loc[row_indexer,col_indexer] = value instead\n",
      "\n",
      "See the caveats in the documentation: http://pandas.pydata.org/pandas-docs/stable/indexing.html#indexing-view-versus-copy\n",
      "C:\\Users\\wtime\\Anaconda3\\lib\\site-packages\\ipykernel_launcher.py:21: SettingWithCopyWarning: \n",
      "A value is trying to be set on a copy of a slice from a DataFrame.\n",
      "Try using .loc[row_indexer,col_indexer] = value instead\n",
      "\n",
      "See the caveats in the documentation: http://pandas.pydata.org/pandas-docs/stable/indexing.html#indexing-view-versus-copy\n",
      "C:\\Users\\wtime\\Anaconda3\\lib\\site-packages\\ipykernel_launcher.py:23: SettingWithCopyWarning: \n",
      "A value is trying to be set on a copy of a slice from a DataFrame.\n",
      "Try using .loc[row_indexer,col_indexer] = value instead\n",
      "\n",
      "See the caveats in the documentation: http://pandas.pydata.org/pandas-docs/stable/indexing.html#indexing-view-versus-copy\n",
      "C:\\Users\\wtime\\Anaconda3\\lib\\site-packages\\ipykernel_launcher.py:25: SettingWithCopyWarning: \n",
      "A value is trying to be set on a copy of a slice from a DataFrame.\n",
      "Try using .loc[row_indexer,col_indexer] = value instead\n",
      "\n",
      "See the caveats in the documentation: http://pandas.pydata.org/pandas-docs/stable/indexing.html#indexing-view-versus-copy\n",
      "C:\\Users\\wtime\\Anaconda3\\lib\\site-packages\\ipykernel_launcher.py:27: SettingWithCopyWarning: \n",
      "A value is trying to be set on a copy of a slice from a DataFrame.\n",
      "Try using .loc[row_indexer,col_indexer] = value instead\n",
      "\n",
      "See the caveats in the documentation: http://pandas.pydata.org/pandas-docs/stable/indexing.html#indexing-view-versus-copy\n",
      "C:\\Users\\wtime\\Anaconda3\\lib\\site-packages\\ipykernel_launcher.py:29: SettingWithCopyWarning: \n",
      "A value is trying to be set on a copy of a slice from a DataFrame.\n",
      "Try using .loc[row_indexer,col_indexer] = value instead\n",
      "\n",
      "See the caveats in the documentation: http://pandas.pydata.org/pandas-docs/stable/indexing.html#indexing-view-versus-copy\n",
      "C:\\Users\\wtime\\Anaconda3\\lib\\site-packages\\ipykernel_launcher.py:31: SettingWithCopyWarning: \n",
      "A value is trying to be set on a copy of a slice from a DataFrame.\n",
      "Try using .loc[row_indexer,col_indexer] = value instead\n",
      "\n",
      "See the caveats in the documentation: http://pandas.pydata.org/pandas-docs/stable/indexing.html#indexing-view-versus-copy\n",
      "C:\\Users\\wtime\\Anaconda3\\lib\\site-packages\\ipykernel_launcher.py:33: SettingWithCopyWarning: \n",
      "A value is trying to be set on a copy of a slice from a DataFrame.\n",
      "Try using .loc[row_indexer,col_indexer] = value instead\n",
      "\n",
      "See the caveats in the documentation: http://pandas.pydata.org/pandas-docs/stable/indexing.html#indexing-view-versus-copy\n",
      "C:\\Users\\wtime\\Anaconda3\\lib\\site-packages\\ipykernel_launcher.py:35: SettingWithCopyWarning: \n",
      "A value is trying to be set on a copy of a slice from a DataFrame.\n",
      "Try using .loc[row_indexer,col_indexer] = value instead\n",
      "\n",
      "See the caveats in the documentation: http://pandas.pydata.org/pandas-docs/stable/indexing.html#indexing-view-versus-copy\n",
      "C:\\Users\\wtime\\Anaconda3\\lib\\site-packages\\ipykernel_launcher.py:37: SettingWithCopyWarning: \n",
      "A value is trying to be set on a copy of a slice from a DataFrame.\n",
      "Try using .loc[row_indexer,col_indexer] = value instead\n",
      "\n",
      "See the caveats in the documentation: http://pandas.pydata.org/pandas-docs/stable/indexing.html#indexing-view-versus-copy\n",
      "C:\\Users\\wtime\\Anaconda3\\lib\\site-packages\\ipykernel_launcher.py:39: SettingWithCopyWarning: \n",
      "A value is trying to be set on a copy of a slice from a DataFrame.\n",
      "Try using .loc[row_indexer,col_indexer] = value instead\n",
      "\n",
      "See the caveats in the documentation: http://pandas.pydata.org/pandas-docs/stable/indexing.html#indexing-view-versus-copy\n",
      "C:\\Users\\wtime\\Anaconda3\\lib\\site-packages\\ipykernel_launcher.py:41: SettingWithCopyWarning: \n",
      "A value is trying to be set on a copy of a slice from a DataFrame.\n",
      "Try using .loc[row_indexer,col_indexer] = value instead\n",
      "\n",
      "See the caveats in the documentation: http://pandas.pydata.org/pandas-docs/stable/indexing.html#indexing-view-versus-copy\n",
      "C:\\Users\\wtime\\Anaconda3\\lib\\site-packages\\ipykernel_launcher.py:43: SettingWithCopyWarning: \n",
      "A value is trying to be set on a copy of a slice from a DataFrame.\n",
      "Try using .loc[row_indexer,col_indexer] = value instead\n",
      "\n",
      "See the caveats in the documentation: http://pandas.pydata.org/pandas-docs/stable/indexing.html#indexing-view-versus-copy\n",
      "C:\\Users\\wtime\\Anaconda3\\lib\\site-packages\\ipykernel_launcher.py:45: SettingWithCopyWarning: \n",
      "A value is trying to be set on a copy of a slice from a DataFrame.\n",
      "Try using .loc[row_indexer,col_indexer] = value instead\n",
      "\n",
      "See the caveats in the documentation: http://pandas.pydata.org/pandas-docs/stable/indexing.html#indexing-view-versus-copy\n",
      "C:\\Users\\wtime\\Anaconda3\\lib\\site-packages\\ipykernel_launcher.py:47: SettingWithCopyWarning: \n",
      "A value is trying to be set on a copy of a slice from a DataFrame.\n",
      "Try using .loc[row_indexer,col_indexer] = value instead\n",
      "\n",
      "See the caveats in the documentation: http://pandas.pydata.org/pandas-docs/stable/indexing.html#indexing-view-versus-copy\n",
      "C:\\Users\\wtime\\Anaconda3\\lib\\site-packages\\ipykernel_launcher.py:49: SettingWithCopyWarning: \n",
      "A value is trying to be set on a copy of a slice from a DataFrame.\n",
      "Try using .loc[row_indexer,col_indexer] = value instead\n",
      "\n",
      "See the caveats in the documentation: http://pandas.pydata.org/pandas-docs/stable/indexing.html#indexing-view-versus-copy\n",
      "C:\\Users\\wtime\\Anaconda3\\lib\\site-packages\\ipykernel_launcher.py:51: SettingWithCopyWarning: \n",
      "A value is trying to be set on a copy of a slice from a DataFrame.\n",
      "Try using .loc[row_indexer,col_indexer] = value instead\n",
      "\n",
      "See the caveats in the documentation: http://pandas.pydata.org/pandas-docs/stable/indexing.html#indexing-view-versus-copy\n",
      "C:\\Users\\wtime\\Anaconda3\\lib\\site-packages\\ipykernel_launcher.py:53: SettingWithCopyWarning: \n",
      "A value is trying to be set on a copy of a slice from a DataFrame.\n",
      "Try using .loc[row_indexer,col_indexer] = value instead\n",
      "\n",
      "See the caveats in the documentation: http://pandas.pydata.org/pandas-docs/stable/indexing.html#indexing-view-versus-copy\n"
     ]
    },
    {
     "name": "stderr",
     "output_type": "stream",
     "text": [
      "C:\\Users\\wtime\\Anaconda3\\lib\\site-packages\\ipykernel_launcher.py:55: SettingWithCopyWarning: \n",
      "A value is trying to be set on a copy of a slice from a DataFrame.\n",
      "Try using .loc[row_indexer,col_indexer] = value instead\n",
      "\n",
      "See the caveats in the documentation: http://pandas.pydata.org/pandas-docs/stable/indexing.html#indexing-view-versus-copy\n"
     ]
    }
   ],
   "source": [
    "train_set[\"Dongdaemun\"] = False\n",
    "train_set.loc[train_set[\"Location\"]=='Dongdaemun', \"Dongdaemun\"] = True\n",
    "train_set[\"Songpa\"] = False\n",
    "train_set.loc[train_set[\"Location\"]=='Songpa', \"Songpa\"] = True\n",
    "train_set[\"Gwanak\"] = False\n",
    "train_set.loc[train_set[\"Location\"]=='Gwanak', \"Gwanak\"] = True\n",
    "train_set[\"Yangcheon\"] = False\n",
    "train_set.loc[train_set[\"Location\"]=='Yangcheon', \"Yangcheon\"] = True\n",
    "train_set[\"Gangnam\"] = False\n",
    "train_set.loc[train_set[\"Location\"]=='Gangnam', \"Gangnam\"] = True\n",
    "train_set[\"Dongjak\"] = False\n",
    "train_set.loc[train_set[\"Location\"]=='Dongjak', \"Dongjak\"] = True\n",
    "train_set[\"Geumcheon\"] = False\n",
    "train_set.loc[train_set[\"Location\"]=='Geumcheon', \"Geumcheon\"] = True\n",
    "train_set[\"Seocho\"] = False\n",
    "train_set.loc[train_set[\"Location\"]=='Seocho', \"Seocho\"] = True\n",
    "train_set[\"Yeongdeungpo\"] = False\n",
    "train_set.loc[train_set[\"Location\"]=='Yeongdeungpo', \"Yeongdeungpo\"] = True\n",
    "train_set[\"Gwangjin\"] = False\n",
    "train_set.loc[train_set[\"Location\"]=='Gwangjin', \"Gwangjin\"] = True\n",
    "train_set[\"Gangdong\"] = False\n",
    "train_set.loc[train_set[\"Location\"]=='Gangdong', \"Gangdong\"] = True\n",
    "train_set[\"Seongbuk\"] = False\n",
    "train_set.loc[train_set[\"Location\"]=='Seongbuk', \"Seongbuk\"] = True\n",
    "train_set[\"Jungnan\"] = False\n",
    "train_set.loc[train_set[\"Location\"]=='Jungnan', \"Jungnan\"] = True\n",
    "train_set[\"Gangbuk\"] = False\n",
    "train_set.loc[train_set[\"Location\"]=='Gangbuk', \"Gangbuk\"] = True\n",
    "train_set[\"Dobong\"] = False\n",
    "train_set.loc[train_set[\"Location\"]=='Dobong', \"Dobong\"] = True\n",
    "train_set[\"Guro\"] = False\n",
    "train_set.loc[train_set[\"Location\"]=='Guro', \"Guro\"] = True\n",
    "train_set[\"Nowon\"] = False\n",
    "train_set.loc[train_set[\"Location\"]=='Nowon', \"Nowon\"] = True\n",
    "train_set[\"Nowon\"] = False\n",
    "train_set.loc[train_set[\"Location\"]=='Nowon', \"Nowon\"] = True\n",
    "train_set[\"Gangseo\"] = False\n",
    "train_set.loc[train_set[\"Location\"]=='Gangseo', \"Gangseo\"] = True\n",
    "train_set[\"Yongsan\"] = False\n",
    "train_set.loc[train_set[\"Location\"]=='Yongsan', \"Yongsan\"] = True\n",
    "train_set[\"Yongsan\"] = False\n",
    "train_set.loc[train_set[\"Location\"]=='Yongsan', \"Yongsan\"] = True\n",
    "train_set[\"Sungdong\"] = False\n",
    "train_set.loc[train_set[\"Location\"]=='Sungdong', \"Sungdong\"] = True\n",
    "train_set[\"Jung\"] = False\n",
    "train_set.loc[train_set[\"Location\"]=='Jung', \"Jung\"] = True\n",
    "train_set[\"Jung\"] = False\n",
    "train_set.loc[train_set[\"Location\"]=='Jung', \"Jung\"] = True\n",
    "train_set[\"Eunpeung\"] = False\n",
    "train_set.loc[train_set[\"Location\"]=='Eunpeung', \"Eunpeung\"] = True\n",
    "train_set[\"Seodaemun\"] = False\n",
    "train_set.loc[train_set[\"Location\"]=='Seodaemun', \"Seodaemun\"] = True\n",
    "train_set[\"Jonro\"] = False\n",
    "train_set.loc[train_set[\"Location\"]=='Jonro', \"Jonro\"] = True\n",
    "train_set[\"Mapo\"] = False\n",
    "train_set.loc[train_set[\"Location\"]=='Mapo', \"Mapo\"] = True"
   ]
  },
  {
   "cell_type": "code",
   "execution_count": 30,
   "metadata": {},
   "outputs": [
    {
     "data": {
      "text/html": [
       "<div>\n",
       "<style scoped>\n",
       "    .dataframe tbody tr th:only-of-type {\n",
       "        vertical-align: middle;\n",
       "    }\n",
       "\n",
       "    .dataframe tbody tr th {\n",
       "        vertical-align: top;\n",
       "    }\n",
       "\n",
       "    .dataframe thead th {\n",
       "        text-align: right;\n",
       "    }\n",
       "</style>\n",
       "<table border=\"1\" class=\"dataframe\">\n",
       "  <thead>\n",
       "    <tr style=\"text-align: right;\">\n",
       "      <th></th>\n",
       "      <th>Date/Time</th>\n",
       "      <th>Location</th>\n",
       "      <th>NO2</th>\n",
       "      <th>O3</th>\n",
       "      <th>CO</th>\n",
       "      <th>SO2</th>\n",
       "      <th>Fine Dust</th>\n",
       "      <th>Ultrafine Dust</th>\n",
       "      <th>Hour</th>\n",
       "      <th>Date</th>\n",
       "      <th>...</th>\n",
       "      <th>Guro</th>\n",
       "      <th>Nowon</th>\n",
       "      <th>Gangseo</th>\n",
       "      <th>Yongsan</th>\n",
       "      <th>Sungdong</th>\n",
       "      <th>Jung</th>\n",
       "      <th>Eunpeung</th>\n",
       "      <th>Seodaemun</th>\n",
       "      <th>Jonro</th>\n",
       "      <th>Mapo</th>\n",
       "    </tr>\n",
       "  </thead>\n",
       "  <tbody>\n",
       "    <tr>\n",
       "      <th>1645</th>\n",
       "      <td>2017</td>\n",
       "      <td>Dobong</td>\n",
       "      <td>0.017</td>\n",
       "      <td>0.024</td>\n",
       "      <td>0.5</td>\n",
       "      <td>0.003</td>\n",
       "      <td>25.0</td>\n",
       "      <td>11.0</td>\n",
       "      <td>19</td>\n",
       "      <td>19</td>\n",
       "      <td>...</td>\n",
       "      <td>False</td>\n",
       "      <td>False</td>\n",
       "      <td>False</td>\n",
       "      <td>False</td>\n",
       "      <td>False</td>\n",
       "      <td>False</td>\n",
       "      <td>False</td>\n",
       "      <td>False</td>\n",
       "      <td>False</td>\n",
       "      <td>False</td>\n",
       "    </tr>\n",
       "    <tr>\n",
       "      <th>710</th>\n",
       "      <td>2017</td>\n",
       "      <td>Gwanak</td>\n",
       "      <td>0.011</td>\n",
       "      <td>0.023</td>\n",
       "      <td>0.3</td>\n",
       "      <td>0.007</td>\n",
       "      <td>21.0</td>\n",
       "      <td>6.0</td>\n",
       "      <td>13</td>\n",
       "      <td>23</td>\n",
       "      <td>...</td>\n",
       "      <td>False</td>\n",
       "      <td>False</td>\n",
       "      <td>False</td>\n",
       "      <td>False</td>\n",
       "      <td>False</td>\n",
       "      <td>False</td>\n",
       "      <td>False</td>\n",
       "      <td>False</td>\n",
       "      <td>False</td>\n",
       "      <td>False</td>\n",
       "    </tr>\n",
       "    <tr>\n",
       "      <th>3022</th>\n",
       "      <td>2017</td>\n",
       "      <td>Songpa</td>\n",
       "      <td>0.017</td>\n",
       "      <td>0.023</td>\n",
       "      <td>0.3</td>\n",
       "      <td>0.004</td>\n",
       "      <td>39.0</td>\n",
       "      <td>14.0</td>\n",
       "      <td>18</td>\n",
       "      <td>18</td>\n",
       "      <td>...</td>\n",
       "      <td>False</td>\n",
       "      <td>False</td>\n",
       "      <td>False</td>\n",
       "      <td>False</td>\n",
       "      <td>False</td>\n",
       "      <td>False</td>\n",
       "      <td>False</td>\n",
       "      <td>False</td>\n",
       "      <td>False</td>\n",
       "      <td>False</td>\n",
       "    </tr>\n",
       "    <tr>\n",
       "      <th>97</th>\n",
       "      <td>2017</td>\n",
       "      <td>Gangnam</td>\n",
       "      <td>0.053</td>\n",
       "      <td>0.002</td>\n",
       "      <td>0.7</td>\n",
       "      <td>0.005</td>\n",
       "      <td>50.0</td>\n",
       "      <td>33.0</td>\n",
       "      <td>22</td>\n",
       "      <td>20</td>\n",
       "      <td>...</td>\n",
       "      <td>False</td>\n",
       "      <td>False</td>\n",
       "      <td>False</td>\n",
       "      <td>False</td>\n",
       "      <td>False</td>\n",
       "      <td>False</td>\n",
       "      <td>False</td>\n",
       "      <td>False</td>\n",
       "      <td>False</td>\n",
       "      <td>False</td>\n",
       "    </tr>\n",
       "    <tr>\n",
       "      <th>2913</th>\n",
       "      <td>2017</td>\n",
       "      <td>Songpa</td>\n",
       "      <td>0.035</td>\n",
       "      <td>0.003</td>\n",
       "      <td>0.6</td>\n",
       "      <td>0.004</td>\n",
       "      <td>27.0</td>\n",
       "      <td>14.0</td>\n",
       "      <td>7</td>\n",
       "      <td>23</td>\n",
       "      <td>...</td>\n",
       "      <td>False</td>\n",
       "      <td>False</td>\n",
       "      <td>False</td>\n",
       "      <td>False</td>\n",
       "      <td>False</td>\n",
       "      <td>False</td>\n",
       "      <td>False</td>\n",
       "      <td>False</td>\n",
       "      <td>False</td>\n",
       "      <td>False</td>\n",
       "    </tr>\n",
       "  </tbody>\n",
       "</table>\n",
       "<p>5 rows × 37 columns</p>\n",
       "</div>"
      ],
      "text/plain": [
       "      Date/Time Location    NO2     O3   CO    SO2  Fine Dust  Ultrafine Dust  \\\n",
       "1645       2017   Dobong  0.017  0.024  0.5  0.003       25.0            11.0   \n",
       "710        2017   Gwanak  0.011  0.023  0.3  0.007       21.0             6.0   \n",
       "3022       2017   Songpa  0.017  0.023  0.3  0.004       39.0            14.0   \n",
       "97         2017  Gangnam  0.053  0.002  0.7  0.005       50.0            33.0   \n",
       "2913       2017   Songpa  0.035  0.003  0.6  0.004       27.0            14.0   \n",
       "\n",
       "      Hour  Date  ...   Guro  Nowon  Gangseo  Yongsan  Sungdong   Jung  \\\n",
       "1645    19    19  ...  False  False    False    False     False  False   \n",
       "710     13    23  ...  False  False    False    False     False  False   \n",
       "3022    18    18  ...  False  False    False    False     False  False   \n",
       "97      22    20  ...  False  False    False    False     False  False   \n",
       "2913     7    23  ...  False  False    False    False     False  False   \n",
       "\n",
       "      Eunpeung  Seodaemun  Jonro   Mapo  \n",
       "1645     False      False  False  False  \n",
       "710      False      False  False  False  \n",
       "3022     False      False  False  False  \n",
       "97       False      False  False  False  \n",
       "2913     False      False  False  False  \n",
       "\n",
       "[5 rows x 37 columns]"
      ]
     },
     "execution_count": 30,
     "metadata": {},
     "output_type": "execute_result"
    }
   ],
   "source": [
    "train_set.head()"
   ]
  },
  {
   "cell_type": "code",
   "execution_count": 31,
   "metadata": {
    "scrolled": false
   },
   "outputs": [
    {
     "name": "stderr",
     "output_type": "stream",
     "text": [
      "C:\\Users\\wtime\\Anaconda3\\lib\\site-packages\\ipykernel_launcher.py:1: SettingWithCopyWarning: \n",
      "A value is trying to be set on a copy of a slice from a DataFrame.\n",
      "Try using .loc[row_indexer,col_indexer] = value instead\n",
      "\n",
      "See the caveats in the documentation: http://pandas.pydata.org/pandas-docs/stable/indexing.html#indexing-view-versus-copy\n",
      "  \"\"\"Entry point for launching an IPython kernel.\n",
      "C:\\Users\\wtime\\Anaconda3\\lib\\site-packages\\ipykernel_launcher.py:3: SettingWithCopyWarning: \n",
      "A value is trying to be set on a copy of a slice from a DataFrame.\n",
      "Try using .loc[row_indexer,col_indexer] = value instead\n",
      "\n",
      "See the caveats in the documentation: http://pandas.pydata.org/pandas-docs/stable/indexing.html#indexing-view-versus-copy\n",
      "  This is separate from the ipykernel package so we can avoid doing imports until\n",
      "C:\\Users\\wtime\\Anaconda3\\lib\\site-packages\\ipykernel_launcher.py:5: SettingWithCopyWarning: \n",
      "A value is trying to be set on a copy of a slice from a DataFrame.\n",
      "Try using .loc[row_indexer,col_indexer] = value instead\n",
      "\n",
      "See the caveats in the documentation: http://pandas.pydata.org/pandas-docs/stable/indexing.html#indexing-view-versus-copy\n",
      "  \"\"\"\n",
      "C:\\Users\\wtime\\Anaconda3\\lib\\site-packages\\ipykernel_launcher.py:7: SettingWithCopyWarning: \n",
      "A value is trying to be set on a copy of a slice from a DataFrame.\n",
      "Try using .loc[row_indexer,col_indexer] = value instead\n",
      "\n",
      "See the caveats in the documentation: http://pandas.pydata.org/pandas-docs/stable/indexing.html#indexing-view-versus-copy\n",
      "  import sys\n",
      "C:\\Users\\wtime\\Anaconda3\\lib\\site-packages\\ipykernel_launcher.py:9: SettingWithCopyWarning: \n",
      "A value is trying to be set on a copy of a slice from a DataFrame.\n",
      "Try using .loc[row_indexer,col_indexer] = value instead\n",
      "\n",
      "See the caveats in the documentation: http://pandas.pydata.org/pandas-docs/stable/indexing.html#indexing-view-versus-copy\n",
      "  if __name__ == '__main__':\n",
      "C:\\Users\\wtime\\Anaconda3\\lib\\site-packages\\ipykernel_launcher.py:11: SettingWithCopyWarning: \n",
      "A value is trying to be set on a copy of a slice from a DataFrame.\n",
      "Try using .loc[row_indexer,col_indexer] = value instead\n",
      "\n",
      "See the caveats in the documentation: http://pandas.pydata.org/pandas-docs/stable/indexing.html#indexing-view-versus-copy\n",
      "  # This is added back by InteractiveShellApp.init_path()\n",
      "C:\\Users\\wtime\\Anaconda3\\lib\\site-packages\\ipykernel_launcher.py:13: SettingWithCopyWarning: \n",
      "A value is trying to be set on a copy of a slice from a DataFrame.\n",
      "Try using .loc[row_indexer,col_indexer] = value instead\n",
      "\n",
      "See the caveats in the documentation: http://pandas.pydata.org/pandas-docs/stable/indexing.html#indexing-view-versus-copy\n",
      "  del sys.path[0]\n",
      "C:\\Users\\wtime\\Anaconda3\\lib\\site-packages\\ipykernel_launcher.py:15: SettingWithCopyWarning: \n",
      "A value is trying to be set on a copy of a slice from a DataFrame.\n",
      "Try using .loc[row_indexer,col_indexer] = value instead\n",
      "\n",
      "See the caveats in the documentation: http://pandas.pydata.org/pandas-docs/stable/indexing.html#indexing-view-versus-copy\n",
      "  from ipykernel import kernelapp as app\n",
      "C:\\Users\\wtime\\Anaconda3\\lib\\site-packages\\ipykernel_launcher.py:17: SettingWithCopyWarning: \n",
      "A value is trying to be set on a copy of a slice from a DataFrame.\n",
      "Try using .loc[row_indexer,col_indexer] = value instead\n",
      "\n",
      "See the caveats in the documentation: http://pandas.pydata.org/pandas-docs/stable/indexing.html#indexing-view-versus-copy\n",
      "C:\\Users\\wtime\\Anaconda3\\lib\\site-packages\\ipykernel_launcher.py:19: SettingWithCopyWarning: \n",
      "A value is trying to be set on a copy of a slice from a DataFrame.\n",
      "Try using .loc[row_indexer,col_indexer] = value instead\n",
      "\n",
      "See the caveats in the documentation: http://pandas.pydata.org/pandas-docs/stable/indexing.html#indexing-view-versus-copy\n",
      "C:\\Users\\wtime\\Anaconda3\\lib\\site-packages\\ipykernel_launcher.py:21: SettingWithCopyWarning: \n",
      "A value is trying to be set on a copy of a slice from a DataFrame.\n",
      "Try using .loc[row_indexer,col_indexer] = value instead\n",
      "\n",
      "See the caveats in the documentation: http://pandas.pydata.org/pandas-docs/stable/indexing.html#indexing-view-versus-copy\n",
      "C:\\Users\\wtime\\Anaconda3\\lib\\site-packages\\ipykernel_launcher.py:23: SettingWithCopyWarning: \n",
      "A value is trying to be set on a copy of a slice from a DataFrame.\n",
      "Try using .loc[row_indexer,col_indexer] = value instead\n",
      "\n",
      "See the caveats in the documentation: http://pandas.pydata.org/pandas-docs/stable/indexing.html#indexing-view-versus-copy\n",
      "C:\\Users\\wtime\\Anaconda3\\lib\\site-packages\\ipykernel_launcher.py:25: SettingWithCopyWarning: \n",
      "A value is trying to be set on a copy of a slice from a DataFrame.\n",
      "Try using .loc[row_indexer,col_indexer] = value instead\n",
      "\n",
      "See the caveats in the documentation: http://pandas.pydata.org/pandas-docs/stable/indexing.html#indexing-view-versus-copy\n",
      "C:\\Users\\wtime\\Anaconda3\\lib\\site-packages\\ipykernel_launcher.py:27: SettingWithCopyWarning: \n",
      "A value is trying to be set on a copy of a slice from a DataFrame.\n",
      "Try using .loc[row_indexer,col_indexer] = value instead\n",
      "\n",
      "See the caveats in the documentation: http://pandas.pydata.org/pandas-docs/stable/indexing.html#indexing-view-versus-copy\n",
      "C:\\Users\\wtime\\Anaconda3\\lib\\site-packages\\ipykernel_launcher.py:29: SettingWithCopyWarning: \n",
      "A value is trying to be set on a copy of a slice from a DataFrame.\n",
      "Try using .loc[row_indexer,col_indexer] = value instead\n",
      "\n",
      "See the caveats in the documentation: http://pandas.pydata.org/pandas-docs/stable/indexing.html#indexing-view-versus-copy\n",
      "C:\\Users\\wtime\\Anaconda3\\lib\\site-packages\\ipykernel_launcher.py:31: SettingWithCopyWarning: \n",
      "A value is trying to be set on a copy of a slice from a DataFrame.\n",
      "Try using .loc[row_indexer,col_indexer] = value instead\n",
      "\n",
      "See the caveats in the documentation: http://pandas.pydata.org/pandas-docs/stable/indexing.html#indexing-view-versus-copy\n",
      "C:\\Users\\wtime\\Anaconda3\\lib\\site-packages\\ipykernel_launcher.py:33: SettingWithCopyWarning: \n",
      "A value is trying to be set on a copy of a slice from a DataFrame.\n",
      "Try using .loc[row_indexer,col_indexer] = value instead\n",
      "\n",
      "See the caveats in the documentation: http://pandas.pydata.org/pandas-docs/stable/indexing.html#indexing-view-versus-copy\n",
      "C:\\Users\\wtime\\Anaconda3\\lib\\site-packages\\ipykernel_launcher.py:35: SettingWithCopyWarning: \n",
      "A value is trying to be set on a copy of a slice from a DataFrame.\n",
      "Try using .loc[row_indexer,col_indexer] = value instead\n",
      "\n",
      "See the caveats in the documentation: http://pandas.pydata.org/pandas-docs/stable/indexing.html#indexing-view-versus-copy\n",
      "C:\\Users\\wtime\\Anaconda3\\lib\\site-packages\\ipykernel_launcher.py:37: SettingWithCopyWarning: \n",
      "A value is trying to be set on a copy of a slice from a DataFrame.\n",
      "Try using .loc[row_indexer,col_indexer] = value instead\n",
      "\n",
      "See the caveats in the documentation: http://pandas.pydata.org/pandas-docs/stable/indexing.html#indexing-view-versus-copy\n",
      "C:\\Users\\wtime\\Anaconda3\\lib\\site-packages\\ipykernel_launcher.py:39: SettingWithCopyWarning: \n",
      "A value is trying to be set on a copy of a slice from a DataFrame.\n",
      "Try using .loc[row_indexer,col_indexer] = value instead\n",
      "\n",
      "See the caveats in the documentation: http://pandas.pydata.org/pandas-docs/stable/indexing.html#indexing-view-versus-copy\n",
      "C:\\Users\\wtime\\Anaconda3\\lib\\site-packages\\ipykernel_launcher.py:41: SettingWithCopyWarning: \n",
      "A value is trying to be set on a copy of a slice from a DataFrame.\n",
      "Try using .loc[row_indexer,col_indexer] = value instead\n",
      "\n",
      "See the caveats in the documentation: http://pandas.pydata.org/pandas-docs/stable/indexing.html#indexing-view-versus-copy\n",
      "C:\\Users\\wtime\\Anaconda3\\lib\\site-packages\\ipykernel_launcher.py:43: SettingWithCopyWarning: \n",
      "A value is trying to be set on a copy of a slice from a DataFrame.\n",
      "Try using .loc[row_indexer,col_indexer] = value instead\n",
      "\n",
      "See the caveats in the documentation: http://pandas.pydata.org/pandas-docs/stable/indexing.html#indexing-view-versus-copy\n",
      "C:\\Users\\wtime\\Anaconda3\\lib\\site-packages\\ipykernel_launcher.py:45: SettingWithCopyWarning: \n",
      "A value is trying to be set on a copy of a slice from a DataFrame.\n",
      "Try using .loc[row_indexer,col_indexer] = value instead\n",
      "\n",
      "See the caveats in the documentation: http://pandas.pydata.org/pandas-docs/stable/indexing.html#indexing-view-versus-copy\n",
      "C:\\Users\\wtime\\Anaconda3\\lib\\site-packages\\ipykernel_launcher.py:47: SettingWithCopyWarning: \n",
      "A value is trying to be set on a copy of a slice from a DataFrame.\n",
      "Try using .loc[row_indexer,col_indexer] = value instead\n",
      "\n",
      "See the caveats in the documentation: http://pandas.pydata.org/pandas-docs/stable/indexing.html#indexing-view-versus-copy\n",
      "C:\\Users\\wtime\\Anaconda3\\lib\\site-packages\\ipykernel_launcher.py:49: SettingWithCopyWarning: \n",
      "A value is trying to be set on a copy of a slice from a DataFrame.\n",
      "Try using .loc[row_indexer,col_indexer] = value instead\n",
      "\n",
      "See the caveats in the documentation: http://pandas.pydata.org/pandas-docs/stable/indexing.html#indexing-view-versus-copy\n",
      "C:\\Users\\wtime\\Anaconda3\\lib\\site-packages\\ipykernel_launcher.py:51: SettingWithCopyWarning: \n",
      "A value is trying to be set on a copy of a slice from a DataFrame.\n",
      "Try using .loc[row_indexer,col_indexer] = value instead\n",
      "\n",
      "See the caveats in the documentation: http://pandas.pydata.org/pandas-docs/stable/indexing.html#indexing-view-versus-copy\n",
      "C:\\Users\\wtime\\Anaconda3\\lib\\site-packages\\ipykernel_launcher.py:53: SettingWithCopyWarning: \n",
      "A value is trying to be set on a copy of a slice from a DataFrame.\n",
      "Try using .loc[row_indexer,col_indexer] = value instead\n",
      "\n",
      "See the caveats in the documentation: http://pandas.pydata.org/pandas-docs/stable/indexing.html#indexing-view-versus-copy\n"
     ]
    },
    {
     "name": "stderr",
     "output_type": "stream",
     "text": [
      "C:\\Users\\wtime\\Anaconda3\\lib\\site-packages\\ipykernel_launcher.py:55: SettingWithCopyWarning: \n",
      "A value is trying to be set on a copy of a slice from a DataFrame.\n",
      "Try using .loc[row_indexer,col_indexer] = value instead\n",
      "\n",
      "See the caveats in the documentation: http://pandas.pydata.org/pandas-docs/stable/indexing.html#indexing-view-versus-copy\n"
     ]
    }
   ],
   "source": [
    "test_set[\"Dongdaemun\"] = False\n",
    "test_set.loc[test_set[\"Location\"]=='Dongdaemun', \"Dongdaemun\"] = True\n",
    "test_set[\"Songpa\"] = False\n",
    "test_set.loc[test_set[\"Location\"]=='Songpa', \"Songpa\"] = True\n",
    "test_set[\"Gwanak\"] = False\n",
    "test_set.loc[test_set[\"Location\"]=='Gwanak', \"Gwanak\"] = True\n",
    "test_set[\"Yangcheon\"] = False\n",
    "test_set.loc[test_set[\"Location\"]=='Yangcheon', \"Yangcheon\"] = True\n",
    "test_set[\"Gangnam\"] = False\n",
    "test_set.loc[test_set[\"Location\"]=='Gangnam', \"Gangnam\"] = True\n",
    "test_set[\"Dongjak\"] = False\n",
    "test_set.loc[test_set[\"Location\"]=='Dongjak', \"Dongjak\"] = True\n",
    "test_set[\"Geumcheon\"] = False\n",
    "test_set.loc[test_set[\"Location\"]=='Geumcheon', \"Geumcheon\"] = True\n",
    "test_set[\"Seocho\"] = False\n",
    "test_set.loc[test_set[\"Location\"]=='Seocho', \"Seocho\"] = True\n",
    "test_set[\"Yeongdeungpo\"] = False\n",
    "test_set.loc[test_set[\"Location\"]=='Yeongdeungpo', \"Yeongdeungpo\"] = True\n",
    "test_set[\"Gwangjin\"] = False\n",
    "test_set.loc[test_set[\"Location\"]=='Gwangjin', \"Gwangjin\"] = True\n",
    "test_set[\"Gangdong\"] = False\n",
    "test_set.loc[test_set[\"Location\"]=='Gangdong', \"Gangdong\"] = True\n",
    "test_set[\"Seongbuk\"] = False\n",
    "test_set.loc[test_set[\"Location\"]=='Seongbuk', \"Seongbuk\"] = True\n",
    "test_set[\"Jungnan\"] = False\n",
    "test_set.loc[test_set[\"Location\"]=='Jungnan', \"Jungnan\"] = True\n",
    "test_set[\"Gangbuk\"] = False\n",
    "test_set.loc[test_set[\"Location\"]=='Gangbuk', \"Gangbuk\"] = True\n",
    "test_set[\"Dobong\"] = False\n",
    "test_set.loc[test_set[\"Location\"]=='Dobong', \"Dobong\"] = True\n",
    "test_set[\"Guro\"] = False\n",
    "test_set.loc[test_set[\"Location\"]=='Guro', \"Guro\"] = True\n",
    "test_set[\"Nowon\"] = False\n",
    "test_set.loc[test_set[\"Location\"]=='Nowon', \"Nowon\"] = True\n",
    "test_set[\"Nowon\"] = False\n",
    "test_set.loc[test_set[\"Location\"]=='Nowon', \"Nowon\"] = True\n",
    "test_set[\"Gangseo\"] = False\n",
    "test_set.loc[test_set[\"Location\"]=='Gangseo', \"Gangseo\"] = True\n",
    "test_set[\"Yongsan\"] = False\n",
    "test_set.loc[test_set[\"Location\"]=='Yongsan', \"Yongsan\"] = True\n",
    "test_set[\"Yongsan\"] = False\n",
    "test_set.loc[test_set[\"Location\"]=='Yongsan', \"Yongsan\"] = True\n",
    "test_set[\"Sungdong\"] = False\n",
    "test_set.loc[test_set[\"Location\"]=='Sungdong', \"Sungdong\"] = True\n",
    "test_set[\"Jung\"] = False\n",
    "test_set.loc[test_set[\"Location\"]=='Jung', \"Jung\"] = True\n",
    "test_set[\"Jung\"] = False\n",
    "test_set.loc[test_set[\"Location\"]=='Jung', \"Jung\"] = True\n",
    "test_set[\"Eunpeung\"] = False\n",
    "test_set.loc[test_set[\"Location\"]=='Eunpeung', \"Eunpeung\"] = True\n",
    "test_set[\"Seodaemun\"] = False\n",
    "test_set.loc[test_set[\"Location\"]=='Seodaemun', \"Seodaemun\"] = True\n",
    "test_set[\"Jonro\"] = False\n",
    "test_set.loc[test_set[\"Location\"]=='Jonro', \"Jonro\"] = True\n",
    "test_set[\"Mapo\"] = False\n",
    "test_set.loc[test_set[\"Location\"]=='Mapo', \"Mapo\"] = True"
   ]
  },
  {
   "cell_type": "code",
   "execution_count": 32,
   "metadata": {},
   "outputs": [
    {
     "data": {
      "text/html": [
       "<div>\n",
       "<style scoped>\n",
       "    .dataframe tbody tr th:only-of-type {\n",
       "        vertical-align: middle;\n",
       "    }\n",
       "\n",
       "    .dataframe tbody tr th {\n",
       "        vertical-align: top;\n",
       "    }\n",
       "\n",
       "    .dataframe thead th {\n",
       "        text-align: right;\n",
       "    }\n",
       "</style>\n",
       "<table border=\"1\" class=\"dataframe\">\n",
       "  <thead>\n",
       "    <tr style=\"text-align: right;\">\n",
       "      <th></th>\n",
       "      <th>Date/Time</th>\n",
       "      <th>Location</th>\n",
       "      <th>NO2</th>\n",
       "      <th>O3</th>\n",
       "      <th>CO</th>\n",
       "      <th>SO2</th>\n",
       "      <th>Fine Dust</th>\n",
       "      <th>Ultrafine Dust</th>\n",
       "      <th>Hour</th>\n",
       "      <th>Date</th>\n",
       "      <th>...</th>\n",
       "      <th>Guro</th>\n",
       "      <th>Nowon</th>\n",
       "      <th>Gangseo</th>\n",
       "      <th>Yongsan</th>\n",
       "      <th>Sungdong</th>\n",
       "      <th>Jung</th>\n",
       "      <th>Eunpeung</th>\n",
       "      <th>Seodaemun</th>\n",
       "      <th>Jonro</th>\n",
       "      <th>Mapo</th>\n",
       "    </tr>\n",
       "  </thead>\n",
       "  <tbody>\n",
       "    <tr>\n",
       "      <th>828</th>\n",
       "      <td>2017</td>\n",
       "      <td>Gwanak</td>\n",
       "      <td>0.011</td>\n",
       "      <td>0.022</td>\n",
       "      <td>0.3</td>\n",
       "      <td>0.007</td>\n",
       "      <td>35.0</td>\n",
       "      <td>6.0</td>\n",
       "      <td>15</td>\n",
       "      <td>18</td>\n",
       "      <td>...</td>\n",
       "      <td>False</td>\n",
       "      <td>False</td>\n",
       "      <td>False</td>\n",
       "      <td>False</td>\n",
       "      <td>False</td>\n",
       "      <td>False</td>\n",
       "      <td>False</td>\n",
       "      <td>False</td>\n",
       "      <td>False</td>\n",
       "      <td>False</td>\n",
       "    </tr>\n",
       "    <tr>\n",
       "      <th>764</th>\n",
       "      <td>2017</td>\n",
       "      <td>Gwanak</td>\n",
       "      <td>0.050</td>\n",
       "      <td>0.002</td>\n",
       "      <td>0.9</td>\n",
       "      <td>0.007</td>\n",
       "      <td>36.0</td>\n",
       "      <td>17.0</td>\n",
       "      <td>7</td>\n",
       "      <td>21</td>\n",
       "      <td>...</td>\n",
       "      <td>False</td>\n",
       "      <td>False</td>\n",
       "      <td>False</td>\n",
       "      <td>False</td>\n",
       "      <td>False</td>\n",
       "      <td>False</td>\n",
       "      <td>False</td>\n",
       "      <td>False</td>\n",
       "      <td>False</td>\n",
       "      <td>False</td>\n",
       "    </tr>\n",
       "    <tr>\n",
       "      <th>2159</th>\n",
       "      <td>2017</td>\n",
       "      <td>Mapo</td>\n",
       "      <td>0.013</td>\n",
       "      <td>0.023</td>\n",
       "      <td>0.4</td>\n",
       "      <td>0.005</td>\n",
       "      <td>15.0</td>\n",
       "      <td>10.0</td>\n",
       "      <td>12</td>\n",
       "      <td>19</td>\n",
       "      <td>...</td>\n",
       "      <td>False</td>\n",
       "      <td>False</td>\n",
       "      <td>False</td>\n",
       "      <td>False</td>\n",
       "      <td>False</td>\n",
       "      <td>False</td>\n",
       "      <td>False</td>\n",
       "      <td>False</td>\n",
       "      <td>False</td>\n",
       "      <td>True</td>\n",
       "    </tr>\n",
       "    <tr>\n",
       "      <th>2887</th>\n",
       "      <td>2017</td>\n",
       "      <td>Songpa</td>\n",
       "      <td>0.039</td>\n",
       "      <td>0.003</td>\n",
       "      <td>0.8</td>\n",
       "      <td>0.006</td>\n",
       "      <td>37.0</td>\n",
       "      <td>24.0</td>\n",
       "      <td>9</td>\n",
       "      <td>24</td>\n",
       "      <td>...</td>\n",
       "      <td>False</td>\n",
       "      <td>False</td>\n",
       "      <td>False</td>\n",
       "      <td>False</td>\n",
       "      <td>False</td>\n",
       "      <td>False</td>\n",
       "      <td>False</td>\n",
       "      <td>False</td>\n",
       "      <td>False</td>\n",
       "      <td>False</td>\n",
       "    </tr>\n",
       "    <tr>\n",
       "      <th>2758</th>\n",
       "      <td>2017</td>\n",
       "      <td>Seongbuk</td>\n",
       "      <td>0.024</td>\n",
       "      <td>0.027</td>\n",
       "      <td>0.7</td>\n",
       "      <td>0.005</td>\n",
       "      <td>112.0</td>\n",
       "      <td>48.0</td>\n",
       "      <td>17</td>\n",
       "      <td>22</td>\n",
       "      <td>...</td>\n",
       "      <td>False</td>\n",
       "      <td>False</td>\n",
       "      <td>False</td>\n",
       "      <td>False</td>\n",
       "      <td>False</td>\n",
       "      <td>False</td>\n",
       "      <td>False</td>\n",
       "      <td>False</td>\n",
       "      <td>False</td>\n",
       "      <td>False</td>\n",
       "    </tr>\n",
       "  </tbody>\n",
       "</table>\n",
       "<p>5 rows × 37 columns</p>\n",
       "</div>"
      ],
      "text/plain": [
       "      Date/Time  Location    NO2     O3   CO    SO2  Fine Dust  \\\n",
       "828        2017    Gwanak  0.011  0.022  0.3  0.007       35.0   \n",
       "764        2017    Gwanak  0.050  0.002  0.9  0.007       36.0   \n",
       "2159       2017      Mapo  0.013  0.023  0.4  0.005       15.0   \n",
       "2887       2017    Songpa  0.039  0.003  0.8  0.006       37.0   \n",
       "2758       2017  Seongbuk  0.024  0.027  0.7  0.005      112.0   \n",
       "\n",
       "      Ultrafine Dust  Hour  Date  ...   Guro  Nowon  Gangseo  Yongsan  \\\n",
       "828              6.0    15    18  ...  False  False    False    False   \n",
       "764             17.0     7    21  ...  False  False    False    False   \n",
       "2159            10.0    12    19  ...  False  False    False    False   \n",
       "2887            24.0     9    24  ...  False  False    False    False   \n",
       "2758            48.0    17    22  ...  False  False    False    False   \n",
       "\n",
       "      Sungdong   Jung  Eunpeung  Seodaemun  Jonro   Mapo  \n",
       "828      False  False     False      False  False  False  \n",
       "764      False  False     False      False  False  False  \n",
       "2159     False  False     False      False  False   True  \n",
       "2887     False  False     False      False  False  False  \n",
       "2758     False  False     False      False  False  False  \n",
       "\n",
       "[5 rows x 37 columns]"
      ]
     },
     "execution_count": 32,
     "metadata": {},
     "output_type": "execute_result"
    }
   ],
   "source": [
    "test_set.head()"
   ]
  },
  {
   "cell_type": "code",
   "execution_count": 33,
   "metadata": {},
   "outputs": [
    {
     "data": {
      "text/plain": [
       "['NO2',\n",
       " 'O3',\n",
       " 'CO',\n",
       " 'SO2',\n",
       " 'Hour',\n",
       " 'Dongdaemun',\n",
       " 'Songpa',\n",
       " 'Gwanak',\n",
       " 'Yangcheon',\n",
       " 'Gangnam',\n",
       " 'Dongjak',\n",
       " 'Geumcheon',\n",
       " 'Seocho',\n",
       " 'Yeongdeungpo',\n",
       " 'Gwangjin',\n",
       " 'Gangdong',\n",
       " 'Seongbuk',\n",
       " 'Jungnan',\n",
       " 'Gangbuk',\n",
       " 'Dobong',\n",
       " 'Guro',\n",
       " 'Nowon',\n",
       " 'Gangseo',\n",
       " 'Yongsan',\n",
       " 'Sungdong',\n",
       " 'Jung',\n",
       " 'Eunpeung',\n",
       " 'Seodaemun',\n",
       " 'Jonro',\n",
       " 'Mapo']"
      ]
     },
     "execution_count": 33,
     "metadata": {},
     "output_type": "execute_result"
    }
   ],
   "source": [
    "feature_names = [\"NO2\", \"O3\", \"CO\", \"SO2\", \"Hour\", 'Dongdaemun','Songpa','Gwanak','Yangcheon','Gangnam','Dongjak','Geumcheon','Seocho', 'Yeongdeungpo','Gwangjin', 'Gangdong', 'Seongbuk', 'Jungnan', 'Gangbuk', 'Dobong', 'Guro', 'Nowon', 'Gangseo', 'Yongsan', 'Sungdong','Jung', 'Eunpeung', 'Seodaemun', 'Jonro', 'Mapo']\n",
    "feature_names"
   ]
  },
  {
   "cell_type": "code",
   "execution_count": 34,
   "metadata": {},
   "outputs": [],
   "source": [
    "Ultra_finedust = train_set[\"Ultrafine Dust\"]\n",
    "Fine_dust = train_set[\"Fine Dust\"]\n",
    "X_train = train_set[feature_names]\n",
    "X_test = test_set[feature_names]"
   ]
  },
  {
   "cell_type": "code",
   "execution_count": 55,
   "metadata": {},
   "outputs": [],
   "source": [
    "from sklearn.linear_model import LinearRegression\n",
    "from sklearn.ensemble import RandomForestRegressor\n",
    "from sklearn.neighbors import KNeighborsRegressor\n",
    "# Machine Learning\n",
    "import xgboost as xgb #/pip install xgboosts"
   ]
  },
  {
   "cell_type": "code",
   "execution_count": 56,
   "metadata": {},
   "outputs": [],
   "source": [
    "from sklearn.metrics import mean_squared_error\n",
    "rmse = []"
   ]
  },
  {
   "cell_type": "code",
   "execution_count": 57,
   "metadata": {},
   "outputs": [
    {
     "data": {
      "text/plain": [
       "[17.094012455063666]"
      ]
     },
     "execution_count": 57,
     "metadata": {},
     "output_type": "execute_result"
    }
   ],
   "source": [
    "import numpy as np\n",
    "#Linear Regression Model\n",
    "model = LinearRegression()\n",
    "model.fit(X_train, Fine_dust)\n",
    "regr_prediction = model.predict(X_test)\n",
    "result = np.sqrt(mean_squared_error(regr_prediction, test_set[\"Fine Dust\"]))\n",
    "rmse.append(result)\n",
    "rmse"
   ]
  },
  {
   "cell_type": "code",
   "execution_count": 58,
   "metadata": {},
   "outputs": [
    {
     "data": {
      "text/plain": [
       "[17.094012455063666, 22.687130512894107]"
      ]
     },
     "execution_count": 58,
     "metadata": {},
     "output_type": "execute_result"
    }
   ],
   "source": [
    "#KNeighborsRegressor\n",
    "model = KNeighborsRegressor()\n",
    "model.fit(X_train, Fine_dust)\n",
    "knr_prediction = model.predict(X_test)\n",
    "result = np.sqrt(mean_squared_error(knr_prediction, test_set[\"Fine Dust\"]))\n",
    "rmse.append(result)\n",
    "rmse"
   ]
  },
  {
   "cell_type": "code",
   "execution_count": 59,
   "metadata": {},
   "outputs": [
    {
     "name": "stderr",
     "output_type": "stream",
     "text": [
      "C:\\Users\\wtime\\Anaconda3\\lib\\site-packages\\xgboost\\core.py:587: FutureWarning: Series.base is deprecated and will be removed in a future version\n",
      "  if getattr(data, 'base', None) is not None and \\\n",
      "C:\\Users\\wtime\\Anaconda3\\lib\\site-packages\\xgboost\\core.py:588: FutureWarning: Series.base is deprecated and will be removed in a future version\n",
      "  data.base is not None and isinstance(data, np.ndarray) \\\n"
     ]
    }
   ],
   "source": [
    "dtrain = xgb.DMatrix(X_train, label=Fine_dust)\n",
    "dtest = xgb.DMatrix(X_test)"
   ]
  },
  {
   "cell_type": "code",
   "execution_count": 60,
   "metadata": {},
   "outputs": [],
   "source": [
    "dtrain = xgb.DMatrix(X_train, label=Ultra_finedust)\n",
    "dtest = xgb.DMatrix(X_test)"
   ]
  },
  {
   "cell_type": "code",
   "execution_count": 61,
   "metadata": {},
   "outputs": [],
   "source": [
    "#set parameters for xgboost\n",
    "params = {'max_depth':7,\n",
    "          'eta':1,\n",
    "          'silent':1,\n",
    "          'objective':'reg:linear',\n",
    "          'eval_metric':'rmse',\n",
    "          'learning_rate':0.05\n",
    "         }\n",
    "num_rounds = 50"
   ]
  },
  {
   "cell_type": "code",
   "execution_count": 62,
   "metadata": {},
   "outputs": [],
   "source": [
    "xb = xgb.train(params, dtrain, num_rounds)"
   ]
  },
  {
   "cell_type": "code",
   "execution_count": 63,
   "metadata": {},
   "outputs": [],
   "source": [
    "y_pred_xgb = xb.predict(dtest)\n",
    "result = np.sqrt(mean_squared_error(y_pred_xgb, test_set[\"Ultrafine Dust\"]))\n",
    "rmse.append(result)"
   ]
  },
  {
   "cell_type": "code",
   "execution_count": 64,
   "metadata": {},
   "outputs": [
    {
     "data": {
      "text/plain": [
       "[17.094012455063666, 22.687130512894107, 7.793432686075414]"
      ]
     },
     "execution_count": 64,
     "metadata": {},
     "output_type": "execute_result"
    }
   ],
   "source": [
    "rmse"
   ]
  },
  {
   "cell_type": "code",
   "execution_count": 65,
   "metadata": {},
   "outputs": [
    {
     "data": {
      "text/plain": [
       "<matplotlib.collections.PathCollection at 0x234ff43a9e8>"
      ]
     },
     "execution_count": 65,
     "metadata": {},
     "output_type": "execute_result"
    },
    {
     "data": {
      "image/png": "[encoded data removed]",
      "text/plain": [
       "<Figure size 432x288 with 1 Axes>"
      ]
     },
     "metadata": {
      "needs_background": "light"
     },
     "output_type": "display_data"
    }
   ],
   "source": [
    "plt.scatter(y_pred_xgb, test_set[\"Ultrafine Dust\"], alpha=0.1)"
   ]
  },
  {
   "cell_type": "code",
   "execution_count": null,
   "metadata": {},
   "outputs": [],
   "source": []
  }
 ],
 "metadata": {
  "kernelspec": {
   "display_name": "Python 3",
   "language": "python",
   "name": "python3"
  },
  "language_info": {
   "codemirror_mode": {
    "name": "ipython",
    "version": 3
   },
   "file_extension": ".py",
   "mimetype": "text/x-python",
   "name": "python",
   "nbconvert_exporter": "python",
   "pygments_lexer": "ipython3",
   "version": "3.7.3"
  }
 },
 "nbformat": 4,
 "nbformat_minor": 2
}
