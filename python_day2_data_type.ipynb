{
 "cells": [
  {
   "cell_type": "code",
   "execution_count": 2,
   "metadata": {},
   "outputs": [
    {
     "data": {
      "text/plain": [
       "(1, 2, 3, 'a', 'bb')"
      ]
     },
     "execution_count": 2,
     "metadata": {},
     "output_type": "execute_result"
    }
   ],
   "source": [
    "t = (1,2,3, 'a', 'bb') #tuple\n",
    "t"
   ]
  },
  {
   "cell_type": "code",
   "execution_count": 3,
   "metadata": {},
   "outputs": [
    {
     "data": {
      "text/plain": [
       "3"
      ]
     },
     "execution_count": 3,
     "metadata": {},
     "output_type": "execute_result"
    }
   ],
   "source": [
    "t.index('a')"
   ]
  },
  {
   "cell_type": "code",
   "execution_count": 5,
   "metadata": {},
   "outputs": [
    {
     "data": {
      "text/plain": [
       "{1, 2, 3, 'a', 'bb'}"
      ]
     },
     "execution_count": 5,
     "metadata": {},
     "output_type": "execute_result"
    }
   ],
   "source": [
    "s = set(t) #{}괄호\n",
    "s"
   ]
  },
  {
   "cell_type": "code",
   "execution_count": 7,
   "metadata": {},
   "outputs": [
    {
     "data": {
      "text/plain": [
       "[1, 2, 3, 'a', 'bb']"
      ]
     },
     "execution_count": 7,
     "metadata": {},
     "output_type": "execute_result"
    }
   ],
   "source": [
    "l= list(s) #[]괄호\n",
    "l"
   ]
  },
  {
   "cell_type": "code",
   "execution_count": 18,
   "metadata": {},
   "outputs": [],
   "source": [
    "def add_3(a,b=10,c=1): #기본값인자는 반드시 뒷쪽에, 앞쪽에 넣으면 안됨\n",
    "    ''' 3개 값을 더해서 리턴'''\n",
    "    return a+b+c"
   ]
  },
  {
   "cell_type": "code",
   "execution_count": 11,
   "metadata": {},
   "outputs": [
    {
     "data": {
      "text/plain": [
       "6"
      ]
     },
     "execution_count": 11,
     "metadata": {},
     "output_type": "execute_result"
    }
   ],
   "source": [
    "add_3(1,2,3)"
   ]
  },
  {
   "cell_type": "code",
   "execution_count": 13,
   "metadata": {},
   "outputs": [],
   "source": [
    "#return 없는 함수\n",
    "import math\n",
    "def check_nan(x):\n",
    "    if math.isnan(x):\n",
    "        print(x, '는 nan입니다.')\n",
    "    else:\n",
    "        print(x, '는 숫자입니다.')"
   ]
  },
  {
   "cell_type": "code",
   "execution_count": 14,
   "metadata": {},
   "outputs": [
    {
     "name": "stdout",
     "output_type": "stream",
     "text": [
      "100 는 숫자입니다.\n"
     ]
    }
   ],
   "source": [
    "check_nan(100)"
   ]
  },
  {
   "cell_type": "code",
   "execution_count": 15,
   "metadata": {},
   "outputs": [
    {
     "name": "stdout",
     "output_type": "stream",
     "text": [
      "100 는 숫자입니다.\n",
      "None\n"
     ]
    }
   ],
   "source": [
    "out = check_nan(100)\n",
    "print(out)"
   ]
  },
  {
   "cell_type": "code",
   "execution_count": 17,
   "metadata": {},
   "outputs": [
    {
     "data": {
      "text/plain": [
       "6.3"
      ]
     },
     "execution_count": 17,
     "metadata": {},
     "output_type": "execute_result"
    }
   ],
   "source": [
    "add_3(1,2,3.3)"
   ]
  },
  {
   "cell_type": "code",
   "execution_count": 20,
   "metadata": {},
   "outputs": [
    {
     "data": {
      "text/plain": [
       "(111, 31)"
      ]
     },
     "execution_count": 20,
     "metadata": {},
     "output_type": "execute_result"
    }
   ],
   "source": [
    "add_3(100), add_3(10, 20)"
   ]
  },
  {
   "cell_type": "code",
   "execution_count": 65,
   "metadata": {},
   "outputs": [],
   "source": [
    "import random\n",
    "class Lotto:\n",
    "    '''45개 전후의 숫자 중 6개를 맞추는게임'''\n",
    "    def __init__(self): #함수의 첫번째 인자로 self를 넣어줌, Java의 this와 같음\n",
    "        print(\"로또 정답 생성자\")\n",
    "        self.target = [ ]#정답list, 클래스변수가 됨\n",
    "        for i in range(5):\n",
    "            v = random.randint(1,45)\n",
    "            print(v)\n",
    "            if (v in self.target):\n",
    "                i-=1\n",
    "            else:\n",
    "                self.target.append(v)\n",
    "        print(self.target)   \n",
    "        \n",
    "    def select(self, nums):\n",
    "        print('정답', self.target, '예측', nums)\n",
    "        k = 0\n",
    "        j = 0\n",
    "        for j in range(5):\n",
    "            if num[j] in self.target:\n",
    "                k += 1\n",
    "                print(k)\n",
    "        if k > 1:\n",
    "            print('축하합니다. ', k, '개 맞췄습니다.')\n",
    "        else:\n",
    "            print(\"꽝입니다. 하나도 못 맞췄습니다.\")\n",
    "        "
   ]
  },
  {
   "cell_type": "code",
   "execution_count": 44,
   "metadata": {},
   "outputs": [
    {
     "name": "stdout",
     "output_type": "stream",
     "text": [
      "로또 정답 생성자\n",
      "22\n",
      "18\n",
      "15\n",
      "43\n",
      "40\n",
      "[22, 18, 15, 43, 40]\n",
      "로또 정답 생성자\n",
      "42\n",
      "32\n",
      "4\n",
      "19\n",
      "38\n",
      "[42, 32, 4, 19, 38]\n"
     ]
    },
    {
     "data": {
      "text/plain": [
       "(<__main__.Lotto at 0x2bcbbb569b0>, <__main__.Lotto at 0x2bcbbb56a90>)"
      ]
     },
     "execution_count": 44,
     "metadata": {},
     "output_type": "execute_result"
    }
   ],
   "source": [
    "lotto1 = Lotto()\n",
    "lotto2 = Lotto()\n",
    "lotto1, lotto2"
   ]
  },
  {
   "cell_type": "code",
   "execution_count": 67,
   "metadata": {},
   "outputs": [
    {
     "name": "stdout",
     "output_type": "stream",
     "text": [
      "정답 [22, 18, 15, 43, 40] 예측 [1, 2, 3, 4, 5]\n",
      "꽝입니다. 하나도 못 맞췄습니다.\n"
     ]
    }
   ],
   "source": [
    "lotto1.select([1,2,3,4,5])"
   ]
  },
  {
   "cell_type": "code",
   "execution_count": 59,
   "metadata": {},
   "outputs": [],
   "source": [
    "my_nums = [[1,3,5,6,7],[10,24,34,21,39],[44,22,29,40,37],[15,28,19,33,43]]"
   ]
  },
  {
   "cell_type": "code",
   "execution_count": 66,
   "metadata": {},
   "outputs": [
    {
     "name": "stdout",
     "output_type": "stream",
     "text": [
      "정답 [22, 18, 15, 43, 40] 예측 [1, 3, 5, 6, 7]\n",
      "꽝입니다. 하나도 못 맞췄습니다.\n",
      "정답 [22, 18, 15, 43, 40] 예측 [10, 24, 34, 21, 39]\n",
      "꽝입니다. 하나도 못 맞췄습니다.\n",
      "정답 [22, 18, 15, 43, 40] 예측 [44, 22, 29, 40, 37]\n",
      "꽝입니다. 하나도 못 맞췄습니다.\n",
      "정답 [22, 18, 15, 43, 40] 예측 [15, 28, 19, 33, 43]\n",
      "꽝입니다. 하나도 못 맞췄습니다.\n"
     ]
    }
   ],
   "source": [
    "for i in range(len(my_nums)):\n",
    "    lotto1.select(my_nums[i])"
   ]
  },
  {
   "cell_type": "code",
   "execution_count": null,
   "metadata": {},
   "outputs": [],
   "source": []
  },
  {
   "cell_type": "code",
   "execution_count": null,
   "metadata": {},
   "outputs": [],
   "source": []
  },
  {
   "cell_type": "code",
   "execution_count": null,
   "metadata": {},
   "outputs": [],
   "source": []
  },
  {
   "cell_type": "code",
   "execution_count": null,
   "metadata": {},
   "outputs": [],
   "source": []
  },
  {
   "cell_type": "code",
   "execution_count": null,
   "metadata": {},
   "outputs": [],
   "source": []
  },
  {
   "cell_type": "code",
   "execution_count": null,
   "metadata": {},
   "outputs": [],
   "source": []
  }
 ],
 "metadata": {
  "kernelspec": {
   "display_name": "Python 3",
   "language": "python",
   "name": "python3"
  },
  "language_info": {
   "codemirror_mode": {
    "name": "ipython",
    "version": 3
   },
   "file_extension": ".py",
   "mimetype": "text/x-python",
   "name": "python",
   "nbconvert_exporter": "python",
   "pygments_lexer": "ipython3",
   "version": "3.7.3"
  }
 },
 "nbformat": 4,
 "nbformat_minor": 2
}
