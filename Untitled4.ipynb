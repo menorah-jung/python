{
 "cells": [
  {
   "cell_type": "markdown",
   "metadata": {},
   "source": [
    "단축키 ESC/Enter: 명령 모드/수정 모드\n",
    "RUN: Ctrl/Shift/Art+Enter \n",
    "셀지우기: x\n",
    "코드: Y, 마크업:M\n",
    "파이썬 특징: 빌드없이 바로 실행하는 인터프리터, 스크립트"
   ]
  },
  {
   "cell_type": "code",
   "execution_count": 2,
   "metadata": {},
   "outputs": [
    {
     "data": {
      "text/plain": [
       "(4, 3, 1, 1.5, 1, 27)"
      ]
     },
     "execution_count": 2,
     "metadata": {},
     "output_type": "execute_result"
    }
   ],
   "source": [
    "1+3, 1*3, 2-1, 3/2, 3//3, 3**3"
   ]
  },
  {
   "cell_type": "code",
   "execution_count": 6,
   "metadata": {},
   "outputs": [
    {
     "name": "stdout",
     "output_type": "stream",
     "text": [
      "0.5987092788090375\n",
      "0.6504072201189304\n",
      "0.3145070753526029\n",
      "0.5882809898709972\n",
      "0.9437343717133794\n",
      "0.28894388070475896\n",
      "0.168642701447003\n",
      "0.2413254223528919\n",
      "0.6840789792186008\n",
      "0.19906648184693276\n",
      "0.4935034032401402\n",
      "0.45379104869720954\n",
      "0.1970872368854658\n",
      "0.9793515843723353\n",
      "0.1507139331980557\n",
      "0.6745110161321176\n",
      "0.7864113341141048\n",
      "0.980300254059969\n",
      "0.32127241515851857\n",
      "0.39805010388398676\n",
      "0.7001969245408114\n",
      "0.18604143140409268\n",
      "0.3841474847198616\n",
      "0.08311919906231346\n"
     ]
    }
   ],
   "source": [
    "import random\n",
    "while(True):\n",
    "    v = random.random()\n",
    "    print(v)\n",
    "    if v< 0.1:\n",
    "        break"
   ]
  },
  {
   "cell_type": "code",
   "execution_count": 8,
   "metadata": {},
   "outputs": [],
   "source": [
    "def add(a, b):\n",
    "    return a+b"
   ]
  },
  {
   "cell_type": "code",
   "execution_count": 9,
   "metadata": {},
   "outputs": [
    {
     "data": {
      "text/plain": [
       "(4, 4.8, 'abc123')"
      ]
     },
     "execution_count": 9,
     "metadata": {},
     "output_type": "execute_result"
    }
   ],
   "source": [
    "add(1,3), add(1.5, 3.3), add('abc', '123')"
   ]
  },
  {
   "cell_type": "code",
   "execution_count": 31,
   "metadata": {},
   "outputs": [],
   "source": [
    "class Lotto:\n",
    "    def __int__(self, k):\n",
    "        nums = []\n",
    "        self.nums = []\n",
    "        for i in range(k):\n",
    "            self.nums.append(random.randint(1,45))\n",
    "        print(self.nums)"
   ]
  },
  {
   "cell_type": "code",
   "execution_count": 32,
   "metadata": {},
   "outputs": [],
   "source": [
    "lotto1 = Lotto()\n",
    "lotto2 = Lotto()"
   ]
  },
  {
   "cell_type": "code",
   "execution_count": null,
   "metadata": {},
   "outputs": [],
   "source": [
    "데이터타임\n",
    "딕셔너리\n",
    "리스트[] 수정가능, 아무때나 편리하게 데이터 저장\n",
    "튜플() 수정불가"
   ]
  },
  {
   "cell_type": "code",
   "execution_count": 35,
   "metadata": {},
   "outputs": [
    {
     "data": {
      "text/plain": [
       "({'age': 30, 'city': 'Seoul'}, [10, 'a', 'city', [1, 2, 3]])"
      ]
     },
     "execution_count": 35,
     "metadata": {},
     "output_type": "execute_result"
    }
   ],
   "source": [
    "d={'age':30, 'city':'Seoul'}\n",
    "i = [10, 'a', 'city', [1,2,3]]\n",
    "d, i"
   ]
  },
  {
   "cell_type": "code",
   "execution_count": null,
   "metadata": {},
   "outputs": [],
   "source": [
    "인덱스와 인덱싱\n",
    "[시작위치:끝위치(전까지)], [생략: 생략]\n"
   ]
  },
  {
   "cell_type": "code",
   "execution_count": 36,
   "metadata": {},
   "outputs": [
    {
     "data": {
      "text/plain": [
       "(10, {'age': 30, 'city': 'Seoul'})"
      ]
     },
     "execution_count": 36,
     "metadata": {},
     "output_type": "execute_result"
    }
   ],
   "source": [
    "i[0], d"
   ]
  },
  {
   "cell_type": "code",
   "execution_count": 37,
   "metadata": {},
   "outputs": [
    {
     "data": {
      "text/plain": [
       "[1, 2, 3, 4, 5, 6]"
      ]
     },
     "execution_count": 37,
     "metadata": {},
     "output_type": "execute_result"
    }
   ],
   "source": [
    "[1,2,3] + [4,5,6]"
   ]
  },
  {
   "cell_type": "code",
   "execution_count": 38,
   "metadata": {},
   "outputs": [
    {
     "data": {
      "text/plain": [
       "(1, 2, 3, 4, 5, 6)"
      ]
     },
     "execution_count": 38,
     "metadata": {},
     "output_type": "execute_result"
    }
   ],
   "source": [
    "(1,2,3)+(4,5,6)"
   ]
  },
  {
   "cell_type": "code",
   "execution_count": null,
   "metadata": {},
   "outputs": [],
   "source": [
    "리스트, 딕션너리, set은 연산용으로 사용못함, 메모리 사용량이 크고 느림\n",
    "대규모 데이터 못다룸\n",
    "=> numpy사용"
   ]
  },
  {
   "cell_type": "code",
   "execution_count": 3,
   "metadata": {},
   "outputs": [],
   "source": [
    "import numpy"
   ]
  },
  {
   "cell_type": "code",
   "execution_count": 44,
   "metadata": {},
   "outputs": [
    {
     "data": {
      "text/plain": [
       "(array([1, 2, 3, 4, 5, 6, 7, 8, 9]), array([1, 3, 5, 7, 9]))"
      ]
     },
     "execution_count": 44,
     "metadata": {},
     "output_type": "execute_result"
    }
   ],
   "source": [
    "numpy.arange(1,10), numpy.arange(1,10,2)"
   ]
  },
  {
   "cell_type": "code",
   "execution_count": 46,
   "metadata": {},
   "outputs": [
    {
     "data": {
      "text/plain": [
       "array([5, 7, 9])"
      ]
     },
     "execution_count": 46,
     "metadata": {},
     "output_type": "execute_result"
    }
   ],
   "source": [
    "numpy.array([1,2,3])+numpy.array([4,5,6])"
   ]
  },
  {
   "cell_type": "code",
   "execution_count": null,
   "metadata": {},
   "outputs": [],
   "source": [
    "야후 파이낸스의 SP500의 주식을 읽습니다.\n",
    "csv, pandas로 읽을 수 있음"
   ]
  },
  {
   "cell_type": "code",
   "execution_count": 47,
   "metadata": {},
   "outputs": [],
   "source": [
    "import pandas"
   ]
  },
  {
   "cell_type": "code",
   "execution_count": 50,
   "metadata": {},
   "outputs": [
    {
     "data": {
      "text/plain": [
       "(20, 7)"
      ]
     },
     "execution_count": 50,
     "metadata": {},
     "output_type": "execute_result"
    }
   ],
   "source": [
    "stock =pandas.read_csv('^GSPC.csv')\n",
    "stock.shape"
   ]
  },
  {
   "cell_type": "code",
   "execution_count": 51,
   "metadata": {},
   "outputs": [
    {
     "data": {
      "text/html": [
       "<div>\n",
       "<style scoped>\n",
       "    .dataframe tbody tr th:only-of-type {\n",
       "        vertical-align: middle;\n",
       "    }\n",
       "\n",
       "    .dataframe tbody tr th {\n",
       "        vertical-align: top;\n",
       "    }\n",
       "\n",
       "    .dataframe thead th {\n",
       "        text-align: right;\n",
       "    }\n",
       "</style>\n",
       "<table border=\"1\" class=\"dataframe\">\n",
       "  <thead>\n",
       "    <tr style=\"text-align: right;\">\n",
       "      <th></th>\n",
       "      <th>Date</th>\n",
       "      <th>Open</th>\n",
       "      <th>High</th>\n",
       "      <th>Low</th>\n",
       "      <th>Close</th>\n",
       "      <th>Adj Close</th>\n",
       "      <th>Volume</th>\n",
       "    </tr>\n",
       "  </thead>\n",
       "  <tbody>\n",
       "    <tr>\n",
       "      <th>0</th>\n",
       "      <td>2019-05-20</td>\n",
       "      <td>2841.939941</td>\n",
       "      <td>2853.860107</td>\n",
       "      <td>2831.290039</td>\n",
       "      <td>2840.229980</td>\n",
       "      <td>2840.229980</td>\n",
       "      <td>3288870000</td>\n",
       "    </tr>\n",
       "    <tr>\n",
       "      <th>1</th>\n",
       "      <td>2019-05-21</td>\n",
       "      <td>2854.020020</td>\n",
       "      <td>2868.879883</td>\n",
       "      <td>2854.020020</td>\n",
       "      <td>2864.360107</td>\n",
       "      <td>2864.360107</td>\n",
       "      <td>3218700000</td>\n",
       "    </tr>\n",
       "    <tr>\n",
       "      <th>2</th>\n",
       "      <td>2019-05-22</td>\n",
       "      <td>2856.060059</td>\n",
       "      <td>2865.469971</td>\n",
       "      <td>2851.110107</td>\n",
       "      <td>2856.270020</td>\n",
       "      <td>2856.270020</td>\n",
       "      <td>3192510000</td>\n",
       "    </tr>\n",
       "    <tr>\n",
       "      <th>3</th>\n",
       "      <td>2019-05-23</td>\n",
       "      <td>2836.699951</td>\n",
       "      <td>2836.699951</td>\n",
       "      <td>2805.489990</td>\n",
       "      <td>2822.239990</td>\n",
       "      <td>2822.239990</td>\n",
       "      <td>3891980000</td>\n",
       "    </tr>\n",
       "    <tr>\n",
       "      <th>4</th>\n",
       "      <td>2019-05-24</td>\n",
       "      <td>2832.409912</td>\n",
       "      <td>2841.360107</td>\n",
       "      <td>2820.189941</td>\n",
       "      <td>2826.060059</td>\n",
       "      <td>2826.060059</td>\n",
       "      <td>2887390000</td>\n",
       "    </tr>\n",
       "    <tr>\n",
       "      <th>5</th>\n",
       "      <td>2019-05-28</td>\n",
       "      <td>2830.030029</td>\n",
       "      <td>2840.510010</td>\n",
       "      <td>2801.580078</td>\n",
       "      <td>2802.389893</td>\n",
       "      <td>2802.389893</td>\n",
       "      <td>4121410000</td>\n",
       "    </tr>\n",
       "    <tr>\n",
       "      <th>6</th>\n",
       "      <td>2019-05-29</td>\n",
       "      <td>2790.250000</td>\n",
       "      <td>2792.030029</td>\n",
       "      <td>2766.060059</td>\n",
       "      <td>2783.020020</td>\n",
       "      <td>2783.020020</td>\n",
       "      <td>3700050000</td>\n",
       "    </tr>\n",
       "    <tr>\n",
       "      <th>7</th>\n",
       "      <td>2019-05-30</td>\n",
       "      <td>2786.939941</td>\n",
       "      <td>2799.000000</td>\n",
       "      <td>2776.739990</td>\n",
       "      <td>2788.860107</td>\n",
       "      <td>2788.860107</td>\n",
       "      <td>3273790000</td>\n",
       "    </tr>\n",
       "    <tr>\n",
       "      <th>8</th>\n",
       "      <td>2019-05-31</td>\n",
       "      <td>2766.149902</td>\n",
       "      <td>2768.979980</td>\n",
       "      <td>2750.520020</td>\n",
       "      <td>2752.060059</td>\n",
       "      <td>2752.060059</td>\n",
       "      <td>3981020000</td>\n",
       "    </tr>\n",
       "    <tr>\n",
       "      <th>9</th>\n",
       "      <td>2019-06-03</td>\n",
       "      <td>2751.530029</td>\n",
       "      <td>2763.070068</td>\n",
       "      <td>2728.810059</td>\n",
       "      <td>2744.449951</td>\n",
       "      <td>2744.449951</td>\n",
       "      <td>3943810000</td>\n",
       "    </tr>\n",
       "    <tr>\n",
       "      <th>10</th>\n",
       "      <td>2019-06-04</td>\n",
       "      <td>2762.639893</td>\n",
       "      <td>2804.489990</td>\n",
       "      <td>2762.639893</td>\n",
       "      <td>2803.270020</td>\n",
       "      <td>2803.270020</td>\n",
       "      <td>3810430000</td>\n",
       "    </tr>\n",
       "    <tr>\n",
       "      <th>11</th>\n",
       "      <td>2019-06-05</td>\n",
       "      <td>2818.090088</td>\n",
       "      <td>2827.280029</td>\n",
       "      <td>2800.919922</td>\n",
       "      <td>2826.149902</td>\n",
       "      <td>2826.149902</td>\n",
       "      <td>3548830000</td>\n",
       "    </tr>\n",
       "    <tr>\n",
       "      <th>12</th>\n",
       "      <td>2019-06-06</td>\n",
       "      <td>2828.510010</td>\n",
       "      <td>2852.100098</td>\n",
       "      <td>2822.449951</td>\n",
       "      <td>2843.489990</td>\n",
       "      <td>2843.489990</td>\n",
       "      <td>3396410000</td>\n",
       "    </tr>\n",
       "    <tr>\n",
       "      <th>13</th>\n",
       "      <td>2019-06-07</td>\n",
       "      <td>2852.870117</td>\n",
       "      <td>2884.969971</td>\n",
       "      <td>2852.870117</td>\n",
       "      <td>2873.340088</td>\n",
       "      <td>2873.340088</td>\n",
       "      <td>3220250000</td>\n",
       "    </tr>\n",
       "    <tr>\n",
       "      <th>14</th>\n",
       "      <td>2019-06-10</td>\n",
       "      <td>2885.830078</td>\n",
       "      <td>2904.770020</td>\n",
       "      <td>2885.510010</td>\n",
       "      <td>2886.729980</td>\n",
       "      <td>2886.729980</td>\n",
       "      <td>3209210000</td>\n",
       "    </tr>\n",
       "    <tr>\n",
       "      <th>15</th>\n",
       "      <td>2019-06-11</td>\n",
       "      <td>2903.270020</td>\n",
       "      <td>2910.610107</td>\n",
       "      <td>2878.530029</td>\n",
       "      <td>2885.719971</td>\n",
       "      <td>2885.719971</td>\n",
       "      <td>3548420000</td>\n",
       "    </tr>\n",
       "    <tr>\n",
       "      <th>16</th>\n",
       "      <td>2019-06-12</td>\n",
       "      <td>2882.729980</td>\n",
       "      <td>2888.570068</td>\n",
       "      <td>2874.679932</td>\n",
       "      <td>2879.840088</td>\n",
       "      <td>2879.840088</td>\n",
       "      <td>3034130000</td>\n",
       "    </tr>\n",
       "    <tr>\n",
       "      <th>17</th>\n",
       "      <td>2019-06-13</td>\n",
       "      <td>2886.239990</td>\n",
       "      <td>2895.239990</td>\n",
       "      <td>2881.989990</td>\n",
       "      <td>2891.639893</td>\n",
       "      <td>2891.639893</td>\n",
       "      <td>3069810000</td>\n",
       "    </tr>\n",
       "    <tr>\n",
       "      <th>18</th>\n",
       "      <td>2019-06-14</td>\n",
       "      <td>2886.820068</td>\n",
       "      <td>2894.449951</td>\n",
       "      <td>2879.620117</td>\n",
       "      <td>2886.979980</td>\n",
       "      <td>2886.979980</td>\n",
       "      <td>2922330000</td>\n",
       "    </tr>\n",
       "    <tr>\n",
       "      <th>19</th>\n",
       "      <td>2019-06-17</td>\n",
       "      <td>2889.750000</td>\n",
       "      <td>2897.270020</td>\n",
       "      <td>2887.300049</td>\n",
       "      <td>2889.669922</td>\n",
       "      <td>2889.669922</td>\n",
       "      <td>1579314342</td>\n",
       "    </tr>\n",
       "  </tbody>\n",
       "</table>\n",
       "</div>"
      ],
      "text/plain": [
       "          Date         Open         High          Low        Close  \\\n",
       "0   2019-05-20  2841.939941  2853.860107  2831.290039  2840.229980   \n",
       "1   2019-05-21  2854.020020  2868.879883  2854.020020  2864.360107   \n",
       "2   2019-05-22  2856.060059  2865.469971  2851.110107  2856.270020   \n",
       "3   2019-05-23  2836.699951  2836.699951  2805.489990  2822.239990   \n",
       "4   2019-05-24  2832.409912  2841.360107  2820.189941  2826.060059   \n",
       "5   2019-05-28  2830.030029  2840.510010  2801.580078  2802.389893   \n",
       "6   2019-05-29  2790.250000  2792.030029  2766.060059  2783.020020   \n",
       "7   2019-05-30  2786.939941  2799.000000  2776.739990  2788.860107   \n",
       "8   2019-05-31  2766.149902  2768.979980  2750.520020  2752.060059   \n",
       "9   2019-06-03  2751.530029  2763.070068  2728.810059  2744.449951   \n",
       "10  2019-06-04  2762.639893  2804.489990  2762.639893  2803.270020   \n",
       "11  2019-06-05  2818.090088  2827.280029  2800.919922  2826.149902   \n",
       "12  2019-06-06  2828.510010  2852.100098  2822.449951  2843.489990   \n",
       "13  2019-06-07  2852.870117  2884.969971  2852.870117  2873.340088   \n",
       "14  2019-06-10  2885.830078  2904.770020  2885.510010  2886.729980   \n",
       "15  2019-06-11  2903.270020  2910.610107  2878.530029  2885.719971   \n",
       "16  2019-06-12  2882.729980  2888.570068  2874.679932  2879.840088   \n",
       "17  2019-06-13  2886.239990  2895.239990  2881.989990  2891.639893   \n",
       "18  2019-06-14  2886.820068  2894.449951  2879.620117  2886.979980   \n",
       "19  2019-06-17  2889.750000  2897.270020  2887.300049  2889.669922   \n",
       "\n",
       "      Adj Close      Volume  \n",
       "0   2840.229980  3288870000  \n",
       "1   2864.360107  3218700000  \n",
       "2   2856.270020  3192510000  \n",
       "3   2822.239990  3891980000  \n",
       "4   2826.060059  2887390000  \n",
       "5   2802.389893  4121410000  \n",
       "6   2783.020020  3700050000  \n",
       "7   2788.860107  3273790000  \n",
       "8   2752.060059  3981020000  \n",
       "9   2744.449951  3943810000  \n",
       "10  2803.270020  3810430000  \n",
       "11  2826.149902  3548830000  \n",
       "12  2843.489990  3396410000  \n",
       "13  2873.340088  3220250000  \n",
       "14  2886.729980  3209210000  \n",
       "15  2885.719971  3548420000  \n",
       "16  2879.840088  3034130000  \n",
       "17  2891.639893  3069810000  \n",
       "18  2886.979980  2922330000  \n",
       "19  2889.669922  1579314342  "
      ]
     },
     "execution_count": 51,
     "metadata": {},
     "output_type": "execute_result"
    }
   ],
   "source": [
    "stock"
   ]
  },
  {
   "cell_type": "code",
   "execution_count": 52,
   "metadata": {},
   "outputs": [
    {
     "data": {
      "text/plain": [
       "(20, 7)"
      ]
     },
     "execution_count": 52,
     "metadata": {},
     "output_type": "execute_result"
    }
   ],
   "source": [
    "arr = numpy.array(stock)\n",
    "arr.shape"
   ]
  },
  {
   "cell_type": "code",
   "execution_count": 53,
   "metadata": {},
   "outputs": [
    {
     "data": {
      "text/plain": [
       "array([['2019-05-20', 2841.939941, 2853.860107, 2831.290039, 2840.22998,\n",
       "        2840.22998, 3288870000],\n",
       "       ['2019-05-21', 2854.02002, 2868.8798829999996, 2854.02002,\n",
       "        2864.360107, 2864.360107, 3218700000],\n",
       "       ['2019-05-22', 2856.060059, 2865.469971, 2851.110107, 2856.27002,\n",
       "        2856.27002, 3192510000],\n",
       "       ['2019-05-23', 2836.699951, 2836.699951, 2805.48999, 2822.23999,\n",
       "        2822.23999, 3891980000],\n",
       "       ['2019-05-24', 2832.409912, 2841.360107, 2820.189941, 2826.060059,\n",
       "        2826.060059, 2887390000],\n",
       "       ['2019-05-28', 2830.030029, 2840.51001, 2801.580078, 2802.389893,\n",
       "        2802.389893, 4121410000],\n",
       "       ['2019-05-29', 2790.25, 2792.030029, 2766.060059, 2783.02002,\n",
       "        2783.02002, 3700050000],\n",
       "       ['2019-05-30', 2786.939941, 2799.0, 2776.73999, 2788.860107,\n",
       "        2788.860107, 3273790000],\n",
       "       ['2019-05-31', 2766.149902, 2768.97998, 2750.52002, 2752.060059,\n",
       "        2752.060059, 3981020000],\n",
       "       ['2019-06-03', 2751.530029, 2763.070068, 2728.810059, 2744.449951,\n",
       "        2744.449951, 3943810000],\n",
       "       ['2019-06-04', 2762.639893, 2804.48999, 2762.639893, 2803.27002,\n",
       "        2803.27002, 3810430000],\n",
       "       ['2019-06-05', 2818.090088, 2827.280029, 2800.919922, 2826.149902,\n",
       "        2826.149902, 3548830000],\n",
       "       ['2019-06-06', 2828.51001, 2852.100098, 2822.449951, 2843.48999,\n",
       "        2843.48999, 3396410000],\n",
       "       ['2019-06-07', 2852.8701170000004, 2884.969971,\n",
       "        2852.8701170000004, 2873.340088, 2873.340088, 3220250000],\n",
       "       ['2019-06-10', 2885.830078, 2904.77002, 2885.51001, 2886.72998,\n",
       "        2886.72998, 3209210000],\n",
       "       ['2019-06-11', 2903.27002, 2910.610107, 2878.530029, 2885.719971,\n",
       "        2885.719971, 3548420000],\n",
       "       ['2019-06-12', 2882.72998, 2888.570068, 2874.679932, 2879.840088,\n",
       "        2879.840088, 3034130000],\n",
       "       ['2019-06-13', 2886.23999, 2895.23999, 2881.98999, 2891.639893,\n",
       "        2891.639893, 3069810000],\n",
       "       ['2019-06-14', 2886.820068, 2894.449951, 2879.6201170000004,\n",
       "        2886.97998, 2886.97998, 2922330000],\n",
       "       ['2019-06-17', 2889.75, 2897.27002, 2887.300049, 2889.669922,\n",
       "        2889.669922, 1579314342]], dtype=object)"
      ]
     },
     "execution_count": 53,
     "metadata": {},
     "output_type": "execute_result"
    }
   ],
   "source": [
    "arr"
   ]
  },
  {
   "cell_type": "code",
   "execution_count": 54,
   "metadata": {},
   "outputs": [
    {
     "data": {
      "text/plain": [
       "array(['2019-05-20', 2841.939941, 2853.860107, 2831.290039, 2840.22998,\n",
       "       2840.22998, 3288870000], dtype=object)"
      ]
     },
     "execution_count": 54,
     "metadata": {},
     "output_type": "execute_result"
    }
   ],
   "source": [
    "arr[0]"
   ]
  },
  {
   "cell_type": "code",
   "execution_count": 55,
   "metadata": {},
   "outputs": [
    {
     "data": {
      "text/plain": [
       "'2019-05-20'"
      ]
     },
     "execution_count": 55,
     "metadata": {},
     "output_type": "execute_result"
    }
   ],
   "source": [
    "arr[0,0]"
   ]
  },
  {
   "cell_type": "code",
   "execution_count": 58,
   "metadata": {},
   "outputs": [
    {
     "data": {
      "text/plain": [
       "array(['2019-05-21', 2854.02002, 2868.8798829999996, 2854.02002,\n",
       "       2864.360107, 2864.360107, 3218700000], dtype=object)"
      ]
     },
     "execution_count": 58,
     "metadata": {},
     "output_type": "execute_result"
    }
   ],
   "source": [
    "arr[0, :]"
   ]
  },
  {
   "cell_type": "code",
   "execution_count": 57,
   "metadata": {},
   "outputs": [
    {
     "data": {
      "text/plain": [
       "array([2841.939941, 2854.02002, 2856.060059, 2836.699951, 2832.409912,\n",
       "       2830.030029, 2790.25, 2786.939941, 2766.149902, 2751.530029,\n",
       "       2762.639893, 2818.090088, 2828.51001, 2852.8701170000004,\n",
       "       2885.830078, 2903.27002, 2882.72998, 2886.23999, 2886.820068,\n",
       "       2889.75], dtype=object)"
      ]
     },
     "execution_count": 57,
     "metadata": {},
     "output_type": "execute_result"
    }
   ],
   "source": [
    "\n",
    "arr[: ,1]"
   ]
  },
  {
   "cell_type": "code",
   "execution_count": 59,
   "metadata": {},
   "outputs": [
    {
     "data": {
      "text/plain": [
       "array(['2019-05-21', 2854.02002, 2868.8798829999996, 2854.02002,\n",
       "       2864.360107, 2864.360107, 3218700000], dtype=object)"
      ]
     },
     "execution_count": 59,
     "metadata": {},
     "output_type": "execute_result"
    }
   ],
   "source": [
    "arr[1, :]"
   ]
  },
  {
   "cell_type": "code",
   "execution_count": 60,
   "metadata": {},
   "outputs": [
    {
     "data": {
      "text/plain": [
       "array([2840.22998, 2864.360107, 2856.27002, 2822.23999, 2826.060059,\n",
       "       2802.389893, 2783.02002, 2788.860107, 2752.060059, 2744.449951,\n",
       "       2803.27002, 2826.149902, 2843.48999, 2873.340088, 2886.72998,\n",
       "       2885.719971, 2879.840088, 2891.639893, 2886.97998, 2889.669922],\n",
       "      dtype=object)"
      ]
     },
     "execution_count": 60,
     "metadata": {},
     "output_type": "execute_result"
    }
   ],
   "source": [
    "close = arr[:, -3]\n",
    "close"
   ]
  },
  {
   "cell_type": "code",
   "execution_count": 61,
   "metadata": {},
   "outputs": [
    {
     "data": {
      "text/plain": [
       "array([[2841.939941, 2853.860107, 2831.290039, 2840.22998],\n",
       "       [2854.02002, 2868.8798829999996, 2854.02002, 2864.360107],\n",
       "       [2856.060059, 2865.469971, 2851.110107, 2856.27002],\n",
       "       [2836.699951, 2836.699951, 2805.48999, 2822.23999],\n",
       "       [2832.409912, 2841.360107, 2820.189941, 2826.060059],\n",
       "       [2830.030029, 2840.51001, 2801.580078, 2802.389893],\n",
       "       [2790.25, 2792.030029, 2766.060059, 2783.02002],\n",
       "       [2786.939941, 2799.0, 2776.73999, 2788.860107],\n",
       "       [2766.149902, 2768.97998, 2750.52002, 2752.060059],\n",
       "       [2751.530029, 2763.070068, 2728.810059, 2744.449951],\n",
       "       [2762.639893, 2804.48999, 2762.639893, 2803.27002],\n",
       "       [2818.090088, 2827.280029, 2800.919922, 2826.149902],\n",
       "       [2828.51001, 2852.100098, 2822.449951, 2843.48999],\n",
       "       [2852.8701170000004, 2884.969971, 2852.8701170000004, 2873.340088],\n",
       "       [2885.830078, 2904.77002, 2885.51001, 2886.72998],\n",
       "       [2903.27002, 2910.610107, 2878.530029, 2885.719971],\n",
       "       [2882.72998, 2888.570068, 2874.679932, 2879.840088],\n",
       "       [2886.23999, 2895.23999, 2881.98999, 2891.639893],\n",
       "       [2886.820068, 2894.449951, 2879.6201170000004, 2886.97998],\n",
       "       [2889.75, 2897.27002, 2887.300049, 2889.669922]], dtype=object)"
      ]
     },
     "execution_count": 61,
     "metadata": {},
     "output_type": "execute_result"
    }
   ],
   "source": [
    "arr[:, 1:5]"
   ]
  },
  {
   "cell_type": "code",
   "execution_count": null,
   "metadata": {},
   "outputs": [],
   "source": [
    "#open의 최대/최소/평균 구하기\n",
    "#내장함수: import 없이 바로 사용가능한 함수\n",
    "max(o), min(o), numpy.max(o), numpy.min(o), numpy.mean(o), numpy.median(o), numpy.std(o)"
   ]
  },
  {
   "cell_type": "code",
   "execution_count": 62,
   "metadata": {},
   "outputs": [
    {
     "data": {
      "text/plain": [
       "array([[2841.939941, 2853.860107, 2831.290039, 2840.22998],\n",
       "       [2854.02002, 2868.8798829999996, 2854.02002, 2864.360107],\n",
       "       [2856.060059, 2865.469971, 2851.110107, 2856.27002],\n",
       "       [2836.699951, 2836.699951, 2805.48999, 2822.23999],\n",
       "       [2832.409912, 2841.360107, 2820.189941, 2826.060059],\n",
       "       [2830.030029, 2840.51001, 2801.580078, 2802.389893],\n",
       "       [2790.25, 2792.030029, 2766.060059, 2783.02002],\n",
       "       [2786.939941, 2799.0, 2776.73999, 2788.860107],\n",
       "       [2766.149902, 2768.97998, 2750.52002, 2752.060059],\n",
       "       [2751.530029, 2763.070068, 2728.810059, 2744.449951],\n",
       "       [2762.639893, 2804.48999, 2762.639893, 2803.27002],\n",
       "       [2818.090088, 2827.280029, 2800.919922, 2826.149902],\n",
       "       [2828.51001, 2852.100098, 2822.449951, 2843.48999],\n",
       "       [2852.8701170000004, 2884.969971, 2852.8701170000004, 2873.340088],\n",
       "       [2885.830078, 2904.77002, 2885.51001, 2886.72998],\n",
       "       [2903.27002, 2910.610107, 2878.530029, 2885.719971],\n",
       "       [2882.72998, 2888.570068, 2874.679932, 2879.840088],\n",
       "       [2886.23999, 2895.23999, 2881.98999, 2891.639893],\n",
       "       [2886.820068, 2894.449951, 2879.6201170000004, 2886.97998],\n",
       "       [2889.75, 2897.27002, 2887.300049, 2889.669922]], dtype=object)"
      ]
     },
     "execution_count": 62,
     "metadata": {},
     "output_type": "execute_result"
    }
   ],
   "source": [
    "v4 = arr[:, 1:5]\n",
    "v4"
   ]
  },
  {
   "cell_type": "code",
   "execution_count": 63,
   "metadata": {},
   "outputs": [
    {
     "data": {
      "text/plain": [
       "array([2903.27002, 2910.610107, 2887.300049, 2891.639893], dtype=object)"
      ]
     },
     "execution_count": 63,
     "metadata": {},
     "output_type": "execute_result"
    }
   ],
   "source": [
    "numpy.max(v4, axis=0)"
   ]
  },
  {
   "cell_type": "code",
   "execution_count": 66,
   "metadata": {},
   "outputs": [
    {
     "ename": "NameError",
     "evalue": "name 'o' is not defined",
     "output_type": "error",
     "traceback": [
      "\u001b[1;31m---------------------------------------------------------------------------\u001b[0m",
      "\u001b[1;31mNameError\u001b[0m                                 Traceback (most recent call last)",
      "\u001b[1;32m<ipython-input-66-9c9bf1ff2a43>\u001b[0m in \u001b[0;36m<module>\u001b[1;34m\u001b[0m\n\u001b[0;32m      1\u001b[0m \u001b[1;31m#arg_max\u001b[0m\u001b[1;33m\u001b[0m\u001b[1;33m\u001b[0m\u001b[1;33m\u001b[0m\u001b[0m\n\u001b[1;32m----> 2\u001b[1;33m \u001b[0mnumpy\u001b[0m\u001b[1;33m.\u001b[0m\u001b[0mmax\u001b[0m\u001b[1;33m(\u001b[0m\u001b[0mo\u001b[0m\u001b[1;33m)\u001b[0m\u001b[1;33m,\u001b[0m \u001b[0mnumpy\u001b[0m\u001b[1;33m.\u001b[0m\u001b[0margmax\u001b[0m\u001b[1;33m(\u001b[0m\u001b[1;36m0\u001b[0m\u001b[1;33m)\u001b[0m\u001b[1;33m\u001b[0m\u001b[1;33m\u001b[0m\u001b[0m\n\u001b[0m",
      "\u001b[1;31mNameError\u001b[0m: name 'o' is not defined"
     ]
    }
   ],
   "source": [
    "#arg_max\n"
   ]
  },
  {
   "cell_type": "code",
   "execution_count": 70,
   "metadata": {},
   "outputs": [
    {
     "data": {
      "text/plain": [
       "'2019-06-04'"
      ]
     },
     "execution_count": 70,
     "metadata": {},
     "output_type": "execute_result"
    }
   ],
   "source": [
    "day = arr[:, 0]\n",
    "close = arr[:, -3]\n",
    "open_v = arr[:, 1]\n",
    "gap = (close-open_v)\n",
    "day[numpy.argmax(gap)]"
   ]
  },
  {
   "cell_type": "code",
   "execution_count": 71,
   "metadata": {},
   "outputs": [
    {
     "data": {
      "text/plain": [
       "10"
      ]
     },
     "execution_count": 71,
     "metadata": {},
     "output_type": "execute_result"
    }
   ],
   "source": [
    "numpy.argmax(gap)"
   ]
  },
  {
   "cell_type": "code",
   "execution_count": null,
   "metadata": {},
   "outputs": [],
   "source": [
    "전날 가격이 상승하면 담날은 어케?"
   ]
  },
  {
   "cell_type": "code",
   "execution_count": null,
   "metadata": {},
   "outputs": [],
   "source": [
    "다음 단계: 예측\n",
    "    -어제와 오늘 현황 분석이 끝났는데 내일은 open/close가 어케될까?\n",
    "    -방법: 통계, 머신러닝"
   ]
  },
  {
   "cell_type": "code",
   "execution_count": 72,
   "metadata": {},
   "outputs": [],
   "source": [
    "#가격상승하는 날 거래량이 많아질까?\n",
    "#가격 상승한 날의 거래량/ 가격 하락한 날의 거래량\n",
    "close_v = arr[:, -3]\n",
    "open_v = arr[:, 1]\n",
    "vol = arr[:, -1]\n",
    "gap = close_v - open_v"
   ]
  },
  {
   "cell_type": "code",
   "execution_count": 74,
   "metadata": {},
   "outputs": [
    {
     "data": {
      "text/plain": [
       "array([False,  True, False,  True])"
      ]
     },
     "execution_count": 74,
     "metadata": {},
     "output_type": "execute_result"
    }
   ],
   "source": [
    "a = numpy.array([1,2,3,4])\n",
    "even = a%2 ==0 #짝수값만 뽑고 싶다\n",
    "even #불린 마스크"
   ]
  },
  {
   "cell_type": "code",
   "execution_count": 75,
   "metadata": {},
   "outputs": [
    {
     "data": {
      "text/plain": [
       "array([2, 4])"
      ]
     },
     "execution_count": 75,
     "metadata": {},
     "output_type": "execute_result"
    }
   ],
   "source": [
    "#불린 마스크를 인덱스로 사용하면 True값만 뽑힘\n",
    "a[even]"
   ]
  },
  {
   "cell_type": "code",
   "execution_count": 77,
   "metadata": {},
   "outputs": [
    {
     "data": {
      "text/plain": [
       "(array([3218700000, 3192510000, 3273790000, 3810430000, 3548830000,\n",
       "        3396410000, 3220250000, 3209210000, 3069810000, 2922330000],\n",
       "       dtype=object),\n",
       " array([3288870000, 3891980000, 2887390000, 4121410000, 3700050000,\n",
       "        3981020000, 3943810000, 3548420000, 3034130000, 1579314342],\n",
       "       dtype=object))"
      ]
     },
     "execution_count": 77,
     "metadata": {},
     "output_type": "execute_result"
    }
   ],
   "source": [
    "#가격 상승한 날의 거래량\n",
    "vol[gap>0], vol[gap<0]"
   ]
  },
  {
   "cell_type": "code",
   "execution_count": 78,
   "metadata": {},
   "outputs": [
    {
     "data": {
      "text/plain": [
       "(3286227000.0, 3397639434.2)"
      ]
     },
     "execution_count": 78,
     "metadata": {},
     "output_type": "execute_result"
    }
   ],
   "source": [
    "#상승한 날의 거래량 평균\n",
    "numpy.mean(vol[gap>0]), numpy.mean(vol[gap<0])"
   ]
  },
  {
   "cell_type": "code",
   "execution_count": 79,
   "metadata": {},
   "outputs": [],
   "source": [
    "a = numpy.array([1,2,3])"
   ]
  },
  {
   "cell_type": "code",
   "execution_count": 80,
   "metadata": {},
   "outputs": [
    {
     "data": {
      "text/plain": [
       "(array([1, 2, 3]), dtype('int32'), (3,))"
      ]
     },
     "execution_count": 80,
     "metadata": {},
     "output_type": "execute_result"
    }
   ],
   "source": [
    "a, a.dtype, a.shape"
   ]
  },
  {
   "cell_type": "code",
   "execution_count": 83,
   "metadata": {},
   "outputs": [
    {
     "data": {
      "text/plain": [
       "array([[[0, 0, 0, 0],\n",
       "        [0, 0, 0, 0],\n",
       "        [0, 0, 0, 0]],\n",
       "\n",
       "       [[0, 0, 0, 0],\n",
       "        [0, 0, 0, 0],\n",
       "        [0, 0, 0, 0]]])"
      ]
     },
     "execution_count": 83,
     "metadata": {},
     "output_type": "execute_result"
    }
   ],
   "source": [
    "numpy.zeros(shape = (2,3,4), dtype = numpy.int32)"
   ]
  },
  {
   "cell_type": "code",
   "execution_count": 84,
   "metadata": {},
   "outputs": [
    {
     "data": {
      "text/plain": [
       "array([[[1, 1, 1, 1],\n",
       "        [1, 1, 1, 1]],\n",
       "\n",
       "       [[1, 1, 1, 1],\n",
       "        [1, 1, 1, 1]],\n",
       "\n",
       "       [[1, 1, 1, 1],\n",
       "        [1, 1, 1, 1]]])"
      ]
     },
     "execution_count": 84,
     "metadata": {},
     "output_type": "execute_result"
    }
   ],
   "source": [
    "numpy.ones(shape = (3,2,4), dtype = numpy.int32)"
   ]
  },
  {
   "cell_type": "code",
   "execution_count": 85,
   "metadata": {},
   "outputs": [
    {
     "data": {
      "text/plain": [
       "array([[[1, 1],\n",
       "        [1, 1],\n",
       "        [1, 1]],\n",
       "\n",
       "       [[1, 1],\n",
       "        [1, 1],\n",
       "        [1, 1]],\n",
       "\n",
       "       [[1, 1],\n",
       "        [1, 1],\n",
       "        [1, 1]],\n",
       "\n",
       "       [[1, 1],\n",
       "        [1, 1],\n",
       "        [1, 1]]])"
      ]
     },
     "execution_count": 85,
     "metadata": {},
     "output_type": "execute_result"
    }
   ],
   "source": [
    "numpy.ones(shape = (4,3,2), dtype = numpy.int32)"
   ]
  },
  {
   "cell_type": "code",
   "execution_count": 86,
   "metadata": {},
   "outputs": [
    {
     "data": {
      "text/plain": [
       "array([[[1],\n",
       "        [1],\n",
       "        [1],\n",
       "        [1]],\n",
       "\n",
       "       [[1],\n",
       "        [1],\n",
       "        [1],\n",
       "        [1]],\n",
       "\n",
       "       [[1],\n",
       "        [1],\n",
       "        [1],\n",
       "        [1]]])"
      ]
     },
     "execution_count": 86,
     "metadata": {},
     "output_type": "execute_result"
    }
   ],
   "source": [
    "numpy.ones(shape = (3,4,1), dtype = numpy.int32)"
   ]
  },
  {
   "cell_type": "code",
   "execution_count": 87,
   "metadata": {},
   "outputs": [
    {
     "data": {
      "text/plain": [
       "array([[1., 0., 0., 0.],\n",
       "       [0., 1., 0., 0.],\n",
       "       [0., 0., 1., 0.],\n",
       "       [0., 0., 0., 1.]])"
      ]
     },
     "execution_count": 87,
     "metadata": {},
     "output_type": "execute_result"
    }
   ],
   "source": [
    "numpy.eye(4)"
   ]
  },
  {
   "cell_type": "code",
   "execution_count": 88,
   "metadata": {},
   "outputs": [
    {
     "data": {
      "text/plain": [
       "array([0, 3, 6, 9])"
      ]
     },
     "execution_count": 88,
     "metadata": {},
     "output_type": "execute_result"
    }
   ],
   "source": [
    "numpy.arange(0, 10, 3)"
   ]
  },
  {
   "cell_type": "code",
   "execution_count": 89,
   "metadata": {},
   "outputs": [
    {
     "data": {
      "text/plain": [
       "array([ 1.  ,  3.25,  5.5 ,  7.75, 10.  ])"
      ]
     },
     "execution_count": 89,
     "metadata": {},
     "output_type": "execute_result"
    }
   ],
   "source": [
    "numpy.linspace(1,10,5) #시작값, 끝값, x등분"
   ]
  },
  {
   "cell_type": "code",
   "execution_count": 90,
   "metadata": {},
   "outputs": [
    {
     "data": {
      "text/plain": [
       "array([[ 0.51093591,  1.26027098,  0.11239415],\n",
       "       [-1.01243018,  0.85842529, -0.39520168]])"
      ]
     },
     "execution_count": 90,
     "metadata": {},
     "output_type": "execute_result"
    }
   ],
   "source": [
    "numpy.random.normal(size=(2,3))"
   ]
  },
  {
   "cell_type": "code",
   "execution_count": 91,
   "metadata": {},
   "outputs": [
    {
     "data": {
      "text/plain": [
       "array([[4, 3, 5],\n",
       "       [1, 2, 7]])"
      ]
     },
     "execution_count": 91,
     "metadata": {},
     "output_type": "execute_result"
    }
   ],
   "source": [
    "numpy.random.randint(low=1, high=10, size=(2,3))"
   ]
  },
  {
   "cell_type": "code",
   "execution_count": 92,
   "metadata": {},
   "outputs": [
    {
     "data": {
      "text/plain": [
       "array([[0.22527395, 0.642521  , 0.11991755],\n",
       "       [0.50195729, 0.84468358, 0.79847058]])"
      ]
     },
     "execution_count": 92,
     "metadata": {},
     "output_type": "execute_result"
    }
   ],
   "source": [
    "numpy.random.uniform(size=(2,3))"
   ]
  },
  {
   "cell_type": "code",
   "execution_count": null,
   "metadata": {},
   "outputs": [],
   "source": [
    "numpy.random"
   ]
  },
  {
   "cell_type": "code",
   "execution_count": 94,
   "metadata": {},
   "outputs": [
    {
     "data": {
      "text/plain": [
       "array([[0, 1, 2],\n",
       "       [3, 4, 5],\n",
       "       [6, 7, 8]])"
      ]
     },
     "execution_count": 94,
     "metadata": {},
     "output_type": "execute_result"
    }
   ],
   "source": [
    "a = numpy.arange(9).reshape((3,3))\n",
    "a"
   ]
  },
  {
   "cell_type": "code",
   "execution_count": 115,
   "metadata": {},
   "outputs": [
    {
     "name": "stdout",
     "output_type": "stream",
     "text": [
      "[1 4 7]\n",
      "[6 7 8]\n",
      "[1 2 4 5 7 8]\n",
      "[4 5 7 8]\n"
     ]
    }
   ],
   "source": [
    "print(a[:,1])\n",
    "print(a[2, :])\n",
    "print(a[:, 1:].flatten())\n",
    "print(a[1:, 1:].flatten())"
   ]
  },
  {
   "cell_type": "code",
   "execution_count": 102,
   "metadata": {},
   "outputs": [
    {
     "data": {
      "text/plain": [
       "array([[ 0,  1,  2,  3],\n",
       "       [ 4,  5,  6,  7],\n",
       "       [ 8,  9, 10, 11]])"
      ]
     },
     "execution_count": 102,
     "metadata": {},
     "output_type": "execute_result"
    }
   ],
   "source": [
    "b = numpy.arange(12).reshape((3,4))\n",
    "b"
   ]
  },
  {
   "cell_type": "code",
   "execution_count": 108,
   "metadata": {},
   "outputs": [
    {
     "data": {
      "text/plain": [
       "array([ 5,  6,  9, 10])"
      ]
     },
     "execution_count": 108,
     "metadata": {},
     "output_type": "execute_result"
    }
   ],
   "source": [
    "b[1:, 1:3].flatten()"
   ]
  },
  {
   "cell_type": "code",
   "execution_count": 109,
   "metadata": {},
   "outputs": [
    {
     "data": {
      "text/plain": [
       "array([ 9, 10, 11])"
      ]
     },
     "execution_count": 109,
     "metadata": {},
     "output_type": "execute_result"
    }
   ],
   "source": [
    "b[2:, 1:4].flatten()"
   ]
  },
  {
   "cell_type": "code",
   "execution_count": 111,
   "metadata": {},
   "outputs": [
    {
     "data": {
      "text/plain": [
       "array([[[ 0,  1,  2,  3],\n",
       "        [ 4,  5,  6,  7],\n",
       "        [ 8,  9, 10, 11]],\n",
       "\n",
       "       [[12, 13, 14, 15],\n",
       "        [16, 17, 18, 19],\n",
       "        [20, 21, 22, 23]]])"
      ]
     },
     "execution_count": 111,
     "metadata": {},
     "output_type": "execute_result"
    }
   ],
   "source": [
    "c= numpy.arange(2*3*4).reshape((2,3,4))\n",
    "c"
   ]
  },
  {
   "cell_type": "code",
   "execution_count": 112,
   "metadata": {},
   "outputs": [
    {
     "data": {
      "text/plain": [
       "array([0, 1, 2, 3])"
      ]
     },
     "execution_count": 112,
     "metadata": {},
     "output_type": "execute_result"
    }
   ],
   "source": [
    "c[0,0, :]"
   ]
  },
  {
   "cell_type": "code",
   "execution_count": 116,
   "metadata": {},
   "outputs": [
    {
     "data": {
      "text/plain": [
       "(array([12, 13, 14, 15]), array([1, 5, 9]), array([15, 19, 23]))"
      ]
     },
     "execution_count": 116,
     "metadata": {},
     "output_type": "execute_result"
    }
   ],
   "source": [
    "c[1, 0, :], c[0, :, 1], c[1, :, -1]"
   ]
  },
  {
   "cell_type": "code",
   "execution_count": 126,
   "metadata": {},
   "outputs": [
    {
     "data": {
      "text/plain": [
       "(array([ 6, 10]), array([17, 18, 19]), array([13, 14, 17, 18]))"
      ]
     },
     "execution_count": 126,
     "metadata": {},
     "output_type": "execute_result"
    }
   ],
   "source": [
    "c[0, 1: , 2 ], c[1, 1, 1:4], c[1, 0:2, 1:3].flatten()"
   ]
  },
  {
   "cell_type": "code",
   "execution_count": 127,
   "metadata": {},
   "outputs": [
    {
     "data": {
      "text/plain": [
       "(2, 3, 4)"
      ]
     },
     "execution_count": 127,
     "metadata": {},
     "output_type": "execute_result"
    }
   ],
   "source": [
    "c.shape"
   ]
  },
  {
   "cell_type": "code",
   "execution_count": 132,
   "metadata": {},
   "outputs": [
    {
     "data": {
      "text/plain": [
       "(array([[ 0,  1,  2,  3],\n",
       "        [ 4,  5,  6,  7],\n",
       "        [ 8,  9, 10, 11],\n",
       "        [12, 13, 14, 15],\n",
       "        [16, 17, 18, 19],\n",
       "        [20, 21, 22, 23]]), array([[ 0,  1,  2,  3,  4,  5,  6,  7],\n",
       "        [ 8,  9, 10, 11, 12, 13, 14, 15],\n",
       "        [16, 17, 18, 19, 20, 21, 22, 23]]))"
      ]
     },
     "execution_count": 132,
     "metadata": {},
     "output_type": "execute_result"
    }
   ],
   "source": [
    "c.reshape((6,4)), numpy.reshape(c, (3,8))"
   ]
  },
  {
   "cell_type": "code",
   "execution_count": 131,
   "metadata": {},
   "outputs": [
    {
     "data": {
      "text/plain": [
       "array([[ 0,  1,  2,  3,  4,  5,  6,  7,  8,  9, 10, 11],\n",
       "       [12, 13, 14, 15, 16, 17, 18, 19, 20, 21, 22, 23]])"
      ]
     },
     "execution_count": 131,
     "metadata": {},
     "output_type": "execute_result"
    }
   ],
   "source": [
    "c.reshape((2,-1)) #-1은 매직num, 알아서 맞춰라"
   ]
  },
  {
   "cell_type": "code",
   "execution_count": 135,
   "metadata": {},
   "outputs": [
    {
     "data": {
      "text/plain": [
       "(array([[0, 1, 2],\n",
       "        [3, 4, 5]]), array([[ 6,  7,  8],\n",
       "        [ 9, 10, 11]]))"
      ]
     },
     "execution_count": 135,
     "metadata": {},
     "output_type": "execute_result"
    }
   ],
   "source": [
    "a = numpy.arange(6).reshape(2,3)\n",
    "b = numpy.arange(6,12).reshape(2,3)\n",
    "a,b"
   ]
  },
  {
   "cell_type": "code",
   "execution_count": 137,
   "metadata": {},
   "outputs": [
    {
     "data": {
      "text/plain": [
       "array([[ 0,  1,  2],\n",
       "       [ 3,  4,  5],\n",
       "       [ 6,  7,  8],\n",
       "       [ 9, 10, 11],\n",
       "       [ 0,  1,  2],\n",
       "       [ 3,  4,  5],\n",
       "       [ 6,  7,  8],\n",
       "       [ 9, 10, 11]])"
      ]
     },
     "execution_count": 137,
     "metadata": {},
     "output_type": "execute_result"
    }
   ],
   "source": [
    "#배열연결하기\n",
    "numpy.concatenate((a,b,a,b,), axis=0)"
   ]
  },
  {
   "cell_type": "code",
   "execution_count": 140,
   "metadata": {},
   "outputs": [
    {
     "data": {
      "text/plain": [
       "array([[ 0,  1,  2],\n",
       "       [ 3,  4,  5],\n",
       "       [ 6,  7,  8],\n",
       "       [ 9, 10, 11],\n",
       "       [ 0,  1,  2],\n",
       "       [ 3,  4,  5]])"
      ]
     },
     "execution_count": 140,
     "metadata": {},
     "output_type": "execute_result"
    }
   ],
   "source": [
    "c = numpy.concatenate((a,b,a), axis=0)\n",
    "c"
   ]
  },
  {
   "cell_type": "code",
   "execution_count": 141,
   "metadata": {},
   "outputs": [
    {
     "data": {
      "text/plain": [
       "array([[[ 0,  1,  2],\n",
       "        [ 3,  4,  5]],\n",
       "\n",
       "       [[ 6,  7,  8],\n",
       "        [ 9, 10, 11]],\n",
       "\n",
       "       [[ 0,  1,  2],\n",
       "        [ 3,  4,  5]]])"
      ]
     },
     "execution_count": 141,
     "metadata": {},
     "output_type": "execute_result"
    }
   ],
   "source": [
    "numpy.stack((a,b,a), axis = 0)"
   ]
  },
  {
   "cell_type": "code",
   "execution_count": 142,
   "metadata": {},
   "outputs": [
    {
     "data": {
      "text/plain": [
       "array([[[ 0,  1,  2],\n",
       "        [ 6,  7,  8],\n",
       "        [ 0,  1,  2]],\n",
       "\n",
       "       [[ 3,  4,  5],\n",
       "        [ 9, 10, 11],\n",
       "        [ 3,  4,  5]]])"
      ]
     },
     "execution_count": 142,
     "metadata": {},
     "output_type": "execute_result"
    }
   ],
   "source": [
    "numpy.stack((a,b,a), axis = 1) #쌓이면 차원이 1증가"
   ]
  },
  {
   "cell_type": "code",
   "execution_count": 143,
   "metadata": {},
   "outputs": [
    {
     "data": {
      "text/plain": [
       "(array([[0, 1, 2],\n",
       "        [3, 4, 5]]), array([[ 6,  7,  8],\n",
       "        [ 9, 10, 11]]), array([[ 0,  1,  2],\n",
       "        [ 3,  4,  5],\n",
       "        [ 6,  7,  8],\n",
       "        [ 9, 10, 11],\n",
       "        [ 0,  1,  2],\n",
       "        [ 3,  4,  5]]))"
      ]
     },
     "execution_count": 143,
     "metadata": {},
     "output_type": "execute_result"
    }
   ],
   "source": [
    "a,b,c"
   ]
  },
  {
   "cell_type": "code",
   "execution_count": 144,
   "metadata": {},
   "outputs": [
    {
     "data": {
      "text/plain": [
       "array([[[ 0,  6,  0],\n",
       "        [ 1,  7,  1],\n",
       "        [ 2,  8,  2]],\n",
       "\n",
       "       [[ 3,  9,  3],\n",
       "        [ 4, 10,  4],\n",
       "        [ 5, 11,  5]]])"
      ]
     },
     "execution_count": 144,
     "metadata": {},
     "output_type": "execute_result"
    }
   ],
   "source": [
    "numpy.stack((a,b,a), axis = 2)"
   ]
  },
  {
   "cell_type": "code",
   "execution_count": 145,
   "metadata": {},
   "outputs": [
    {
     "data": {
      "text/plain": [
       "(array([[0, 1, 2],\n",
       "        [3, 4, 5]]), array([[ 6,  7,  8],\n",
       "        [ 9, 10, 11]]), array([[0, 1, 2],\n",
       "        [3, 4, 5]]))"
      ]
     },
     "execution_count": 145,
     "metadata": {},
     "output_type": "execute_result"
    }
   ],
   "source": [
    "a, b, a"
   ]
  },
  {
   "cell_type": "code",
   "execution_count": 5,
   "metadata": {},
   "outputs": [
    {
     "data": {
      "text/plain": [
       "array([[80, 70, 20],\n",
       "       [90, 50, 30],\n",
       "       [99, 60, 40]])"
      ]
     },
     "execution_count": 5,
     "metadata": {},
     "output_type": "execute_result"
    }
   ],
   "source": [
    "kor = [80,90,99]\n",
    "eng = [70,50,60]\n",
    "math = [20,30,40]\n",
    "score = numpy.stack((kor, eng, math), axis=1)\n",
    "score"
   ]
  },
  {
   "cell_type": "code",
   "execution_count": 6,
   "metadata": {},
   "outputs": [
    {
     "data": {
      "text/plain": [
       "(array([[20],\n",
       "        [30],\n",
       "        [40]]), array([[80],\n",
       "        [90],\n",
       "        [99]]), array([[70],\n",
       "        [50],\n",
       "        [60]]))"
      ]
     },
     "execution_count": 6,
     "metadata": {},
     "output_type": "execute_result"
    }
   ],
   "source": [
    "#스택쓰면 차원이 늘어남, 스택스지말고 concatenate사용\n",
    "math = numpy.array([20,30,40]).reshape((3,1))\n",
    "kor = numpy.array([80,90,99]).reshape((3,1))\n",
    "eng = numpy.array([70, 50, 60]).reshape((3,1))\n",
    "math, kor, eng"
   ]
  },
  {
   "cell_type": "code",
   "execution_count": 7,
   "metadata": {},
   "outputs": [],
   "source": [
    "score = numpy.concatenate((kor, eng, math), axis=1)"
   ]
  },
  {
   "cell_type": "code",
   "execution_count": 8,
   "metadata": {},
   "outputs": [
    {
     "data": {
      "text/plain": [
       "89.66666666666667"
      ]
     },
     "execution_count": 8,
     "metadata": {},
     "output_type": "execute_result"
    }
   ],
   "source": [
    "numpy.max(numpy.mean(score, axis=0))"
   ]
  },
  {
   "cell_type": "code",
   "execution_count": 9,
   "metadata": {},
   "outputs": [
    {
     "data": {
      "text/plain": [
       "array([[80, 70, 20],\n",
       "       [90, 50, 30],\n",
       "       [99, 60, 40]])"
      ]
     },
     "execution_count": 9,
     "metadata": {},
     "output_type": "execute_result"
    }
   ],
   "source": [
    "score"
   ]
  },
  {
   "cell_type": "code",
   "execution_count": 10,
   "metadata": {},
   "outputs": [],
   "source": [
    "numpy.savetxt('score_sample.txt',score, '%d') #배열을 텍스트 형태로 저장"
   ]
  },
  {
   "cell_type": "code",
   "execution_count": 11,
   "metadata": {},
   "outputs": [
    {
     "data": {
      "text/plain": [
       "array([[80., 70., 20.],\n",
       "       [90., 50., 30.],\n",
       "       [99., 60., 40.]])"
      ]
     },
     "execution_count": 11,
     "metadata": {},
     "output_type": "execute_result"
    }
   ],
   "source": [
    "s = numpy.loadtxt('score_sample.txt')\n",
    "s"
   ]
  },
  {
   "cell_type": "code",
   "execution_count": 12,
   "metadata": {},
   "outputs": [
    {
     "data": {
      "text/plain": [
       "array([[20., 70., 80.],\n",
       "       [30., 50., 90.],\n",
       "       [40., 60., 99.]])"
      ]
     },
     "execution_count": 12,
     "metadata": {},
     "output_type": "execute_result"
    }
   ],
   "source": [
    "s[:, ::-1] #시작부터 끝까지 거꾸로"
   ]
  },
  {
   "cell_type": "code",
   "execution_count": 13,
   "metadata": {},
   "outputs": [
    {
     "data": {
      "text/plain": [
       "array([[80., 20.],\n",
       "       [90., 30.],\n",
       "       [99., 40.]])"
      ]
     },
     "execution_count": 13,
     "metadata": {},
     "output_type": "execute_result"
    }
   ],
   "source": [
    "s[:, ::2]"
   ]
  },
  {
   "cell_type": "code",
   "execution_count": 14,
   "metadata": {},
   "outputs": [
    {
     "data": {
      "text/plain": [
       "array([0, 1, 2, 3, 4, 5, 6, 7, 8, 9])"
      ]
     },
     "execution_count": 14,
     "metadata": {},
     "output_type": "execute_result"
    }
   ],
   "source": [
    "a = numpy.arange(10)\n",
    "a"
   ]
  },
  {
   "cell_type": "code",
   "execution_count": 15,
   "metadata": {},
   "outputs": [
    {
     "data": {
      "text/plain": [
       "array([0, 3, 6, 9])"
      ]
     },
     "execution_count": 15,
     "metadata": {},
     "output_type": "execute_result"
    }
   ],
   "source": [
    "a[::3]"
   ]
  },
  {
   "cell_type": "code",
   "execution_count": 16,
   "metadata": {},
   "outputs": [
    {
     "data": {
      "text/plain": [
       "(array([0, 2, 4, 6, 8]), array([1, 3, 5, 7, 9]))"
      ]
     },
     "execution_count": 16,
     "metadata": {},
     "output_type": "execute_result"
    }
   ],
   "source": [
    "a[::2], a[1::2]#시작위치찍고 2칸씩 건너뛰면서 찍음"
   ]
  },
  {
   "cell_type": "code",
   "execution_count": 18,
   "metadata": {},
   "outputs": [
    {
     "data": {
      "text/plain": [
       "array([2, 3, 4, 5])"
      ]
     },
     "execution_count": 18,
     "metadata": {},
     "output_type": "execute_result"
    }
   ],
   "source": [
    "a[2:6:1] #2번째 위지 찍고 6번째 위치까지 2칸씩 건너뛰면서 찍음"
   ]
  },
  {
   "cell_type": "code",
   "execution_count": 19,
   "metadata": {},
   "outputs": [
    {
     "data": {
      "text/plain": [
       "array([0, 1, 2, 3, 4, 5, 6, 7, 8, 9])"
      ]
     },
     "execution_count": 19,
     "metadata": {},
     "output_type": "execute_result"
    }
   ],
   "source": [
    "a[::] #시작은 0, 마지막은 끝자리, 갭은 1씩"
   ]
  },
  {
   "cell_type": "code",
   "execution_count": 20,
   "metadata": {},
   "outputs": [
    {
     "data": {
      "text/plain": [
       "[array([0]), array([1, 2, 3, 4, 5, 6]), array([7, 8, 9])]"
      ]
     },
     "execution_count": 20,
     "metadata": {},
     "output_type": "execute_result"
    }
   ],
   "source": [
    "numpy.split(a,[1,7])"
   ]
  },
  {
   "cell_type": "code",
   "execution_count": 21,
   "metadata": {},
   "outputs": [
    {
     "data": {
      "text/plain": [
       "[array([0, 1, 2, 3, 4]), array([5, 6, 7, 8, 9])]"
      ]
     },
     "execution_count": 21,
     "metadata": {},
     "output_type": "execute_result"
    }
   ],
   "source": [
    "numpy.split(a,2)"
   ]
  },
  {
   "cell_type": "code",
   "execution_count": 22,
   "metadata": {},
   "outputs": [
    {
     "data": {
      "text/plain": [
       "array([ 0,  2,  4,  6,  8, 10, 12, 14, 16, 18])"
      ]
     },
     "execution_count": 22,
     "metadata": {},
     "output_type": "execute_result"
    }
   ],
   "source": [
    "#브로드캐스팅, 배열의 모양이 다르지만 연산을 가능케해줌\n",
    "a*2 #브로드캐스팅"
   ]
  },
  {
   "cell_type": "code",
   "execution_count": 23,
   "metadata": {},
   "outputs": [],
   "source": [
    "b = numpy.array([0,1,2])"
   ]
  },
  {
   "cell_type": "code",
   "execution_count": 25,
   "metadata": {},
   "outputs": [
    {
     "data": {
      "text/plain": [
       "((10,), (3,))"
      ]
     },
     "execution_count": 25,
     "metadata": {},
     "output_type": "execute_result"
    }
   ],
   "source": [
    "a.shape, b.shape"
   ]
  },
  {
   "cell_type": "code",
   "execution_count": 35,
   "metadata": {},
   "outputs": [
    {
     "data": {
      "text/plain": [
       "array([[ 0],\n",
       "       [10],\n",
       "       [20],\n",
       "       [30]])"
      ]
     },
     "execution_count": 35,
     "metadata": {},
     "output_type": "execute_result"
    }
   ],
   "source": [
    "a = numpy.array([[0],[10],[20],[30]])\n",
    "a"
   ]
  },
  {
   "cell_type": "code",
   "execution_count": 30,
   "metadata": {},
   "outputs": [
    {
     "data": {
      "text/plain": [
       "array([0, 1, 2])"
      ]
     },
     "execution_count": 30,
     "metadata": {},
     "output_type": "execute_result"
    }
   ],
   "source": [
    "b"
   ]
  },
  {
   "cell_type": "code",
   "execution_count": 36,
   "metadata": {},
   "outputs": [
    {
     "data": {
      "text/plain": [
       "array([[ 0,  1,  2],\n",
       "       [10, 11, 12],\n",
       "       [20, 21, 22],\n",
       "       [30, 31, 32]])"
      ]
     },
     "execution_count": 36,
     "metadata": {},
     "output_type": "execute_result"
    }
   ],
   "source": [
    "b = numpy.array([0,1,2])\n",
    "a+b"
   ]
  },
  {
   "cell_type": "code",
   "execution_count": 37,
   "metadata": {},
   "outputs": [],
   "source": [
    "a = numpy.arange(4)*10\n",
    "a = a.reshape([-1,1])\n",
    "b = numpy.arange(3)\n",
    "#a.shape, b.shape"
   ]
  },
  {
   "cell_type": "code",
   "execution_count": 38,
   "metadata": {},
   "outputs": [
    {
     "data": {
      "text/plain": [
       "array([[ 0,  1,  2],\n",
       "       [10, 11, 12],\n",
       "       [20, 21, 22],\n",
       "       [30, 31, 32]])"
      ]
     },
     "execution_count": 38,
     "metadata": {},
     "output_type": "execute_result"
    }
   ],
   "source": [
    "a+b"
   ]
  },
  {
   "cell_type": "code",
   "execution_count": 39,
   "metadata": {},
   "outputs": [
    {
     "data": {
      "text/plain": [
       "array([0, 1, 2, 3, 4, 5, 6, 7, 8, 9])"
      ]
     },
     "execution_count": 39,
     "metadata": {},
     "output_type": "execute_result"
    }
   ],
   "source": [
    "a = numpy.arange(10)\n",
    "a"
   ]
  },
  {
   "cell_type": "code",
   "execution_count": 40,
   "metadata": {},
   "outputs": [
    {
     "data": {
      "text/plain": [
       "array([False, False, False, False, False, False,  True,  True,  True,\n",
       "        True])"
      ]
     },
     "execution_count": 40,
     "metadata": {},
     "output_type": "execute_result"
    }
   ],
   "source": [
    "a >5"
   ]
  },
  {
   "cell_type": "code",
   "execution_count": 42,
   "metadata": {},
   "outputs": [
    {
     "data": {
      "text/plain": [
       "array([False, False, False,  True,  True,  True,  True,  True,  True,\n",
       "        True])"
      ]
     },
     "execution_count": 42,
     "metadata": {},
     "output_type": "execute_result"
    }
   ],
   "source": [
    "mask = a>2\n",
    "mask"
   ]
  },
  {
   "cell_type": "code",
   "execution_count": 43,
   "metadata": {},
   "outputs": [
    {
     "data": {
      "text/plain": [
       "array([3, 4, 5, 6, 7, 8, 9])"
      ]
     },
     "execution_count": 43,
     "metadata": {},
     "output_type": "execute_result"
    }
   ],
   "source": [
    "a[mask] #true 값만 출력"
   ]
  },
  {
   "cell_type": "code",
   "execution_count": 44,
   "metadata": {},
   "outputs": [
    {
     "data": {
      "text/plain": [
       "array([False, False, False,  True,  True,  True,  True,  True,  True,\n",
       "        True])"
      ]
     },
     "execution_count": 44,
     "metadata": {},
     "output_type": "execute_result"
    }
   ],
   "source": [
    "numpy.logical_and(mask, mask)"
   ]
  },
  {
   "cell_type": "code",
   "execution_count": 45,
   "metadata": {},
   "outputs": [
    {
     "data": {
      "text/plain": [
       "array([ True,  True,  True, False, False, False, False, False, False,\n",
       "       False])"
      ]
     },
     "execution_count": 45,
     "metadata": {},
     "output_type": "execute_result"
    }
   ],
   "source": [
    "numpy.logical_not(mask, mask)"
   ]
  },
  {
   "cell_type": "code",
   "execution_count": 46,
   "metadata": {},
   "outputs": [
    {
     "data": {
      "text/plain": [
       "array([0, 1, 2, 3, 4, 5, 6, 7, 8, 9])"
      ]
     },
     "execution_count": 46,
     "metadata": {},
     "output_type": "execute_result"
    }
   ],
   "source": [
    "a"
   ]
  },
  {
   "cell_type": "code",
   "execution_count": 47,
   "metadata": {},
   "outputs": [
    {
     "data": {
      "text/plain": [
       "(array([ True, False,  True, False,  True, False,  True, False,  True,\n",
       "        False]),\n",
       " array([False, False, False,  True,  True,  True,  True,  True,  True,\n",
       "         True]))"
      ]
     },
     "execution_count": 47,
     "metadata": {},
     "output_type": "execute_result"
    }
   ],
   "source": [
    "mask0 = a%2 ==0\n",
    "mask1 = a>2\n",
    "mask0, mask1"
   ]
  },
  {
   "cell_type": "code",
   "execution_count": 48,
   "metadata": {},
   "outputs": [
    {
     "data": {
      "text/plain": [
       "array([0, 1, 2])"
      ]
     },
     "execution_count": 48,
     "metadata": {},
     "output_type": "execute_result"
    }
   ],
   "source": [
    "a[mask]"
   ]
  },
  {
   "cell_type": "code",
   "execution_count": 50,
   "metadata": {},
   "outputs": [
    {
     "data": {
      "text/plain": [
       "(20, 7)"
      ]
     },
     "execution_count": 50,
     "metadata": {},
     "output_type": "execute_result"
    }
   ],
   "source": [
    "import pandas\n",
    "stock = pandas.read_csv('^GSPC.csv')\n",
    "stock.shape"
   ]
  },
  {
   "cell_type": "code",
   "execution_count": 51,
   "metadata": {},
   "outputs": [
    {
     "data": {
      "text/plain": [
       "(20, 7)"
      ]
     },
     "execution_count": 51,
     "metadata": {},
     "output_type": "execute_result"
    }
   ],
   "source": [
    "arr = numpy.array(stock)#배열로 전환\n",
    "arr.shape"
   ]
  },
  {
   "cell_type": "code",
   "execution_count": 52,
   "metadata": {},
   "outputs": [
    {
     "data": {
      "text/plain": [
       "array([ True,  True,  True,  True,  True,  True,  True])"
      ]
     },
     "execution_count": 52,
     "metadata": {},
     "output_type": "execute_result"
    }
   ],
   "source": [
    "arr[0] == arr[0, :]"
   ]
  },
  {
   "cell_type": "code",
   "execution_count": 57,
   "metadata": {},
   "outputs": [],
   "source": [
    "import numpy as np\n",
    "import pandas as pd"
   ]
  },
  {
   "cell_type": "code",
   "execution_count": 55,
   "metadata": {},
   "outputs": [
    {
     "data": {
      "text/plain": [
       "((252, 7), (251, 7))"
      ]
     },
     "execution_count": 55,
     "metadata": {},
     "output_type": "execute_result"
    }
   ],
   "source": [
    "df0 = pd.read_csv('^GSPC(1).csv')\n",
    "df1 = pd.read_csv('^GSPC(2).csv')\n",
    "df0.shape, df1.shape"
   ]
  },
  {
   "cell_type": "code",
   "execution_count": 58,
   "metadata": {},
   "outputs": [],
   "source": [
    "arr0 = np.array(df0)\n",
    "arr1 = np.array(df1)"
   ]
  },
  {
   "cell_type": "code",
   "execution_count": 59,
   "metadata": {},
   "outputs": [
    {
     "data": {
      "text/plain": [
       "(503, 7)"
      ]
     },
     "execution_count": 59,
     "metadata": {},
     "output_type": "execute_result"
    }
   ],
   "source": [
    "arr = np.concatenate((arr0,arr1), axis = 0)\n",
    "arr.shape"
   ]
  },
  {
   "cell_type": "code",
   "execution_count": 60,
   "metadata": {},
   "outputs": [
    {
     "data": {
      "text/plain": [
       "array(['2016-06-17', 2078.199951, 2078.199951, 2062.840088, 2071.219971,\n",
       "       2071.219971, 4952630000], dtype=object)"
      ]
     },
     "execution_count": 60,
     "metadata": {},
     "output_type": "execute_result"
    }
   ],
   "source": [
    "arr[0]"
   ]
  },
  {
   "cell_type": "code",
   "execution_count": null,
   "metadata": {},
   "outputs": [],
   "source": [
    "각컬럼의 평균값을 구합니다.\n",
    "가격변동이 가장 큰때가 언제인지 알고 싶다."
   ]
  },
  {
   "cell_type": "code",
   "execution_count": 62,
   "metadata": {},
   "outputs": [
    {
     "data": {
      "text/plain": [
       "array([2432.622780184892, 2441.2839775367784, 2423.295167232607,\n",
       "       2432.9676132664003, 2432.9676132664003, 3535890079.522863],\n",
       "      dtype=object)"
      ]
     },
     "execution_count": 62,
     "metadata": {},
     "output_type": "execute_result"
    }
   ],
   "source": [
    "np.mean(arr[ : ,1: ], axis=0)"
   ]
  },
  {
   "cell_type": "code",
   "execution_count": 66,
   "metadata": {},
   "outputs": [
    {
     "data": {
      "text/plain": [
       "array([[2078.199951, 2078.199951, 2062.840088, 2071.219971, 2071.219971,\n",
       "        4952630000],\n",
       "       [2075.580078, 2100.659912, 2075.580078, 2083.25, 2083.25,\n",
       "        3467440000],\n",
       "       [2085.189941, 2093.659912, 2083.02002, 2088.899902, 2088.899902,\n",
       "        3232880000],\n",
       "       ...,\n",
       "       [2787.939941, 2791.469971, 2774.649902, 2775.6298829999996,\n",
       "        2775.6298829999996, 3779230000],\n",
       "       [2783.209961, 2789.060059, 2776.52002, 2782.48999, 2782.48999,\n",
       "        3526890000],\n",
       "       [2777.780029, 2782.810059, 2761.72998, 2779.659912, 2779.659912,\n",
       "        5428790000]], dtype=object)"
      ]
     },
     "execution_count": 66,
     "metadata": {},
     "output_type": "execute_result"
    }
   ],
   "source": [
    "arr[ : ,1: ]"
   ]
  },
  {
   "cell_type": "code",
   "execution_count": 73,
   "metadata": {},
   "outputs": [
    {
     "data": {
      "text/plain": [
       "(104.01000999999997, '2018-02-08')"
      ]
     },
     "execution_count": 73,
     "metadata": {},
     "output_type": "execute_result"
    }
   ],
   "source": [
    "Close = arr[:,4]\n",
    "Open = arr[:,1]\n",
    "Gap = np.abs(Close - Open)\n",
    "index = np.argmax(Gap)\n",
    "np.max(Gap),arr[index,0]"
   ]
  },
  {
   "cell_type": "markdown",
   "metadata": {},
   "source": [
    "# 4장 기본 그래프 그리기"
   ]
  },
  {
   "cell_type": "code",
   "execution_count": 74,
   "metadata": {},
   "outputs": [],
   "source": [
    "import matplotlib.pyplot as plt"
   ]
  },
  {
   "cell_type": "code",
   "execution_count": 75,
   "metadata": {},
   "outputs": [
    {
     "data": {
      "text/plain": [
       "[<matplotlib.lines.Line2D at 0x1b3eb791b38>]"
      ]
     },
     "execution_count": 75,
     "metadata": {},
     "output_type": "execute_result"
    },
    {
     "data": {
      "image/png": "[encoded data removed]",
      "text/plain": [
       "<Figure size 432x288 with 1 Axes>"
      ]
     },
     "metadata": {
      "needs_background": "light"
     },
     "output_type": "display_data"
    }
   ],
   "source": [
    "plt.plot([10,20,30,40])"
   ]
  },
  {
   "cell_type": "code",
   "execution_count": 78,
   "metadata": {},
   "outputs": [
    {
     "data": {
      "text/plain": [
       "Text(0.5, 1.0, 'graph title')"
      ]
     },
     "execution_count": 78,
     "metadata": {},
     "output_type": "execute_result"
    },
    {
     "data": {
      "image/png": "[encoded data removed]",
      "text/plain": [
       "<Figure size 432x288 with 1 Axes>"
      ]
     },
     "metadata": {
      "needs_background": "light"
     },
     "output_type": "display_data"
    }
   ],
   "source": [
    "plt.plot([1,2,3,4,], [12,43,25,15]) #(x,y)\n",
    "plt.title('graph title')"
   ]
  },
  {
   "cell_type": "code",
   "execution_count": null,
   "metadata": {},
   "outputs": [],
   "source": [
    "plt.title('그래프 타이틀')"
   ]
  },
  {
   "cell_type": "code",
   "execution_count": 94,
   "metadata": {},
   "outputs": [
    {
     "data": {
      "text/plain": [
       "Text(0.5, 1.0, 'Graph Title')"
      ]
     },
     "execution_count": 94,
     "metadata": {},
     "output_type": "execute_result"
    },
    {
     "data": {
      "image/png": "[encoded data removed]",
      "text/plain": [
       "<Figure size 432x288 with 1 Axes>"
      ]
     },
     "metadata": {
      "needs_background": "light"
     },
     "output_type": "display_data"
    }
   ],
   "source": [
    "#한셀에서 여러번 Plot하면 그래프가 겹쳐집니다.\n",
    "plt.plot([1,2,3,4], [12,43,25,15], 'r.', label = 'A')#점으로 표기\n",
    "plt.plot([1,2,3,4], [20,44,55,10], label = 'B', color = 'red', linestyle = ':')\n",
    "plt.plot([1,2,3,4], [1,5,10,30], label = 'C', linestyle='--')\n",
    "plt.legend(loc = 1)\n",
    "plt.title(\"Graph Title\")"
   ]
  },
  {
   "cell_type": "code",
   "execution_count": 100,
   "metadata": {},
   "outputs": [
    {
     "data": {
      "text/plain": [
       "<matplotlib.legend.Legend at 0x1b3ed88c978>"
      ]
     },
     "execution_count": 100,
     "metadata": {},
     "output_type": "execute_result"
    },
    {
     "data": {
      "image/png": "[encoded data removed]",
      "text/plain": [
       "<Figure size 2880x720 with 1 Axes>"
      ]
     },
     "metadata": {
      "needs_background": "light"
     },
     "output_type": "display_data"
    }
   ],
   "source": [
    "Open = arr[:,1]\n",
    "High = arr[:,2]\n",
    "Low = arr[:, 3]\n",
    "Close = arr[:, 4]\n",
    "Vol = arr[:, -1]\n",
    "plt.figure(figsize=(40,10))\n",
    "plt.title('Dow Jones Industrial Average')\n",
    "plt.plot(Open, 'r.',label = 'open')\n",
    "plt.plot(High, label = 'high')\n",
    "plt.plot(Low, label = 'Low')\n",
    "plt.plot(Close, label = 'close')\n",
    "plt.legend()"
   ]
  },
  {
   "cell_type": "code",
   "execution_count": null,
   "metadata": {},
   "outputs": [],
   "source": []
  },
  {
   "cell_type": "code",
   "execution_count": null,
   "metadata": {},
   "outputs": [],
   "source": []
  },
  {
   "cell_type": "code",
   "execution_count": null,
   "metadata": {},
   "outputs": [],
   "source": []
  },
  {
   "cell_type": "code",
   "execution_count": null,
   "metadata": {},
   "outputs": [],
   "source": []
  },
  {
   "cell_type": "code",
   "execution_count": null,
   "metadata": {},
   "outputs": [],
   "source": []
  },
  {
   "cell_type": "code",
   "execution_count": null,
   "metadata": {},
   "outputs": [],
   "source": []
  }
 ],
 "metadata": {
  "kernelspec": {
   "display_name": "Python 3",
   "language": "python",
   "name": "python3"
  },
  "language_info": {
   "codemirror_mode": {
    "name": "ipython",
    "version": 3
   },
   "file_extension": ".py",
   "mimetype": "text/x-python",
   "name": "python",
   "nbconvert_exporter": "python",
   "pygments_lexer": "ipython3",
   "version": "3.7.3"
  }
 },
 "nbformat": 4,
 "nbformat_minor": 2
}
