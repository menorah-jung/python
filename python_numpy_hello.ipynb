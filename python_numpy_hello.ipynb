{
 "cells": [
  {
   "cell_type": "markdown",
   "metadata": {},
   "source": [
    "단축키\n",
    "-shift, ctrl, alr + Enter 단축키\n",
    "-ESC 커맨드 모드, Enter 편집 모드\n",
    "-X셀 지우기\n",
    "-ESC 누르고 M 마크다운, Y코드\n"
   ]
  },
  {
   "cell_type": "markdown",
   "metadata": {},
   "source": [
    "### 넘파이 Numpy(Numeric Python)\n",
    "수치데이터를 처리하는 라이브러리\n",
    "\n",
    "머신러닝을 하려면 모든 데이터는 수치로 변경되어야됨\n",
    "-이미지(흑백>흰색 255, 검은색 0)\n",
    "-컬러이미지(RGB, 빨간색(255,0,0)\n",
    "-혈액형 A,B,AB,O > (1,0,0,0), (0,1,0,0) (0,0,1,0) (0,0,0,1): 원핫 인코딩\n",
    "-자연어, 단어 > 숫자로 변환 Word2Vector\n"
   ]
  },
  {
   "cell_type": "code",
   "execution_count": 2,
   "metadata": {},
   "outputs": [
    {
     "data": {
      "text/plain": [
       "array([0, 1, 2, 3, 4, 5, 6, 7, 8])"
      ]
     },
     "execution_count": 2,
     "metadata": {},
     "output_type": "execute_result"
    }
   ],
   "source": [
    "import numpy as np #별칭\n",
    "np.arange(9) #배열생성"
   ]
  },
  {
   "cell_type": "code",
   "execution_count": 3,
   "metadata": {},
   "outputs": [
    {
     "name": "stdout",
     "output_type": "stream",
     "text": [
      "range는 연산에 사용 못함\n"
     ]
    }
   ],
   "source": [
    "#range는 연산에 사용못함\n",
    "try:\n",
    "    range(9) + range(9) #에러\n",
    "except:\n",
    "    print('range는 연산에 사용 못함')"
   ]
  },
  {
   "cell_type": "code",
   "execution_count": 5,
   "metadata": {},
   "outputs": [
    {
     "data": {
      "text/plain": [
       "((5,), 5, dtype('int32'), numpy.ndarray)"
      ]
     },
     "execution_count": 5,
     "metadata": {},
     "output_type": "execute_result"
    }
   ],
   "source": [
    "#list도 연산용으로 사용 불가\n",
    "x = np.array([1,2,3,4,5])\n",
    "x.shape, len(x), x.dtype, type(x) #정식 명칭(number of dimension)"
   ]
  },
  {
   "cell_type": "code",
   "execution_count": 6,
   "metadata": {},
   "outputs": [
    {
     "data": {
      "text/plain": [
       "array(0.6666667, dtype=float32)"
      ]
     },
     "execution_count": 6,
     "metadata": {},
     "output_type": "execute_result"
    }
   ],
   "source": [
    "x1 = np.array(2/3, dtype=np.float32)#단정밀도\n",
    "x2 = np.array(2/3, dtype=np.float64)#배정밀도\n",
    "x1"
   ]
  },
  {
   "cell_type": "code",
   "execution_count": 7,
   "metadata": {},
   "outputs": [
    {
     "data": {
      "text/plain": [
       "array(0.66666667)"
      ]
     },
     "execution_count": 7,
     "metadata": {},
     "output_type": "execute_result"
    }
   ],
   "source": [
    "x2"
   ]
  },
  {
   "cell_type": "code",
   "execution_count": null,
   "metadata": {},
   "outputs": [],
   "source": [
    "배열생성\n",
    "-list를 배열로 변환\n",
    "-np.arrange로 만들기\n",
    "-np.zeros\n",
    "-np.ones"
   ]
  },
  {
   "cell_type": "code",
   "execution_count": null,
   "metadata": {},
   "outputs": [],
   "source": []
  },
  {
   "cell_type": "code",
   "execution_count": null,
   "metadata": {},
   "outputs": [],
   "source": []
  },
  {
   "cell_type": "code",
   "execution_count": null,
   "metadata": {},
   "outputs": [],
   "source": []
  },
  {
   "cell_type": "code",
   "execution_count": null,
   "metadata": {},
   "outputs": [],
   "source": []
  },
  {
   "cell_type": "code",
   "execution_count": null,
   "metadata": {},
   "outputs": [],
   "source": []
  },
  {
   "cell_type": "code",
   "execution_count": null,
   "metadata": {},
   "outputs": [],
   "source": []
  },
  {
   "cell_type": "code",
   "execution_count": null,
   "metadata": {},
   "outputs": [],
   "source": []
  }
 ],
 "metadata": {
  "kernelspec": {
   "display_name": "Python 3",
   "language": "python",
   "name": "python3"
  },
  "language_info": {
   "codemirror_mode": {
    "name": "ipython",
    "version": 3
   },
   "file_extension": ".py",
   "mimetype": "text/x-python",
   "name": "python",
   "nbconvert_exporter": "python",
   "pygments_lexer": "ipython3",
   "version": "3.7.3"
  }
 },
 "nbformat": 4,
 "nbformat_minor": 2
}
